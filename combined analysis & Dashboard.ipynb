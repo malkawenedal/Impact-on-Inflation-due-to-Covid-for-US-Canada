{
 "cells": [
  {
   "cell_type": "markdown",
   "id": "5ee963fc",
   "metadata": {},
   "source": [
    "# Relationship between Covid cases and Inflation Rate in US & Canada "
   ]
  },
  {
   "cell_type": "markdown",
   "id": "e5051a0a",
   "metadata": {},
   "source": [
    "------------------------------------------------------------------------------------------------------------------------------------"
   ]
  },
  {
   "cell_type": "markdown",
   "id": "28e4e547",
   "metadata": {},
   "source": [
    "### In this notebook we will make a comparison betwen Canada and US in terms of the relationship between the confirmed  Covid cases across 3 years (2019-2022) and the inflation rate by claculating the average , rolling Statistics , correlation  and creating an interactive visualizations "
   ]
  },
  {
   "cell_type": "code",
   "execution_count": 57,
   "id": "35b5995d",
   "metadata": {},
   "outputs": [],
   "source": [
    "# Initial imports\n",
    "import panel as pn\n",
    "pn.extension('plotly')\n",
    "import plotly.express as px\n",
    "import pandas as pd\n",
    "import hvplot.pandas\n",
    "import matplotlib.pyplot as plt\n",
    "import os\n",
    "from pathlib import Path\n",
    "import seaborn as sns\n",
    "import pygal  \n",
    "from matplotlib.dates import MonthLocator, DateFormatter"
   ]
  },
  {
   "cell_type": "code",
   "execution_count": null,
   "id": "00bf6eba",
   "metadata": {},
   "outputs": [],
   "source": [
    "pip install pygal"
   ]
  },
  {
   "cell_type": "markdown",
   "id": "6ba2696a",
   "metadata": {},
   "source": [
    "## Load Data\n",
    "## In this section, we will  read the CSV file into DataFrame and perform any necessary data cleaning steps\n",
    "\n",
    "Files \n",
    "\n",
    "` US&CA Dataset.csv `    : contains the the covid cases across 3 years (2019-2022) for both US & CA as well as the inflation rate \n",
    "\n"
   ]
  },
  {
   "cell_type": "markdown",
   "id": "81172ca0",
   "metadata": {},
   "source": [
    "` covid19_confirmed_cases_US_CA ` : contains the confirmed covid cases in both US and Canada "
   ]
  },
  {
   "cell_type": "markdown",
   "id": "e067f736",
   "metadata": {},
   "source": [
    "` food_shelter_CA_US.csv ` : contians all the data regarding the food and shelter for both US and Canada \n"
   ]
  },
  {
   "cell_type": "code",
   "execution_count": 56,
   "id": "7c5f2449",
   "metadata": {},
   "outputs": [
    {
     "data": {
      "text/html": [
       "<div>\n",
       "<style scoped>\n",
       "    .dataframe tbody tr th:only-of-type {\n",
       "        vertical-align: middle;\n",
       "    }\n",
       "\n",
       "    .dataframe tbody tr th {\n",
       "        vertical-align: top;\n",
       "    }\n",
       "\n",
       "    .dataframe thead th {\n",
       "        text-align: right;\n",
       "    }\n",
       "</style>\n",
       "<table border=\"1\" class=\"dataframe\">\n",
       "  <thead>\n",
       "    <tr style=\"text-align: right;\">\n",
       "      <th></th>\n",
       "      <th>US Covid</th>\n",
       "      <th>Canada Covid</th>\n",
       "    </tr>\n",
       "    <tr>\n",
       "      <th>Months</th>\n",
       "      <th></th>\n",
       "      <th></th>\n",
       "    </tr>\n",
       "  </thead>\n",
       "  <tbody>\n",
       "    <tr>\n",
       "      <th>Jan-20</th>\n",
       "      <td>41</td>\n",
       "      <td>12</td>\n",
       "    </tr>\n",
       "    <tr>\n",
       "      <th>Feb-20</th>\n",
       "      <td>402</td>\n",
       "      <td>239</td>\n",
       "    </tr>\n",
       "    <tr>\n",
       "      <th>Mar-20</th>\n",
       "      <td>1121455</td>\n",
       "      <td>58816</td>\n",
       "    </tr>\n",
       "    <tr>\n",
       "      <th>Apr-20</th>\n",
       "      <td>19952115</td>\n",
       "      <td>977839</td>\n",
       "    </tr>\n",
       "    <tr>\n",
       "      <th>May-20</th>\n",
       "      <td>45532271</td>\n",
       "      <td>2392456</td>\n",
       "    </tr>\n",
       "  </tbody>\n",
       "</table>\n",
       "</div>"
      ],
      "text/plain": [
       "        US Covid  Canada Covid\n",
       "Months                        \n",
       "Jan-20        41            12\n",
       "Feb-20       402           239\n",
       "Mar-20   1121455         58816\n",
       "Apr-20  19952115        977839\n",
       "May-20  45532271       2392456"
      ]
     },
     "execution_count": 56,
     "metadata": {},
     "output_type": "execute_result"
    }
   ],
   "source": [
    "#Define the csvpath \n",
    "csv_inflation = Path(\"Resources/food_shelter_CA_US.csv\")\n",
    "dfmk=Path(\"Resources/US&CA Dataset.csv\")\n",
    "csv_covid = Path(\"Resources/covid19_confirmed_cases_US_CA.csv\")\n",
    "\n",
    "#Read in csvfile\n",
    "inflation_db = pd.read_csv(csv_inflation, index_col='Reference period', infer_datetime_format=True, parse_dates=True)\n",
    "combined_df=pd.read_csv(dfmk, index_col='Date', infer_datetime_format=True, parse_dates=True)\n",
    "covid_db = pd.read_csv(csv_covid, index_col='Months', infer_datetime_format=True, parse_dates=True)\n",
    "\n",
    "#display the Dataframes\n",
    "inflation_db.head()\n",
    "combined_df.head()\n",
    "covid_db.head()\n"
   ]
  },
  {
   "cell_type": "markdown",
   "id": "e594cf42",
   "metadata": {},
   "source": [
    "# Data Cleaning "
   ]
  },
  {
   "cell_type": "markdown",
   "id": "211ca664",
   "metadata": {},
   "source": [
    "### ` inflation dataframe `"
   ]
  },
  {
   "cell_type": "code",
   "execution_count": 58,
   "id": "f7a9b58c",
   "metadata": {},
   "outputs": [
    {
     "data": {
      "text/html": [
       "<div>\n",
       "<style scoped>\n",
       "    .dataframe tbody tr th:only-of-type {\n",
       "        vertical-align: middle;\n",
       "    }\n",
       "\n",
       "    .dataframe tbody tr th {\n",
       "        vertical-align: top;\n",
       "    }\n",
       "\n",
       "    .dataframe thead th {\n",
       "        text-align: right;\n",
       "    }\n",
       "</style>\n",
       "<table border=\"1\" class=\"dataframe\">\n",
       "  <thead>\n",
       "    <tr style=\"text-align: right;\">\n",
       "      <th></th>\n",
       "      <th>Months</th>\n",
       "      <th>Food_CA</th>\n",
       "      <th>Shelter_CA</th>\n",
       "      <th>Food_US</th>\n",
       "      <th>Shelter_US</th>\n",
       "    </tr>\n",
       "  </thead>\n",
       "  <tbody>\n",
       "    <tr>\n",
       "      <th>0</th>\n",
       "      <td>Jan-19</td>\n",
       "      <td>148.7</td>\n",
       "      <td>143.0</td>\n",
       "      <td>256.301</td>\n",
       "      <td>312.939</td>\n",
       "    </tr>\n",
       "    <tr>\n",
       "      <th>1</th>\n",
       "      <td>Feb-19</td>\n",
       "      <td>149.3</td>\n",
       "      <td>143.4</td>\n",
       "      <td>257.172</td>\n",
       "      <td>313.923</td>\n",
       "    </tr>\n",
       "    <tr>\n",
       "      <th>2</th>\n",
       "      <td>Mar-19</td>\n",
       "      <td>149.4</td>\n",
       "      <td>143.8</td>\n",
       "      <td>257.593</td>\n",
       "      <td>315.038</td>\n",
       "    </tr>\n",
       "    <tr>\n",
       "      <th>3</th>\n",
       "      <td>Apr-19</td>\n",
       "      <td>149.0</td>\n",
       "      <td>144.1</td>\n",
       "      <td>257.349</td>\n",
       "      <td>316.241</td>\n",
       "    </tr>\n",
       "    <tr>\n",
       "      <th>4</th>\n",
       "      <td>May-19</td>\n",
       "      <td>149.7</td>\n",
       "      <td>144.2</td>\n",
       "      <td>257.869</td>\n",
       "      <td>317.031</td>\n",
       "    </tr>\n",
       "  </tbody>\n",
       "</table>\n",
       "</div>"
      ],
      "text/plain": [
       "   Months  Food_CA  Shelter_CA  Food_US  Shelter_US\n",
       "0  Jan-19    148.7       143.0  256.301     312.939\n",
       "1  Feb-19    149.3       143.4  257.172     313.923\n",
       "2  Mar-19    149.4       143.8  257.593     315.038\n",
       "3  Apr-19    149.0       144.1  257.349     316.241\n",
       "4  May-19    149.7       144.2  257.869     317.031"
      ]
     },
     "execution_count": 58,
     "metadata": {},
     "output_type": "execute_result"
    }
   ],
   "source": [
    "#Rename the columns in inflation dataframe \n",
    "col_names = [\"Months\",\"Food_CA\", \"Shelter_CA\", \"Food_US\", \"Shelter_US\"]\n",
    "\n",
    "#Recreate the DataFrame\n",
    "inflation_db = pd.read_csv (csv_inflation)\n",
    "\n",
    "#add column names\n",
    "inflation_db.columns = col_names\n",
    "inflation_db.head()"
   ]
  },
  {
   "cell_type": "markdown",
   "id": "31dcd303",
   "metadata": {},
   "source": [
    "### ` covid dataframe `"
   ]
  },
  {
   "cell_type": "code",
   "execution_count": null,
   "id": "b5f199af",
   "metadata": {},
   "outputs": [],
   "source": [
    "#Rename the columns in covid_db Dataframe \n",
    "col_names = [\"Months\", \"US_Covid\", \"CA_Covid\"]\n",
    "\n",
    "#Recreate the DataFrame\n",
    "covid_db = pd.read_csv (csv_covid)\n",
    "\n",
    "#add column names\n",
    "covid_db.columns = col_names\n",
    "covid_db"
   ]
  },
  {
   "cell_type": "markdown",
   "id": "1de417a9",
   "metadata": {},
   "source": [
    "### ` combined dataframe `"
   ]
  },
  {
   "cell_type": "code",
   "execution_count": null,
   "id": "a7d12d2e",
   "metadata": {},
   "outputs": [],
   "source": [
    "#convert the date index to a date-time column, and then extract to a year/month column from Combined DataFrame \n",
    "years_months={'Date':combined_df.index}\n",
    "years_months_df=pd.DataFrame(years_months)\n",
    "years_months_df['Date'] = pd.to_datetime(years_months_df['Date'])\n",
    "years_months_df[\"Month & Year\"] = years_months_df['Date'].apply(lambda x: x.strftime('%B-%Y')) \n",
    "years_months_df.head()"
   ]
  },
  {
   "cell_type": "code",
   "execution_count": null,
   "id": "cac1325c",
   "metadata": {},
   "outputs": [],
   "source": [
    "# Count nulls\n",
    "inflation_db.isnull().sum()"
   ]
  },
  {
   "cell_type": "code",
   "execution_count": null,
   "id": "5f6ea148",
   "metadata": {},
   "outputs": [],
   "source": [
    "# Count nulls\n",
    "covid_db.isnull().sum()"
   ]
  },
  {
   "cell_type": "code",
   "execution_count": null,
   "id": "f3c767d1",
   "metadata": {},
   "outputs": [],
   "source": [
    "# Count nulls\n",
    "combined_df.isnull().sum()"
   ]
  },
  {
   "cell_type": "code",
   "execution_count": null,
   "id": "c8ed2213",
   "metadata": {},
   "outputs": [],
   "source": [
    "# Check Data Types\n",
    "combined_df.dtypes"
   ]
  },
  {
   "cell_type": "code",
   "execution_count": null,
   "id": "6d5918fc",
   "metadata": {},
   "outputs": [],
   "source": [
    "# Check Data Types\n",
    "covid_db.dtypes"
   ]
  },
  {
   "cell_type": "code",
   "execution_count": null,
   "id": "2ed51c74",
   "metadata": {},
   "outputs": [],
   "source": [
    "# Check Data Types\n",
    "inflation_db.dtypes"
   ]
  },
  {
   "cell_type": "markdown",
   "id": "8d73d5ac",
   "metadata": {},
   "source": [
    "#  Visualize the data using hvplot  Pandas plot function. \n"
   ]
  },
  {
   "cell_type": "markdown",
   "id": "b9f9c414",
   "metadata": {},
   "source": [
    "### ` inflation dataframe `"
   ]
  },
  {
   "cell_type": "code",
   "execution_count": 69,
   "id": "b8296deb",
   "metadata": {},
   "outputs": [
    {
     "data": {},
     "metadata": {},
     "output_type": "display_data"
    },
    {
     "data": {
      "application/vnd.holoviews_exec.v0+json": "",
      "text/html": [
       "<div id='4437'>\n",
       "\n",
       "\n",
       "\n",
       "\n",
       "\n",
       "  <div class=\"bk-root\" id=\"4db28423-d8c9-4f29-9005-ab35f1fa21a5\" data-root-id=\"4437\"></div>\n",
       "</div>\n",
       "<script type=\"application/javascript\">(function(root) {\n",
       "  function embed_document(root) {\n",
       "    var docs_json = {\"83651b34-7982-41cd-9de2-592d8aaf2336\":{\"defs\":[{\"extends\":null,\"module\":null,\"name\":\"ReactiveHTML1\",\"overrides\":[],\"properties\":[]},{\"extends\":null,\"module\":null,\"name\":\"FlexBox1\",\"overrides\":[],\"properties\":[{\"default\":\"flex-start\",\"kind\":null,\"name\":\"align_content\"},{\"default\":\"flex-start\",\"kind\":null,\"name\":\"align_items\"},{\"default\":\"row\",\"kind\":null,\"name\":\"flex_direction\"},{\"default\":\"wrap\",\"kind\":null,\"name\":\"flex_wrap\"},{\"default\":\"flex-start\",\"kind\":null,\"name\":\"justify_content\"}]},{\"extends\":null,\"module\":null,\"name\":\"TemplateActions1\",\"overrides\":[],\"properties\":[{\"default\":0,\"kind\":null,\"name\":\"open_modal\"},{\"default\":0,\"kind\":null,\"name\":\"close_modal\"}]},{\"extends\":null,\"module\":null,\"name\":\"MaterialTemplateActions1\",\"overrides\":[],\"properties\":[{\"default\":0,\"kind\":null,\"name\":\"open_modal\"},{\"default\":0,\"kind\":null,\"name\":\"close_modal\"}]}],\"roots\":{\"references\":[{\"attributes\":{},\"id\":\"4462\",\"type\":\"WheelZoomTool\"},{\"attributes\":{\"label\":{\"value\":\"Shelter_CA\"},\"renderers\":[{\"id\":\"4506\"}]},\"id\":\"4520\",\"type\":\"LegendItem\"},{\"attributes\":{\"line_color\":\"#fc4f30\",\"line_width\":2,\"x\":{\"field\":\"index\"},\"y\":{\"field\":\"value\"}},\"id\":\"4521\",\"type\":\"Line\"},{\"attributes\":{\"bottom_units\":\"screen\",\"coordinates\":null,\"fill_alpha\":0.5,\"fill_color\":\"lightgrey\",\"group\":null,\"left_units\":\"screen\",\"level\":\"overlay\",\"line_alpha\":1.0,\"line_color\":\"black\",\"line_dash\":[4,4],\"line_width\":2,\"right_units\":\"screen\",\"syncable\":false,\"top_units\":\"screen\"},\"id\":\"4465\",\"type\":\"BoxAnnotation\"},{\"attributes\":{\"axis_label\":\" Shelter Canada\",\"coordinates\":null,\"formatter\":{\"id\":\"4477\"},\"group\":null,\"major_label_policy\":{\"id\":\"4478\"},\"ticker\":{\"id\":\"4457\"}},\"id\":\"4456\",\"type\":\"LinearAxis\"},{\"attributes\":{\"line_alpha\":0.2,\"line_color\":\"#fc4f30\",\"line_width\":2,\"x\":{\"field\":\"index\"},\"y\":{\"field\":\"value\"}},\"id\":\"4505\",\"type\":\"Line\"},{\"attributes\":{\"margin\":[5,5,5,5],\"name\":\"HSpacer07067\",\"sizing_mode\":\"stretch_width\"},\"id\":\"4438\",\"type\":\"Spacer\"},{\"attributes\":{\"line_alpha\":0.2,\"line_color\":\"#30a2da\",\"line_width\":2,\"x\":{\"field\":\"index\"},\"y\":{\"field\":\"value\"}},\"id\":\"4484\",\"type\":\"Line\"},{\"attributes\":{},\"id\":\"4457\",\"type\":\"BasicTicker\"},{\"attributes\":{},\"id\":\"4475\",\"type\":\"AllLabels\"},{\"attributes\":{\"overlay\":{\"id\":\"4465\"}},\"id\":\"4463\",\"type\":\"BoxZoomTool\"},{\"attributes\":{},\"id\":\"4474\",\"type\":\"BasicTickFormatter\"},{\"attributes\":{\"data\":{\"Variable\":[\"Shelter_CA\",\"Shelter_CA\",\"Shelter_CA\",\"Shelter_CA\",\"Shelter_CA\",\"Shelter_CA\",\"Shelter_CA\",\"Shelter_CA\",\"Shelter_CA\",\"Shelter_CA\",\"Shelter_CA\",\"Shelter_CA\",\"Shelter_CA\",\"Shelter_CA\",\"Shelter_CA\",\"Shelter_CA\",\"Shelter_CA\",\"Shelter_CA\",\"Shelter_CA\",\"Shelter_CA\",\"Shelter_CA\",\"Shelter_CA\",\"Shelter_CA\",\"Shelter_CA\",\"Shelter_CA\",\"Shelter_CA\",\"Shelter_CA\",\"Shelter_CA\",\"Shelter_CA\",\"Shelter_CA\",\"Shelter_CA\",\"Shelter_CA\",\"Shelter_CA\",\"Shelter_CA\",\"Shelter_CA\"],\"index\":[0,1,2,3,4,5,6,7,8,9,10,11,12,13,14,15,16,17,18,19,20,21,22,23,24,25,26,27,28,29,30,31,32,33,34],\"value\":{\"__ndarray__\":\"AAAAAADgYUDNzMzMzOxhQJqZmZmZ+WFAMzMzMzMDYkBmZmZmZgZiQAAAAAAAAGJAmpmZmZkJYkAzMzMzMxNiQJqZmZmZGWJAZmZmZmY2YkDNzMzMzDxiQJqZmZmZSWJAzczMzMxMYkBmZmZmZlZiQAAAAAAAUGJAAAAAAABAYkAzMzMzMzNiQM3MzMzMTGJAzczMzMxMYkCamZmZmVliQJqZmZmZaWJAmpmZmZmJYkBmZmZmZpZiQGZmZmZmlmJAzczMzMyMYkCamZmZmZliQAAAAAAAwGJAZmZmZmbWYkBmZmZmZvZiQJqZmZmZGWNAAAAAAAAwY0DNzMzMzDxjQM3MzMzMTGNAzczMzMxsY0DNzMzMzHxjQA==\",\"dtype\":\"float64\",\"order\":\"little\",\"shape\":[35]}},\"selected\":{\"id\":\"4501\"},\"selection_policy\":{\"id\":\"4517\"}},\"id\":\"4500\",\"type\":\"ColumnDataSource\"},{\"attributes\":{\"axis_label\":\"Food Canada \",\"coordinates\":null,\"formatter\":{\"id\":\"4474\"},\"group\":null,\"major_label_policy\":{\"id\":\"4475\"},\"ticker\":{\"id\":\"4453\"}},\"id\":\"4452\",\"type\":\"LinearAxis\"},{\"attributes\":{\"below\":[{\"id\":\"4452\"}],\"center\":[{\"id\":\"4455\"},{\"id\":\"4459\"}],\"height\":300,\"left\":[{\"id\":\"4456\"}],\"margin\":[5,5,5,5],\"min_border_bottom\":10,\"min_border_left\":10,\"min_border_right\":10,\"min_border_top\":10,\"renderers\":[{\"id\":\"4485\"},{\"id\":\"4506\"}],\"right\":[{\"id\":\"4497\"}],\"sizing_mode\":\"fixed\",\"title\":{\"id\":\"4444\"},\"toolbar\":{\"id\":\"4466\"},\"width\":700,\"x_range\":{\"id\":\"4439\"},\"x_scale\":{\"id\":\"4448\"},\"y_range\":{\"id\":\"4440\"},\"y_scale\":{\"id\":\"4450\"}},\"id\":\"4443\",\"subtype\":\"Figure\",\"type\":\"Plot\"},{\"attributes\":{\"source\":{\"id\":\"4479\"}},\"id\":\"4486\",\"type\":\"CDSView\"},{\"attributes\":{\"label\":{\"value\":\"Food_CA\"},\"renderers\":[{\"id\":\"4485\"}]},\"id\":\"4498\",\"type\":\"LegendItem\"},{\"attributes\":{\"line_color\":\"#30a2da\",\"line_width\":2,\"x\":{\"field\":\"index\"},\"y\":{\"field\":\"value\"}},\"id\":\"4499\",\"type\":\"Line\"},{\"attributes\":{},\"id\":\"4480\",\"type\":\"Selection\"},{\"attributes\":{\"axis\":{\"id\":\"4456\"},\"coordinates\":null,\"dimension\":1,\"grid_line_color\":null,\"group\":null,\"ticker\":null},\"id\":\"4459\",\"type\":\"Grid\"},{\"attributes\":{\"line_alpha\":0.1,\"line_color\":\"#fc4f30\",\"line_width\":2,\"x\":{\"field\":\"index\"},\"y\":{\"field\":\"value\"}},\"id\":\"4504\",\"type\":\"Line\"},{\"attributes\":{\"line_color\":\"#fc4f30\",\"line_width\":2,\"x\":{\"field\":\"index\"},\"y\":{\"field\":\"value\"}},\"id\":\"4503\",\"type\":\"Line\"},{\"attributes\":{\"end\":34.0,\"reset_end\":34.0,\"reset_start\":0.0,\"tags\":[[[\"index\",\"index\",null]]]},\"id\":\"4439\",\"type\":\"Range1d\"},{\"attributes\":{\"source\":{\"id\":\"4500\"}},\"id\":\"4507\",\"type\":\"CDSView\"},{\"attributes\":{\"coordinates\":null,\"data_source\":{\"id\":\"4500\"},\"glyph\":{\"id\":\"4503\"},\"group\":null,\"hover_glyph\":null,\"muted_glyph\":{\"id\":\"4505\"},\"nonselection_glyph\":{\"id\":\"4504\"},\"selection_glyph\":{\"id\":\"4521\"},\"view\":{\"id\":\"4507\"}},\"id\":\"4506\",\"type\":\"GlyphRenderer\"},{\"attributes\":{\"data\":{\"Variable\":[\"Food_CA\",\"Food_CA\",\"Food_CA\",\"Food_CA\",\"Food_CA\",\"Food_CA\",\"Food_CA\",\"Food_CA\",\"Food_CA\",\"Food_CA\",\"Food_CA\",\"Food_CA\",\"Food_CA\",\"Food_CA\",\"Food_CA\",\"Food_CA\",\"Food_CA\",\"Food_CA\",\"Food_CA\",\"Food_CA\",\"Food_CA\",\"Food_CA\",\"Food_CA\",\"Food_CA\",\"Food_CA\",\"Food_CA\",\"Food_CA\",\"Food_CA\",\"Food_CA\",\"Food_CA\",\"Food_CA\",\"Food_CA\",\"Food_CA\",\"Food_CA\",\"Food_CA\"],\"index\":[0,1,2,3,4,5,6,7,8,9,10,11,12,13,14,15,16,17,18,19,20,21,22,23,24,25,26,27,28,29,30,31,32,33,34],\"value\":{\"__ndarray__\":\"ZmZmZmaWYkCamZmZmaliQM3MzMzMrGJAAAAAAACgYkBmZmZmZrZiQGZmZmZm1mJAMzMzMzPzYkAzMzMzM+NiQGZmZmZmxmJAzczMzMy8YkAzMzMzM+NiQM3MzMzM/GJAAAAAAAAwY0DNzMzMzBxjQJqZmZmZGWNAAAAAAABAY0CamZmZmUljQJqZmZmZWWNAAAAAAABgY0CamZmZmTljQDMzMzMzE2NAmpmZmZkpY0DNzMzMzDxjQDMzMzMzM2NAAAAAAABgY0AzMzMzM3NjQAAAAAAAcGNAzczMzMxsY0AzMzMzM5NjQJqZmZmZmWNAMzMzMzOzY0AAAAAAAMBjQAAAAAAA0GNAZmZmZmbmY0BmZmZmZhZkQA==\",\"dtype\":\"float64\",\"order\":\"little\",\"shape\":[35]}},\"selected\":{\"id\":\"4480\"},\"selection_policy\":{\"id\":\"4494\"}},\"id\":\"4479\",\"type\":\"ColumnDataSource\"},{\"attributes\":{},\"id\":\"4453\",\"type\":\"BasicTicker\"},{\"attributes\":{},\"id\":\"4501\",\"type\":\"Selection\"},{\"attributes\":{\"line_color\":\"#30a2da\",\"line_width\":2,\"x\":{\"field\":\"index\"},\"y\":{\"field\":\"value\"}},\"id\":\"4482\",\"type\":\"Line\"},{\"attributes\":{},\"id\":\"4478\",\"type\":\"AllLabels\"},{\"attributes\":{\"coordinates\":null,\"group\":null,\"text\":\"The relationship betwene shlter and food in Canada\",\"text_color\":\"black\",\"text_font_size\":\"12pt\"},\"id\":\"4444\",\"type\":\"Title\"},{\"attributes\":{},\"id\":\"4461\",\"type\":\"PanTool\"},{\"attributes\":{\"axis\":{\"id\":\"4452\"},\"coordinates\":null,\"grid_line_color\":null,\"group\":null,\"ticker\":null},\"id\":\"4455\",\"type\":\"Grid\"},{\"attributes\":{\"line_alpha\":0.1,\"line_color\":\"#30a2da\",\"line_width\":2,\"x\":{\"field\":\"index\"},\"y\":{\"field\":\"value\"}},\"id\":\"4483\",\"type\":\"Line\"},{\"attributes\":{\"click_policy\":\"mute\",\"coordinates\":null,\"group\":null,\"items\":[{\"id\":\"4498\"},{\"id\":\"4520\"}],\"location\":[0,0],\"title\":\"Variable\"},\"id\":\"4497\",\"type\":\"Legend\"},{\"attributes\":{\"callback\":null,\"renderers\":[{\"id\":\"4485\"},{\"id\":\"4506\"}],\"tags\":[\"hv_created\"],\"tooltips\":[[\"Variable\",\"@{Variable}\"],[\"index\",\"@{index}\"],[\"value\",\"@{value}\"]]},\"id\":\"4441\",\"type\":\"HoverTool\"},{\"attributes\":{\"children\":[{\"id\":\"4438\"},{\"id\":\"4443\"},{\"id\":\"4630\"}],\"margin\":[0,0,0,0],\"name\":\"Row07063\",\"tags\":[\"embedded\"]},\"id\":\"4437\",\"type\":\"Row\"},{\"attributes\":{\"margin\":[5,5,5,5],\"name\":\"HSpacer07068\",\"sizing_mode\":\"stretch_width\"},\"id\":\"4630\",\"type\":\"Spacer\"},{\"attributes\":{},\"id\":\"4464\",\"type\":\"ResetTool\"},{\"attributes\":{},\"id\":\"4460\",\"type\":\"SaveTool\"},{\"attributes\":{},\"id\":\"4477\",\"type\":\"BasicTickFormatter\"},{\"attributes\":{\"tools\":[{\"id\":\"4441\"},{\"id\":\"4460\"},{\"id\":\"4461\"},{\"id\":\"4462\"},{\"id\":\"4463\"},{\"id\":\"4464\"}]},\"id\":\"4466\",\"type\":\"Toolbar\"},{\"attributes\":{\"end\":162.47,\"reset_end\":162.47,\"reset_start\":141.23,\"start\":141.23,\"tags\":[[[\"value\",\"value\",null]]]},\"id\":\"4440\",\"type\":\"Range1d\"},{\"attributes\":{\"coordinates\":null,\"data_source\":{\"id\":\"4479\"},\"glyph\":{\"id\":\"4482\"},\"group\":null,\"hover_glyph\":null,\"muted_glyph\":{\"id\":\"4484\"},\"nonselection_glyph\":{\"id\":\"4483\"},\"selection_glyph\":{\"id\":\"4499\"},\"view\":{\"id\":\"4486\"}},\"id\":\"4485\",\"type\":\"GlyphRenderer\"},{\"attributes\":{},\"id\":\"4494\",\"type\":\"UnionRenderers\"},{\"attributes\":{},\"id\":\"4450\",\"type\":\"LinearScale\"},{\"attributes\":{},\"id\":\"4517\",\"type\":\"UnionRenderers\"},{\"attributes\":{},\"id\":\"4448\",\"type\":\"LinearScale\"}],\"root_ids\":[\"4437\"]},\"title\":\"Bokeh Application\",\"version\":\"2.4.2\"}};\n",
       "    var render_items = [{\"docid\":\"83651b34-7982-41cd-9de2-592d8aaf2336\",\"root_ids\":[\"4437\"],\"roots\":{\"4437\":\"4db28423-d8c9-4f29-9005-ab35f1fa21a5\"}}];\n",
       "    root.Bokeh.embed.embed_items_notebook(docs_json, render_items);\n",
       "  }\n",
       "  if (root.Bokeh !== undefined && root.Bokeh.Panel !== undefined && ( root['Plotly'] !== undefined)) {\n",
       "    embed_document(root);\n",
       "  } else {\n",
       "    var attempts = 0;\n",
       "    var timer = setInterval(function(root) {\n",
       "      if (root.Bokeh !== undefined && root.Bokeh.Panel !== undefined && (root['Plotly'] !== undefined)) {\n",
       "        clearInterval(timer);\n",
       "        embed_document(root);\n",
       "      } else if (document.readyState == \"complete\") {\n",
       "        attempts++;\n",
       "        if (attempts > 200) {\n",
       "          clearInterval(timer);\n",
       "          console.log(\"Bokeh: ERROR: Unable to run BokehJS code because BokehJS library is missing\");\n",
       "        }\n",
       "      }\n",
       "    }, 25, root)\n",
       "  }\n",
       "})(window);</script>"
      ],
      "text/plain": [
       ":NdOverlay   [Variable]\n",
       "   :Curve   [index]   (value)"
      ]
     },
     "execution_count": 69,
     "metadata": {
      "application/vnd.holoviews_exec.v0+json": {
       "id": "4437"
      }
     },
     "output_type": "execute_result"
    }
   ],
   "source": [
    "# plot the inflation dataframe using hvplot\n",
    "inflation_db[[\"Food_CA\",\"Shelter_CA\"]].hvplot( xlabel=\"Food Canada \",\n",
    "    ylabel=\" Shelter Canada\",title=\"The relationship betwene shlter and food in Canada\")"
   ]
  },
  {
   "cell_type": "markdown",
   "id": "57af4f20",
   "metadata": {},
   "source": [
    "#### ` plot covid cases in US and Covid cases in Canada from JAN 20 to Dec 21 from Covid DAtaFrame  ` "
   ]
  },
  {
   "cell_type": "code",
   "execution_count": 74,
   "id": "b835ae39",
   "metadata": {},
   "outputs": [
    {
     "data": {},
     "metadata": {},
     "output_type": "display_data"
    },
    {
     "data": {
      "application/vnd.holoviews_exec.v0+json": "",
      "text/html": [
       "<div id='5598'>\n",
       "\n",
       "\n",
       "\n",
       "\n",
       "\n",
       "  <div class=\"bk-root\" id=\"0ba6d56a-c034-4127-af8f-391f4b25caf4\" data-root-id=\"5598\"></div>\n",
       "</div>\n",
       "<script type=\"application/javascript\">(function(root) {\n",
       "  function embed_document(root) {\n",
       "    var docs_json = {\"c6fee750-f21e-49af-af71-fafd887c0998\":{\"defs\":[{\"extends\":null,\"module\":null,\"name\":\"ReactiveHTML1\",\"overrides\":[],\"properties\":[]},{\"extends\":null,\"module\":null,\"name\":\"FlexBox1\",\"overrides\":[],\"properties\":[{\"default\":\"flex-start\",\"kind\":null,\"name\":\"align_content\"},{\"default\":\"flex-start\",\"kind\":null,\"name\":\"align_items\"},{\"default\":\"row\",\"kind\":null,\"name\":\"flex_direction\"},{\"default\":\"wrap\",\"kind\":null,\"name\":\"flex_wrap\"},{\"default\":\"flex-start\",\"kind\":null,\"name\":\"justify_content\"}]},{\"extends\":null,\"module\":null,\"name\":\"TemplateActions1\",\"overrides\":[],\"properties\":[{\"default\":0,\"kind\":null,\"name\":\"open_modal\"},{\"default\":0,\"kind\":null,\"name\":\"close_modal\"}]},{\"extends\":null,\"module\":null,\"name\":\"MaterialTemplateActions1\",\"overrides\":[],\"properties\":[{\"default\":0,\"kind\":null,\"name\":\"open_modal\"},{\"default\":0,\"kind\":null,\"name\":\"close_modal\"}]}],\"roots\":{\"references\":[{\"attributes\":{\"margin\":[5,5,5,5],\"name\":\"HSpacer08872\",\"sizing_mode\":\"stretch_width\"},\"id\":\"5790\",\"type\":\"Spacer\"},{\"attributes\":{\"source\":{\"id\":\"5660\"}},\"id\":\"5667\",\"type\":\"CDSView\"},{\"attributes\":{\"source\":{\"id\":\"5639\"}},\"id\":\"5646\",\"type\":\"CDSView\"},{\"attributes\":{},\"id\":\"5638\",\"type\":\"AllLabels\"},{\"attributes\":{\"click_policy\":\"mute\",\"coordinates\":null,\"group\":null,\"items\":[{\"id\":\"5658\"},{\"id\":\"5680\"}],\"location\":[0,0],\"title\":\"Variable\"},\"id\":\"5657\",\"type\":\"Legend\"},{\"attributes\":{},\"id\":\"5609\",\"type\":\"CategoricalScale\"},{\"attributes\":{\"data\":{\"Months\":[\"Jan-20\",\"Feb-20\",\"Mar-20\",\"Apr-20\",\"May-20\",\"Jun-20\",\"Jul-20\",\"Aug-20\",\"Sep-20\",\"Oct-20\",\"Nov-20\",\"Dec-20\",\"Jan-21\",\"Feb-21\",\"Mar-21\",\"Apr-21\",\"May-21\",\"Jun-21\",\"Jul-21\",\"Aug-21\",\"Sep-21\",\"Oct-21\",\"Nov-21\",\"Dec-21\"],\"Variable\":[\"US Covid\",\"US Covid\",\"US Covid\",\"US Covid\",\"US Covid\",\"US Covid\",\"US Covid\",\"US Covid\",\"US Covid\",\"US Covid\",\"US Covid\",\"US Covid\",\"US Covid\",\"US Covid\",\"US Covid\",\"US Covid\",\"US Covid\",\"US Covid\",\"US Covid\",\"US Covid\",\"US Covid\",\"US Covid\",\"US Covid\",\"US Covid\"],\"value\":[41,402,1121455,19952115,45532271,64923564,111419452,166389385,199199386,251452617,340128433,529508337,733068479,776089304,918766534,946785056,1022498161,1006996231,1060555421,1150163602,1249406449,1392031827,1418982171,1857993914]},\"selected\":{\"id\":\"5640\"},\"selection_policy\":{\"id\":\"5654\"}},\"id\":\"5639\",\"type\":\"ColumnDataSource\"},{\"attributes\":{\"tools\":[{\"id\":\"5602\"},{\"id\":\"5620\"},{\"id\":\"5621\"},{\"id\":\"5622\"},{\"id\":\"5623\"},{\"id\":\"5624\"}]},\"id\":\"5626\",\"type\":\"Toolbar\"},{\"attributes\":{\"factors\":[\"Jan-20\",\"Feb-20\",\"Mar-20\",\"Apr-20\",\"May-20\",\"Jun-20\",\"Jul-20\",\"Aug-20\",\"Sep-20\",\"Oct-20\",\"Nov-20\",\"Dec-20\",\"Jan-21\",\"Feb-21\",\"Mar-21\",\"Apr-21\",\"May-21\",\"Jun-21\",\"Jul-21\",\"Aug-21\",\"Sep-21\",\"Oct-21\",\"Nov-21\",\"Dec-21\"],\"tags\":[[[\"Months\",\"Months\",null]]]},\"id\":\"5600\",\"type\":\"FactorRange\"},{\"attributes\":{\"bottom_units\":\"screen\",\"coordinates\":null,\"fill_alpha\":0.5,\"fill_color\":\"lightgrey\",\"group\":null,\"left_units\":\"screen\",\"level\":\"overlay\",\"line_alpha\":1.0,\"line_color\":\"black\",\"line_dash\":[4,4],\"line_width\":2,\"right_units\":\"screen\",\"syncable\":false,\"top_units\":\"screen\"},\"id\":\"5625\",\"type\":\"BoxAnnotation\"},{\"attributes\":{},\"id\":\"5620\",\"type\":\"SaveTool\"},{\"attributes\":{},\"id\":\"5654\",\"type\":\"UnionRenderers\"},{\"attributes\":{\"axis_label\":\"Months \",\"coordinates\":null,\"formatter\":{\"id\":\"5634\"},\"group\":null,\"major_label_orientation\":1.5707963267948966,\"major_label_policy\":{\"id\":\"5635\"},\"ticker\":{\"id\":\"5614\"}},\"id\":\"5613\",\"type\":\"CategoricalAxis\"},{\"attributes\":{\"line_alpha\":0.1,\"line_color\":\"#30a2da\",\"line_width\":2,\"x\":{\"field\":\"Months\"},\"y\":{\"field\":\"value\"}},\"id\":\"5643\",\"type\":\"Line\"},{\"attributes\":{},\"id\":\"5621\",\"type\":\"PanTool\"},{\"attributes\":{},\"id\":\"5624\",\"type\":\"ResetTool\"},{\"attributes\":{\"children\":[{\"id\":\"5599\"},{\"id\":\"5604\"},{\"id\":\"5790\"}],\"margin\":[0,0,0,0],\"name\":\"Row08867\",\"tags\":[\"embedded\"]},\"id\":\"5598\",\"type\":\"Row\"},{\"attributes\":{\"axis\":{\"id\":\"5613\"},\"coordinates\":null,\"grid_line_color\":null,\"group\":null,\"ticker\":null},\"id\":\"5615\",\"type\":\"Grid\"},{\"attributes\":{},\"id\":\"5622\",\"type\":\"WheelZoomTool\"},{\"attributes\":{},\"id\":\"5635\",\"type\":\"AllLabels\"},{\"attributes\":{\"overlay\":{\"id\":\"5625\"}},\"id\":\"5623\",\"type\":\"BoxZoomTool\"},{\"attributes\":{\"data\":{\"Months\":[\"Jan-20\",\"Feb-20\",\"Mar-20\",\"Apr-20\",\"May-20\",\"Jun-20\",\"Jul-20\",\"Aug-20\",\"Sep-20\",\"Oct-20\",\"Nov-20\",\"Dec-20\",\"Jan-21\",\"Feb-21\",\"Mar-21\",\"Apr-21\",\"May-21\",\"Jun-21\",\"Jul-21\",\"Aug-21\",\"Sep-21\",\"Oct-21\",\"Nov-21\",\"Dec-21\"],\"Variable\":[\"Canada Covid\",\"Canada Covid\",\"Canada Covid\",\"Canada Covid\",\"Canada Covid\",\"Canada Covid\",\"Canada Covid\",\"Canada Covid\",\"Canada Covid\",\"Canada Covid\",\"Canada Covid\",\"Canada Covid\",\"Canada Covid\",\"Canada Covid\",\"Canada Covid\",\"Canada Covid\",\"Canada Covid\",\"Canada Covid\",\"Canada Covid\",\"Canada Covid\",\"Canada Covid\",\"Canada Covid\",\"Canada Covid\",\"Canada Covid\"],\"value\":[12,239,58816,977839,2392456,3015280,3460239,3850908,4305850,6164002,9177149,15106665,21720235,23279070,28662991,33268713,41170707,42325516,44341942,45460750,47080268,52220644,52864275,70660679]},\"selected\":{\"id\":\"5661\"},\"selection_policy\":{\"id\":\"5677\"}},\"id\":\"5660\",\"type\":\"ColumnDataSource\"},{\"attributes\":{\"label\":{\"value\":\"Canada Covid\"},\"renderers\":[{\"id\":\"5666\"}]},\"id\":\"5680\",\"type\":\"LegendItem\"},{\"attributes\":{\"line_color\":\"#30a2da\",\"line_width\":2,\"x\":{\"field\":\"Months\"},\"y\":{\"field\":\"value\"}},\"id\":\"5642\",\"type\":\"Line\"},{\"attributes\":{\"line_alpha\":0.2,\"line_color\":\"#30a2da\",\"line_width\":2,\"x\":{\"field\":\"Months\"},\"y\":{\"field\":\"value\"}},\"id\":\"5644\",\"type\":\"Line\"},{\"attributes\":{\"line_color\":\"#fc4f30\",\"line_width\":2,\"x\":{\"field\":\"Months\"},\"y\":{\"field\":\"value\"}},\"id\":\"5663\",\"type\":\"Line\"},{\"attributes\":{\"line_alpha\":0.2,\"line_color\":\"#fc4f30\",\"line_width\":2,\"x\":{\"field\":\"Months\"},\"y\":{\"field\":\"value\"}},\"id\":\"5665\",\"type\":\"Line\"},{\"attributes\":{\"label\":{\"value\":\"US Covid\"},\"renderers\":[{\"id\":\"5645\"}]},\"id\":\"5658\",\"type\":\"LegendItem\"},{\"attributes\":{},\"id\":\"5677\",\"type\":\"UnionRenderers\"},{\"attributes\":{\"margin\":[5,5,5,5],\"name\":\"HSpacer08871\",\"sizing_mode\":\"stretch_width\"},\"id\":\"5599\",\"type\":\"Spacer\"},{\"attributes\":{\"coordinates\":null,\"group\":null,\"text\":\"The Relationship between months and covid cases for canada and US\",\"text_color\":\"black\",\"text_font_size\":\"12pt\"},\"id\":\"5605\",\"type\":\"Title\"},{\"attributes\":{\"line_color\":\"#30a2da\",\"line_width\":2,\"x\":{\"field\":\"Months\"},\"y\":{\"field\":\"value\"}},\"id\":\"5659\",\"type\":\"Line\"},{\"attributes\":{},\"id\":\"5640\",\"type\":\"Selection\"},{\"attributes\":{\"line_color\":\"#fc4f30\",\"line_width\":2,\"x\":{\"field\":\"Months\"},\"y\":{\"field\":\"value\"}},\"id\":\"5681\",\"type\":\"Line\"},{\"attributes\":{\"coordinates\":null,\"data_source\":{\"id\":\"5660\"},\"glyph\":{\"id\":\"5663\"},\"group\":null,\"hover_glyph\":null,\"muted_glyph\":{\"id\":\"5665\"},\"nonselection_glyph\":{\"id\":\"5664\"},\"selection_glyph\":{\"id\":\"5681\"},\"view\":{\"id\":\"5667\"}},\"id\":\"5666\",\"type\":\"GlyphRenderer\"},{\"attributes\":{},\"id\":\"5611\",\"type\":\"LinearScale\"},{\"attributes\":{\"end\":2043793304.2,\"reset_end\":2043793304.2,\"reset_start\":-185799378.20000002,\"start\":-185799378.20000002,\"tags\":[[[\"value\",\"value\",null]]]},\"id\":\"5601\",\"type\":\"Range1d\"},{\"attributes\":{},\"id\":\"5617\",\"type\":\"BasicTicker\"},{\"attributes\":{},\"id\":\"5614\",\"type\":\"CategoricalTicker\"},{\"attributes\":{\"below\":[{\"id\":\"5613\"}],\"center\":[{\"id\":\"5615\"},{\"id\":\"5619\"}],\"height\":500,\"left\":[{\"id\":\"5616\"}],\"margin\":[5,5,5,5],\"min_border_bottom\":10,\"min_border_left\":10,\"min_border_right\":10,\"min_border_top\":10,\"renderers\":[{\"id\":\"5645\"},{\"id\":\"5666\"}],\"right\":[{\"id\":\"5657\"}],\"sizing_mode\":\"fixed\",\"title\":{\"id\":\"5605\"},\"toolbar\":{\"id\":\"5626\"},\"width\":700,\"x_range\":{\"id\":\"5600\"},\"x_scale\":{\"id\":\"5609\"},\"y_range\":{\"id\":\"5601\"},\"y_scale\":{\"id\":\"5611\"}},\"id\":\"5604\",\"subtype\":\"Figure\",\"type\":\"Plot\"},{\"attributes\":{\"line_alpha\":0.1,\"line_color\":\"#fc4f30\",\"line_width\":2,\"x\":{\"field\":\"Months\"},\"y\":{\"field\":\"value\"}},\"id\":\"5664\",\"type\":\"Line\"},{\"attributes\":{\"coordinates\":null,\"data_source\":{\"id\":\"5639\"},\"glyph\":{\"id\":\"5642\"},\"group\":null,\"hover_glyph\":null,\"muted_glyph\":{\"id\":\"5644\"},\"nonselection_glyph\":{\"id\":\"5643\"},\"selection_glyph\":{\"id\":\"5659\"},\"view\":{\"id\":\"5646\"}},\"id\":\"5645\",\"type\":\"GlyphRenderer\"},{\"attributes\":{\"axis_label\":\"Covid cases\",\"coordinates\":null,\"formatter\":{\"id\":\"5637\"},\"group\":null,\"major_label_policy\":{\"id\":\"5638\"},\"ticker\":{\"id\":\"5617\"}},\"id\":\"5616\",\"type\":\"LinearAxis\"},{\"attributes\":{\"callback\":null,\"renderers\":[{\"id\":\"5645\"},{\"id\":\"5666\"}],\"tags\":[\"hv_created\"],\"tooltips\":[[\"Variable\",\"@{Variable}\"],[\"Months\",\"@{Months}\"],[\"value\",\"@{value}\"]]},\"id\":\"5602\",\"type\":\"HoverTool\"},{\"attributes\":{},\"id\":\"5634\",\"type\":\"CategoricalTickFormatter\"},{\"attributes\":{},\"id\":\"5661\",\"type\":\"Selection\"},{\"attributes\":{\"axis\":{\"id\":\"5616\"},\"coordinates\":null,\"dimension\":1,\"grid_line_color\":null,\"group\":null,\"ticker\":null},\"id\":\"5619\",\"type\":\"Grid\"},{\"attributes\":{},\"id\":\"5637\",\"type\":\"BasicTickFormatter\"}],\"root_ids\":[\"5598\"]},\"title\":\"Bokeh Application\",\"version\":\"2.4.2\"}};\n",
       "    var render_items = [{\"docid\":\"c6fee750-f21e-49af-af71-fafd887c0998\",\"root_ids\":[\"5598\"],\"roots\":{\"5598\":\"0ba6d56a-c034-4127-af8f-391f4b25caf4\"}}];\n",
       "    root.Bokeh.embed.embed_items_notebook(docs_json, render_items);\n",
       "  }\n",
       "  if (root.Bokeh !== undefined && root.Bokeh.Panel !== undefined && ( root['Plotly'] !== undefined)) {\n",
       "    embed_document(root);\n",
       "  } else {\n",
       "    var attempts = 0;\n",
       "    var timer = setInterval(function(root) {\n",
       "      if (root.Bokeh !== undefined && root.Bokeh.Panel !== undefined && (root['Plotly'] !== undefined)) {\n",
       "        clearInterval(timer);\n",
       "        embed_document(root);\n",
       "      } else if (document.readyState == \"complete\") {\n",
       "        attempts++;\n",
       "        if (attempts > 200) {\n",
       "          clearInterval(timer);\n",
       "          console.log(\"Bokeh: ERROR: Unable to run BokehJS code because BokehJS library is missing\");\n",
       "        }\n",
       "      }\n",
       "    }, 25, root)\n",
       "  }\n",
       "})(window);</script>"
      ],
      "text/plain": [
       ":NdOverlay   [Variable]\n",
       "   :Curve   [Months]   (value)"
      ]
     },
     "execution_count": 74,
     "metadata": {
      "application/vnd.holoviews_exec.v0+json": {
       "id": "5598"
      }
     },
     "output_type": "execute_result"
    }
   ],
   "source": [
    "covid_db.hvplot( xlabel=\"Months \",\n",
    "    ylabel=\"Covid cases\",title=\"The Relationship between months and covid cases for canada and US\",rot=90 ,height=500)"
   ]
  },
  {
   "cell_type": "markdown",
   "id": "17d1b303",
   "metadata": {},
   "source": [
    "###  Visualize the data for  Inflation & US Cases for Combined DataFrame "
   ]
  },
  {
   "cell_type": "markdown",
   "id": "e3b853e6",
   "metadata": {},
   "source": [
    "###  Twin Plot for Inflation & US Cases for Combined DataFrame "
   ]
  },
  {
   "cell_type": "code",
   "execution_count": 84,
   "id": "ff367567",
   "metadata": {},
   "outputs": [
    {
     "data": {
      "image/png": "[encoded data removed]",
      "text/plain": [
       "<Figure size 864x432 with 1 Axes>"
      ]
     },
     "metadata": {
      "needs_background": "light"
     },
     "output_type": "display_data"
    }
   ],
   "source": [
    "# create figure and axis objects with subplots()\n",
    "fig,ax=plt.subplots(figsize= (12,6))\n",
    "ax.plot(years_months_df[\"Month & Year\"], combined_df[\"Inflation_US\"], marker=\"o\")\n",
    "ax.set_xlabel(\"Month & Year\")\n",
    "ax.set_ylabel(\"Inflation\")\n",
    "ax.plot(years_months_df[\"Month & Year\"], combined_df[\"Covid_Cases_US\"], marker=\"o\")\n",
    "plt.show()"
   ]
  },
  {
   "cell_type": "code",
   "execution_count": 79,
   "id": "aaef3c04",
   "metadata": {},
   "outputs": [
    {
     "data": {
      "image/png": "[encoded data removed]",
      "text/plain": [
       "<Figure size 864x432 with 2 Axes>"
      ]
     },
     "metadata": {
      "needs_background": "light"
     },
     "output_type": "display_data"
    }
   ],
   "source": [
    " #create figure and axis objects with subplots()\n",
    "fig,ax = plt.subplots(figsize= (12,6))\n",
    "# make a plot\n",
    "ax.plot(years_months_df[\"Month & Year\"], combined_df[\"Inflation_US\"], marker=\"o\")\n",
    "# set x-axis label\n",
    "ax.set_xlabel(\"Month & Year\",fontsize=14)\n",
    "# set y-axis label\n",
    "ax.set_ylabel(\"Inflation US\",color=\"red\",fontsize=14)\n",
    "# twin object for two different y-axis on the sample plot\n",
    "ax2=ax.twinx()\n",
    "# make a plot with different y-axis using second axis object\n",
    "ax2.plot(years_months_df[\"Month & Year\"], combined_df[\"Covid_Cases_US\"],color=\"red\",marker=\"o\")\n",
    "ax2.set_ylabel(\"Covid Cases US\",color=\"red\",fontsize=14)\n",
    "plt.show()\n",
    "# save the plot as a file\n",
    "fig.savefig('2_seperate_axes_1_plot_twinx_.jpg',\n",
    "            format='jpeg',\n",
    "            dpi=100,\n",
    "            bbox_inches='tight')"
   ]
  },
  {
   "cell_type": "code",
   "execution_count": 85,
   "id": "e9e1b52f",
   "metadata": {},
   "outputs": [
    {
     "data": {
      "application/vnd.plotly.v1+json": {
       "config": {
        "plotlyServerURL": "https://plot.ly"
       },
       "data": [
        {
         "dimensions": [
          {
           "label": "Inflation_CA",
           "values": [
            1.9,
            1.9,
            2,
            2.2,
            2.4,
            2.4,
            2.6,
            2.7,
            2.9,
            2.8,
            2.8,
            1.3,
            1.9,
            1.9,
            1.8,
            1.9,
            1.8,
            1.9,
            1.8,
            1.9,
            1.9,
            2,
            2,
            1.9,
            1.8,
            1.9,
            2,
            1.8,
            1.9,
            1.8,
            1.8,
            1.8,
            1.8,
            1.8,
            1.9,
            1.9
           ]
          },
          {
           "label": "Covid_Cases_CA",
           "values": [
            70660679,
            52864275,
            52220644,
            47080268,
            45460750,
            44341942,
            42325516,
            41170707,
            33268713,
            28662991,
            23279070,
            21720235,
            15106665,
            9177149,
            6164002,
            4305850,
            3850908,
            3460239,
            3015280,
            2392456,
            977839,
            58816,
            239,
            12,
            0,
            0,
            0,
            0,
            0,
            0,
            0,
            0,
            0,
            0,
            0,
            0
           ]
          }
         ],
         "domain": {
          "x": [
           0,
           1
          ],
          "y": [
           0,
           1
          ]
         },
         "line": {
          "color": [
           1.9,
           1.9,
           2,
           2.2,
           2.4,
           2.4,
           2.6,
           2.7,
           2.9,
           2.8,
           2.8,
           1.3,
           1.9,
           1.9,
           1.8,
           1.9,
           1.8,
           1.9,
           1.8,
           1.9,
           1.9,
           2,
           2,
           1.9,
           1.8,
           1.9,
           2,
           1.8,
           1.9,
           1.8,
           1.8,
           1.8,
           1.8,
           1.8,
           1.9,
           1.9
          ],
          "coloraxis": "coloraxis"
         },
         "name": "",
         "type": "parcats"
        }
       ],
       "layout": {
        "autosize": true,
        "coloraxis": {
         "colorbar": {
          "title": {
           "text": "Inflation_CA"
          }
         },
         "colorscale": [
          [
           0,
           "#0d0887"
          ],
          [
           0.1111111111111111,
           "#46039f"
          ],
          [
           0.2222222222222222,
           "#7201a8"
          ],
          [
           0.3333333333333333,
           "#9c179e"
          ],
          [
           0.4444444444444444,
           "#bd3786"
          ],
          [
           0.5555555555555556,
           "#d8576b"
          ],
          [
           0.6666666666666666,
           "#ed7953"
          ],
          [
           0.7777777777777778,
           "#fb9f3a"
          ],
          [
           0.8888888888888888,
           "#fdca26"
          ],
          [
           1,
           "#f0f921"
          ]
         ]
        },
        "legend": {
         "tracegroupgap": 0
        },
        "template": {
         "data": {
          "bar": [
           {
            "error_x": {
             "color": "#2a3f5f"
            },
            "error_y": {
             "color": "#2a3f5f"
            },
            "marker": {
             "line": {
              "color": "#E5ECF6",
              "width": 0.5
             },
             "pattern": {
              "fillmode": "overlay",
              "size": 10,
              "solidity": 0.2
             }
            },
            "type": "bar"
           }
          ],
          "barpolar": [
           {
            "marker": {
             "line": {
              "color": "#E5ECF6",
              "width": 0.5
             },
             "pattern": {
              "fillmode": "overlay",
              "size": 10,
              "solidity": 0.2
             }
            },
            "type": "barpolar"
           }
          ],
          "carpet": [
           {
            "aaxis": {
             "endlinecolor": "#2a3f5f",
             "gridcolor": "white",
             "linecolor": "white",
             "minorgridcolor": "white",
             "startlinecolor": "#2a3f5f"
            },
            "baxis": {
             "endlinecolor": "#2a3f5f",
             "gridcolor": "white",
             "linecolor": "white",
             "minorgridcolor": "white",
             "startlinecolor": "#2a3f5f"
            },
            "type": "carpet"
           }
          ],
          "choropleth": [
           {
            "colorbar": {
             "outlinewidth": 0,
             "ticks": ""
            },
            "type": "choropleth"
           }
          ],
          "contour": [
           {
            "colorbar": {
             "outlinewidth": 0,
             "ticks": ""
            },
            "colorscale": [
             [
              0,
              "#0d0887"
             ],
             [
              0.1111111111111111,
              "#46039f"
             ],
             [
              0.2222222222222222,
              "#7201a8"
             ],
             [
              0.3333333333333333,
              "#9c179e"
             ],
             [
              0.4444444444444444,
              "#bd3786"
             ],
             [
              0.5555555555555556,
              "#d8576b"
             ],
             [
              0.6666666666666666,
              "#ed7953"
             ],
             [
              0.7777777777777778,
              "#fb9f3a"
             ],
             [
              0.8888888888888888,
              "#fdca26"
             ],
             [
              1,
              "#f0f921"
             ]
            ],
            "type": "contour"
           }
          ],
          "contourcarpet": [
           {
            "colorbar": {
             "outlinewidth": 0,
             "ticks": ""
            },
            "type": "contourcarpet"
           }
          ],
          "heatmap": [
           {
            "colorbar": {
             "outlinewidth": 0,
             "ticks": ""
            },
            "colorscale": [
             [
              0,
              "#0d0887"
             ],
             [
              0.1111111111111111,
              "#46039f"
             ],
             [
              0.2222222222222222,
              "#7201a8"
             ],
             [
              0.3333333333333333,
              "#9c179e"
             ],
             [
              0.4444444444444444,
              "#bd3786"
             ],
             [
              0.5555555555555556,
              "#d8576b"
             ],
             [
              0.6666666666666666,
              "#ed7953"
             ],
             [
              0.7777777777777778,
              "#fb9f3a"
             ],
             [
              0.8888888888888888,
              "#fdca26"
             ],
             [
              1,
              "#f0f921"
             ]
            ],
            "type": "heatmap"
           }
          ],
          "heatmapgl": [
           {
            "colorbar": {
             "outlinewidth": 0,
             "ticks": ""
            },
            "colorscale": [
             [
              0,
              "#0d0887"
             ],
             [
              0.1111111111111111,
              "#46039f"
             ],
             [
              0.2222222222222222,
              "#7201a8"
             ],
             [
              0.3333333333333333,
              "#9c179e"
             ],
             [
              0.4444444444444444,
              "#bd3786"
             ],
             [
              0.5555555555555556,
              "#d8576b"
             ],
             [
              0.6666666666666666,
              "#ed7953"
             ],
             [
              0.7777777777777778,
              "#fb9f3a"
             ],
             [
              0.8888888888888888,
              "#fdca26"
             ],
             [
              1,
              "#f0f921"
             ]
            ],
            "type": "heatmapgl"
           }
          ],
          "histogram": [
           {
            "marker": {
             "pattern": {
              "fillmode": "overlay",
              "size": 10,
              "solidity": 0.2
             }
            },
            "type": "histogram"
           }
          ],
          "histogram2d": [
           {
            "colorbar": {
             "outlinewidth": 0,
             "ticks": ""
            },
            "colorscale": [
             [
              0,
              "#0d0887"
             ],
             [
              0.1111111111111111,
              "#46039f"
             ],
             [
              0.2222222222222222,
              "#7201a8"
             ],
             [
              0.3333333333333333,
              "#9c179e"
             ],
             [
              0.4444444444444444,
              "#bd3786"
             ],
             [
              0.5555555555555556,
              "#d8576b"
             ],
             [
              0.6666666666666666,
              "#ed7953"
             ],
             [
              0.7777777777777778,
              "#fb9f3a"
             ],
             [
              0.8888888888888888,
              "#fdca26"
             ],
             [
              1,
              "#f0f921"
             ]
            ],
            "type": "histogram2d"
           }
          ],
          "histogram2dcontour": [
           {
            "colorbar": {
             "outlinewidth": 0,
             "ticks": ""
            },
            "colorscale": [
             [
              0,
              "#0d0887"
             ],
             [
              0.1111111111111111,
              "#46039f"
             ],
             [
              0.2222222222222222,
              "#7201a8"
             ],
             [
              0.3333333333333333,
              "#9c179e"
             ],
             [
              0.4444444444444444,
              "#bd3786"
             ],
             [
              0.5555555555555556,
              "#d8576b"
             ],
             [
              0.6666666666666666,
              "#ed7953"
             ],
             [
              0.7777777777777778,
              "#fb9f3a"
             ],
             [
              0.8888888888888888,
              "#fdca26"
             ],
             [
              1,
              "#f0f921"
             ]
            ],
            "type": "histogram2dcontour"
           }
          ],
          "mesh3d": [
           {
            "colorbar": {
             "outlinewidth": 0,
             "ticks": ""
            },
            "type": "mesh3d"
           }
          ],
          "parcoords": [
           {
            "line": {
             "colorbar": {
              "outlinewidth": 0,
              "ticks": ""
             }
            },
            "type": "parcoords"
           }
          ],
          "pie": [
           {
            "automargin": true,
            "type": "pie"
           }
          ],
          "scatter": [
           {
            "marker": {
             "colorbar": {
              "outlinewidth": 0,
              "ticks": ""
             }
            },
            "type": "scatter"
           }
          ],
          "scatter3d": [
           {
            "line": {
             "colorbar": {
              "outlinewidth": 0,
              "ticks": ""
             }
            },
            "marker": {
             "colorbar": {
              "outlinewidth": 0,
              "ticks": ""
             }
            },
            "type": "scatter3d"
           }
          ],
          "scattercarpet": [
           {
            "marker": {
             "colorbar": {
              "outlinewidth": 0,
              "ticks": ""
             }
            },
            "type": "scattercarpet"
           }
          ],
          "scattergeo": [
           {
            "marker": {
             "colorbar": {
              "outlinewidth": 0,
              "ticks": ""
             }
            },
            "type": "scattergeo"
           }
          ],
          "scattergl": [
           {
            "marker": {
             "colorbar": {
              "outlinewidth": 0,
              "ticks": ""
             }
            },
            "type": "scattergl"
           }
          ],
          "scattermapbox": [
           {
            "marker": {
             "colorbar": {
              "outlinewidth": 0,
              "ticks": ""
             }
            },
            "type": "scattermapbox"
           }
          ],
          "scatterpolar": [
           {
            "marker": {
             "colorbar": {
              "outlinewidth": 0,
              "ticks": ""
             }
            },
            "type": "scatterpolar"
           }
          ],
          "scatterpolargl": [
           {
            "marker": {
             "colorbar": {
              "outlinewidth": 0,
              "ticks": ""
             }
            },
            "type": "scatterpolargl"
           }
          ],
          "scatterternary": [
           {
            "marker": {
             "colorbar": {
              "outlinewidth": 0,
              "ticks": ""
             }
            },
            "type": "scatterternary"
           }
          ],
          "surface": [
           {
            "colorbar": {
             "outlinewidth": 0,
             "ticks": ""
            },
            "colorscale": [
             [
              0,
              "#0d0887"
             ],
             [
              0.1111111111111111,
              "#46039f"
             ],
             [
              0.2222222222222222,
              "#7201a8"
             ],
             [
              0.3333333333333333,
              "#9c179e"
             ],
             [
              0.4444444444444444,
              "#bd3786"
             ],
             [
              0.5555555555555556,
              "#d8576b"
             ],
             [
              0.6666666666666666,
              "#ed7953"
             ],
             [
              0.7777777777777778,
              "#fb9f3a"
             ],
             [
              0.8888888888888888,
              "#fdca26"
             ],
             [
              1,
              "#f0f921"
             ]
            ],
            "type": "surface"
           }
          ],
          "table": [
           {
            "cells": {
             "fill": {
              "color": "#EBF0F8"
             },
             "line": {
              "color": "white"
             }
            },
            "header": {
             "fill": {
              "color": "#C8D4E3"
             },
             "line": {
              "color": "white"
             }
            },
            "type": "table"
           }
          ]
         },
         "layout": {
          "annotationdefaults": {
           "arrowcolor": "#2a3f5f",
           "arrowhead": 0,
           "arrowwidth": 1
          },
          "autotypenumbers": "strict",
          "coloraxis": {
           "colorbar": {
            "outlinewidth": 0,
            "ticks": ""
           }
          },
          "colorscale": {
           "diverging": [
            [
             0,
             "#8e0152"
            ],
            [
             0.1,
             "#c51b7d"
            ],
            [
             0.2,
             "#de77ae"
            ],
            [
             0.3,
             "#f1b6da"
            ],
            [
             0.4,
             "#fde0ef"
            ],
            [
             0.5,
             "#f7f7f7"
            ],
            [
             0.6,
             "#e6f5d0"
            ],
            [
             0.7,
             "#b8e186"
            ],
            [
             0.8,
             "#7fbc41"
            ],
            [
             0.9,
             "#4d9221"
            ],
            [
             1,
             "#276419"
            ]
           ],
           "sequential": [
            [
             0,
             "#0d0887"
            ],
            [
             0.1111111111111111,
             "#46039f"
            ],
            [
             0.2222222222222222,
             "#7201a8"
            ],
            [
             0.3333333333333333,
             "#9c179e"
            ],
            [
             0.4444444444444444,
             "#bd3786"
            ],
            [
             0.5555555555555556,
             "#d8576b"
            ],
            [
             0.6666666666666666,
             "#ed7953"
            ],
            [
             0.7777777777777778,
             "#fb9f3a"
            ],
            [
             0.8888888888888888,
             "#fdca26"
            ],
            [
             1,
             "#f0f921"
            ]
           ],
           "sequentialminus": [
            [
             0,
             "#0d0887"
            ],
            [
             0.1111111111111111,
             "#46039f"
            ],
            [
             0.2222222222222222,
             "#7201a8"
            ],
            [
             0.3333333333333333,
             "#9c179e"
            ],
            [
             0.4444444444444444,
             "#bd3786"
            ],
            [
             0.5555555555555556,
             "#d8576b"
            ],
            [
             0.6666666666666666,
             "#ed7953"
            ],
            [
             0.7777777777777778,
             "#fb9f3a"
            ],
            [
             0.8888888888888888,
             "#fdca26"
            ],
            [
             1,
             "#f0f921"
            ]
           ]
          },
          "colorway": [
           "#636efa",
           "#EF553B",
           "#00cc96",
           "#ab63fa",
           "#FFA15A",
           "#19d3f3",
           "#FF6692",
           "#B6E880",
           "#FF97FF",
           "#FECB52"
          ],
          "font": {
           "color": "#2a3f5f"
          },
          "geo": {
           "bgcolor": "white",
           "lakecolor": "white",
           "landcolor": "#E5ECF6",
           "showlakes": true,
           "showland": true,
           "subunitcolor": "white"
          },
          "hoverlabel": {
           "align": "left"
          },
          "hovermode": "closest",
          "mapbox": {
           "style": "light"
          },
          "paper_bgcolor": "white",
          "plot_bgcolor": "#E5ECF6",
          "polar": {
           "angularaxis": {
            "gridcolor": "white",
            "linecolor": "white",
            "ticks": ""
           },
           "bgcolor": "#E5ECF6",
           "radialaxis": {
            "gridcolor": "white",
            "linecolor": "white",
            "ticks": ""
           }
          },
          "scene": {
           "xaxis": {
            "backgroundcolor": "#E5ECF6",
            "gridcolor": "white",
            "gridwidth": 2,
            "linecolor": "white",
            "showbackground": true,
            "ticks": "",
            "zerolinecolor": "white"
           },
           "yaxis": {
            "backgroundcolor": "#E5ECF6",
            "gridcolor": "white",
            "gridwidth": 2,
            "linecolor": "white",
            "showbackground": true,
            "ticks": "",
            "zerolinecolor": "white"
           },
           "zaxis": {
            "backgroundcolor": "#E5ECF6",
            "gridcolor": "white",
            "gridwidth": 2,
            "linecolor": "white",
            "showbackground": true,
            "ticks": "",
            "zerolinecolor": "white"
           }
          },
          "shapedefaults": {
           "line": {
            "color": "#2a3f5f"
           }
          },
          "ternary": {
           "aaxis": {
            "gridcolor": "white",
            "linecolor": "white",
            "ticks": ""
           },
           "baxis": {
            "gridcolor": "white",
            "linecolor": "white",
            "ticks": ""
           },
           "bgcolor": "#E5ECF6",
           "caxis": {
            "gridcolor": "white",
            "linecolor": "white",
            "ticks": ""
           }
          },
          "title": {
           "x": 0.05
          },
          "xaxis": {
           "automargin": true,
           "gridcolor": "white",
           "linecolor": "white",
           "ticks": "",
           "title": {
            "standoff": 15
           },
           "zerolinecolor": "white",
           "zerolinewidth": 2
          },
          "yaxis": {
           "automargin": true,
           "gridcolor": "white",
           "linecolor": "white",
           "ticks": "",
           "title": {
            "standoff": 15
           },
           "zerolinecolor": "white",
           "zerolinewidth": 2
          }
         }
        },
        "title": {
         "text": "the correlation rate between the inflation and covid cases of Canada"
        }
       }
      },
      "image/png": "[encoded data removed]",
      "text/html": [
       "<div>                            <div id=\"71117ded-5022-4e33-a02e-08ecab32bfeb\" class=\"plotly-graph-div\" style=\"height:525px; width:100%;\"></div>            <script type=\"text/javascript\">                require([\"plotly\"], function(Plotly) {                    window.PLOTLYENV=window.PLOTLYENV || {};                                    if (document.getElementById(\"71117ded-5022-4e33-a02e-08ecab32bfeb\")) {                    Plotly.newPlot(                        \"71117ded-5022-4e33-a02e-08ecab32bfeb\",                        [{\"dimensions\":[{\"label\":\"Inflation_CA\",\"values\":[1.9,1.9,2.0,2.2,2.4,2.4,2.6,2.7,2.9,2.8,2.8,1.3,1.9,1.9,1.8,1.9,1.8,1.9,1.8,1.9,1.9,2.0,2.0,1.9,1.8,1.9,2.0,1.8,1.9,1.8,1.8,1.8,1.8,1.8,1.9,1.9]},{\"label\":\"Covid_Cases_CA\",\"values\":[70660679,52864275,52220644,47080268,45460750,44341942,42325516,41170707,33268713,28662991,23279070,21720235,15106665,9177149,6164002,4305850,3850908,3460239,3015280,2392456,977839,58816,239,12,0,0,0,0,0,0,0,0,0,0,0,0]}],\"domain\":{\"x\":[0.0,1.0],\"y\":[0.0,1.0]},\"line\":{\"color\":[1.9,1.9,2.0,2.2,2.4,2.4,2.6,2.7,2.9,2.8,2.8,1.3,1.9,1.9,1.8,1.9,1.8,1.9,1.8,1.9,1.9,2.0,2.0,1.9,1.8,1.9,2.0,1.8,1.9,1.8,1.8,1.8,1.8,1.8,1.9,1.9],\"coloraxis\":\"coloraxis\"},\"name\":\"\",\"type\":\"parcats\"}],                        {\"template\":{\"data\":{\"bar\":[{\"error_x\":{\"color\":\"#2a3f5f\"},\"error_y\":{\"color\":\"#2a3f5f\"},\"marker\":{\"line\":{\"color\":\"#E5ECF6\",\"width\":0.5},\"pattern\":{\"fillmode\":\"overlay\",\"size\":10,\"solidity\":0.2}},\"type\":\"bar\"}],\"barpolar\":[{\"marker\":{\"line\":{\"color\":\"#E5ECF6\",\"width\":0.5},\"pattern\":{\"fillmode\":\"overlay\",\"size\":10,\"solidity\":0.2}},\"type\":\"barpolar\"}],\"carpet\":[{\"aaxis\":{\"endlinecolor\":\"#2a3f5f\",\"gridcolor\":\"white\",\"linecolor\":\"white\",\"minorgridcolor\":\"white\",\"startlinecolor\":\"#2a3f5f\"},\"baxis\":{\"endlinecolor\":\"#2a3f5f\",\"gridcolor\":\"white\",\"linecolor\":\"white\",\"minorgridcolor\":\"white\",\"startlinecolor\":\"#2a3f5f\"},\"type\":\"carpet\"}],\"choropleth\":[{\"colorbar\":{\"outlinewidth\":0,\"ticks\":\"\"},\"type\":\"choropleth\"}],\"contour\":[{\"colorbar\":{\"outlinewidth\":0,\"ticks\":\"\"},\"colorscale\":[[0.0,\"#0d0887\"],[0.1111111111111111,\"#46039f\"],[0.2222222222222222,\"#7201a8\"],[0.3333333333333333,\"#9c179e\"],[0.4444444444444444,\"#bd3786\"],[0.5555555555555556,\"#d8576b\"],[0.6666666666666666,\"#ed7953\"],[0.7777777777777778,\"#fb9f3a\"],[0.8888888888888888,\"#fdca26\"],[1.0,\"#f0f921\"]],\"type\":\"contour\"}],\"contourcarpet\":[{\"colorbar\":{\"outlinewidth\":0,\"ticks\":\"\"},\"type\":\"contourcarpet\"}],\"heatmap\":[{\"colorbar\":{\"outlinewidth\":0,\"ticks\":\"\"},\"colorscale\":[[0.0,\"#0d0887\"],[0.1111111111111111,\"#46039f\"],[0.2222222222222222,\"#7201a8\"],[0.3333333333333333,\"#9c179e\"],[0.4444444444444444,\"#bd3786\"],[0.5555555555555556,\"#d8576b\"],[0.6666666666666666,\"#ed7953\"],[0.7777777777777778,\"#fb9f3a\"],[0.8888888888888888,\"#fdca26\"],[1.0,\"#f0f921\"]],\"type\":\"heatmap\"}],\"heatmapgl\":[{\"colorbar\":{\"outlinewidth\":0,\"ticks\":\"\"},\"colorscale\":[[0.0,\"#0d0887\"],[0.1111111111111111,\"#46039f\"],[0.2222222222222222,\"#7201a8\"],[0.3333333333333333,\"#9c179e\"],[0.4444444444444444,\"#bd3786\"],[0.5555555555555556,\"#d8576b\"],[0.6666666666666666,\"#ed7953\"],[0.7777777777777778,\"#fb9f3a\"],[0.8888888888888888,\"#fdca26\"],[1.0,\"#f0f921\"]],\"type\":\"heatmapgl\"}],\"histogram\":[{\"marker\":{\"pattern\":{\"fillmode\":\"overlay\",\"size\":10,\"solidity\":0.2}},\"type\":\"histogram\"}],\"histogram2d\":[{\"colorbar\":{\"outlinewidth\":0,\"ticks\":\"\"},\"colorscale\":[[0.0,\"#0d0887\"],[0.1111111111111111,\"#46039f\"],[0.2222222222222222,\"#7201a8\"],[0.3333333333333333,\"#9c179e\"],[0.4444444444444444,\"#bd3786\"],[0.5555555555555556,\"#d8576b\"],[0.6666666666666666,\"#ed7953\"],[0.7777777777777778,\"#fb9f3a\"],[0.8888888888888888,\"#fdca26\"],[1.0,\"#f0f921\"]],\"type\":\"histogram2d\"}],\"histogram2dcontour\":[{\"colorbar\":{\"outlinewidth\":0,\"ticks\":\"\"},\"colorscale\":[[0.0,\"#0d0887\"],[0.1111111111111111,\"#46039f\"],[0.2222222222222222,\"#7201a8\"],[0.3333333333333333,\"#9c179e\"],[0.4444444444444444,\"#bd3786\"],[0.5555555555555556,\"#d8576b\"],[0.6666666666666666,\"#ed7953\"],[0.7777777777777778,\"#fb9f3a\"],[0.8888888888888888,\"#fdca26\"],[1.0,\"#f0f921\"]],\"type\":\"histogram2dcontour\"}],\"mesh3d\":[{\"colorbar\":{\"outlinewidth\":0,\"ticks\":\"\"},\"type\":\"mesh3d\"}],\"parcoords\":[{\"line\":{\"colorbar\":{\"outlinewidth\":0,\"ticks\":\"\"}},\"type\":\"parcoords\"}],\"pie\":[{\"automargin\":true,\"type\":\"pie\"}],\"scatter\":[{\"marker\":{\"colorbar\":{\"outlinewidth\":0,\"ticks\":\"\"}},\"type\":\"scatter\"}],\"scatter3d\":[{\"line\":{\"colorbar\":{\"outlinewidth\":0,\"ticks\":\"\"}},\"marker\":{\"colorbar\":{\"outlinewidth\":0,\"ticks\":\"\"}},\"type\":\"scatter3d\"}],\"scattercarpet\":[{\"marker\":{\"colorbar\":{\"outlinewidth\":0,\"ticks\":\"\"}},\"type\":\"scattercarpet\"}],\"scattergeo\":[{\"marker\":{\"colorbar\":{\"outlinewidth\":0,\"ticks\":\"\"}},\"type\":\"scattergeo\"}],\"scattergl\":[{\"marker\":{\"colorbar\":{\"outlinewidth\":0,\"ticks\":\"\"}},\"type\":\"scattergl\"}],\"scattermapbox\":[{\"marker\":{\"colorbar\":{\"outlinewidth\":0,\"ticks\":\"\"}},\"type\":\"scattermapbox\"}],\"scatterpolar\":[{\"marker\":{\"colorbar\":{\"outlinewidth\":0,\"ticks\":\"\"}},\"type\":\"scatterpolar\"}],\"scatterpolargl\":[{\"marker\":{\"colorbar\":{\"outlinewidth\":0,\"ticks\":\"\"}},\"type\":\"scatterpolargl\"}],\"scatterternary\":[{\"marker\":{\"colorbar\":{\"outlinewidth\":0,\"ticks\":\"\"}},\"type\":\"scatterternary\"}],\"surface\":[{\"colorbar\":{\"outlinewidth\":0,\"ticks\":\"\"},\"colorscale\":[[0.0,\"#0d0887\"],[0.1111111111111111,\"#46039f\"],[0.2222222222222222,\"#7201a8\"],[0.3333333333333333,\"#9c179e\"],[0.4444444444444444,\"#bd3786\"],[0.5555555555555556,\"#d8576b\"],[0.6666666666666666,\"#ed7953\"],[0.7777777777777778,\"#fb9f3a\"],[0.8888888888888888,\"#fdca26\"],[1.0,\"#f0f921\"]],\"type\":\"surface\"}],\"table\":[{\"cells\":{\"fill\":{\"color\":\"#EBF0F8\"},\"line\":{\"color\":\"white\"}},\"header\":{\"fill\":{\"color\":\"#C8D4E3\"},\"line\":{\"color\":\"white\"}},\"type\":\"table\"}]},\"layout\":{\"annotationdefaults\":{\"arrowcolor\":\"#2a3f5f\",\"arrowhead\":0,\"arrowwidth\":1},\"autotypenumbers\":\"strict\",\"coloraxis\":{\"colorbar\":{\"outlinewidth\":0,\"ticks\":\"\"}},\"colorscale\":{\"diverging\":[[0,\"#8e0152\"],[0.1,\"#c51b7d\"],[0.2,\"#de77ae\"],[0.3,\"#f1b6da\"],[0.4,\"#fde0ef\"],[0.5,\"#f7f7f7\"],[0.6,\"#e6f5d0\"],[0.7,\"#b8e186\"],[0.8,\"#7fbc41\"],[0.9,\"#4d9221\"],[1,\"#276419\"]],\"sequential\":[[0.0,\"#0d0887\"],[0.1111111111111111,\"#46039f\"],[0.2222222222222222,\"#7201a8\"],[0.3333333333333333,\"#9c179e\"],[0.4444444444444444,\"#bd3786\"],[0.5555555555555556,\"#d8576b\"],[0.6666666666666666,\"#ed7953\"],[0.7777777777777778,\"#fb9f3a\"],[0.8888888888888888,\"#fdca26\"],[1.0,\"#f0f921\"]],\"sequentialminus\":[[0.0,\"#0d0887\"],[0.1111111111111111,\"#46039f\"],[0.2222222222222222,\"#7201a8\"],[0.3333333333333333,\"#9c179e\"],[0.4444444444444444,\"#bd3786\"],[0.5555555555555556,\"#d8576b\"],[0.6666666666666666,\"#ed7953\"],[0.7777777777777778,\"#fb9f3a\"],[0.8888888888888888,\"#fdca26\"],[1.0,\"#f0f921\"]]},\"colorway\":[\"#636efa\",\"#EF553B\",\"#00cc96\",\"#ab63fa\",\"#FFA15A\",\"#19d3f3\",\"#FF6692\",\"#B6E880\",\"#FF97FF\",\"#FECB52\"],\"font\":{\"color\":\"#2a3f5f\"},\"geo\":{\"bgcolor\":\"white\",\"lakecolor\":\"white\",\"landcolor\":\"#E5ECF6\",\"showlakes\":true,\"showland\":true,\"subunitcolor\":\"white\"},\"hoverlabel\":{\"align\":\"left\"},\"hovermode\":\"closest\",\"mapbox\":{\"style\":\"light\"},\"paper_bgcolor\":\"white\",\"plot_bgcolor\":\"#E5ECF6\",\"polar\":{\"angularaxis\":{\"gridcolor\":\"white\",\"linecolor\":\"white\",\"ticks\":\"\"},\"bgcolor\":\"#E5ECF6\",\"radialaxis\":{\"gridcolor\":\"white\",\"linecolor\":\"white\",\"ticks\":\"\"}},\"scene\":{\"xaxis\":{\"backgroundcolor\":\"#E5ECF6\",\"gridcolor\":\"white\",\"gridwidth\":2,\"linecolor\":\"white\",\"showbackground\":true,\"ticks\":\"\",\"zerolinecolor\":\"white\"},\"yaxis\":{\"backgroundcolor\":\"#E5ECF6\",\"gridcolor\":\"white\",\"gridwidth\":2,\"linecolor\":\"white\",\"showbackground\":true,\"ticks\":\"\",\"zerolinecolor\":\"white\"},\"zaxis\":{\"backgroundcolor\":\"#E5ECF6\",\"gridcolor\":\"white\",\"gridwidth\":2,\"linecolor\":\"white\",\"showbackground\":true,\"ticks\":\"\",\"zerolinecolor\":\"white\"}},\"shapedefaults\":{\"line\":{\"color\":\"#2a3f5f\"}},\"ternary\":{\"aaxis\":{\"gridcolor\":\"white\",\"linecolor\":\"white\",\"ticks\":\"\"},\"baxis\":{\"gridcolor\":\"white\",\"linecolor\":\"white\",\"ticks\":\"\"},\"bgcolor\":\"#E5ECF6\",\"caxis\":{\"gridcolor\":\"white\",\"linecolor\":\"white\",\"ticks\":\"\"}},\"title\":{\"x\":0.05},\"xaxis\":{\"automargin\":true,\"gridcolor\":\"white\",\"linecolor\":\"white\",\"ticks\":\"\",\"title\":{\"standoff\":15},\"zerolinecolor\":\"white\",\"zerolinewidth\":2},\"yaxis\":{\"automargin\":true,\"gridcolor\":\"white\",\"linecolor\":\"white\",\"ticks\":\"\",\"title\":{\"standoff\":15},\"zerolinecolor\":\"white\",\"zerolinewidth\":2}}},\"coloraxis\":{\"colorbar\":{\"title\":{\"text\":\"Inflation_CA\"}},\"colorscale\":[[0.0,\"#0d0887\"],[0.1111111111111111,\"#46039f\"],[0.2222222222222222,\"#7201a8\"],[0.3333333333333333,\"#9c179e\"],[0.4444444444444444,\"#bd3786\"],[0.5555555555555556,\"#d8576b\"],[0.6666666666666666,\"#ed7953\"],[0.7777777777777778,\"#fb9f3a\"],[0.8888888888888888,\"#fdca26\"],[1.0,\"#f0f921\"]]},\"legend\":{\"tracegroupgap\":0},\"title\":{\"text\":\"the correlation rate between the inflation and covid cases of Canada\"}},                        {\"responsive\": true}                    ).then(function(){\n",
       "                            \n",
       "var gd = document.getElementById('71117ded-5022-4e33-a02e-08ecab32bfeb');\n",
       "var x = new MutationObserver(function (mutations, observer) {{\n",
       "        var display = window.getComputedStyle(gd).display;\n",
       "        if (!display || display === 'none') {{\n",
       "            console.log([gd, 'removed!']);\n",
       "            Plotly.purge(gd);\n",
       "            observer.disconnect();\n",
       "        }}\n",
       "}});\n",
       "\n",
       "// Listen for the removal of the full notebook cells\n",
       "var notebookContainer = gd.closest('#notebook-container');\n",
       "if (notebookContainer) {{\n",
       "    x.observe(notebookContainer, {childList: true});\n",
       "}}\n",
       "\n",
       "// Listen for the clearing of the current output cell\n",
       "var outputEl = gd.closest('.output');\n",
       "if (outputEl) {{\n",
       "    x.observe(outputEl, {childList: true});\n",
       "}}\n",
       "\n",
       "                        })                };                });            </script>        </div>"
      ]
     },
     "metadata": {},
     "output_type": "display_data"
    }
   ],
   "source": [
    "#  Plot  CA data using parallel_categories plot for combined DataFrame \n",
    "px.parallel_categories(\n",
    "    combined_df,\n",
    "    dimensions=[\"Inflation_CA\",\"Covid_Cases_CA\"],\n",
    "    color=\"Inflation_CA\",\n",
    "    title=\"the correlation rate between the inflation and covid cases of Canada\"\n",
    ")"
   ]
  },
  {
   "cell_type": "code",
   "execution_count": 89,
   "id": "95f5fb3a",
   "metadata": {},
   "outputs": [
    {
     "data": {
      "application/vnd.plotly.v1+json": {
       "config": {
        "plotlyServerURL": "https://plot.ly"
       },
       "data": [
        {
         "dimensions": [
          {
           "label": "Inflation_US",
           "values": [
            7.1,
            6.8,
            6.2,
            5.4,
            5.3,
            5.4,
            5.4,
            5,
            4.2,
            2.6,
            1.7,
            1.4,
            1.4,
            1.2,
            1.2,
            1.3,
            1.3,
            1,
            0.7,
            0.1,
            0.3,
            1.5,
            2.3,
            2.5,
            2.3,
            2.1,
            1.8,
            1.7,
            1.8,
            1.8,
            1.7,
            1.8,
            2,
            1.9,
            1.5,
            1.6
           ]
          },
          {
           "label": "Covid_Cases_US",
           "values": [
            1857993914,
            1418982171,
            1392031827,
            1249406449,
            1150163602,
            1060555421,
            1006996231,
            1022498161,
            946785056,
            918766534,
            776089304,
            733068479,
            529508337,
            340128433,
            251452617,
            199199386,
            166389385,
            111419452,
            64923564,
            45532271,
            19952115,
            1121455,
            402,
            41,
            0,
            0,
            0,
            0,
            0,
            0,
            0,
            0,
            0,
            0,
            0,
            0
           ]
          }
         ],
         "domain": {
          "x": [
           0,
           1
          ],
          "y": [
           0,
           1
          ]
         },
         "line": {
          "color": [
           7.1,
           6.8,
           6.2,
           5.4,
           5.3,
           5.4,
           5.4,
           5,
           4.2,
           2.6,
           1.7,
           1.4,
           1.4,
           1.2,
           1.2,
           1.3,
           1.3,
           1,
           0.7,
           0.1,
           0.3,
           1.5,
           2.3,
           2.5,
           2.3,
           2.1,
           1.8,
           1.7,
           1.8,
           1.8,
           1.7,
           1.8,
           2,
           1.9,
           1.5,
           1.6
          ],
          "coloraxis": "coloraxis"
         },
         "name": "",
         "type": "parcats"
        }
       ],
       "layout": {
        "autosize": true,
        "coloraxis": {
         "colorbar": {
          "title": {
           "text": "Inflation_US"
          }
         },
         "colorscale": [
          [
           0,
           "#0d0887"
          ],
          [
           0.1111111111111111,
           "#46039f"
          ],
          [
           0.2222222222222222,
           "#7201a8"
          ],
          [
           0.3333333333333333,
           "#9c179e"
          ],
          [
           0.4444444444444444,
           "#bd3786"
          ],
          [
           0.5555555555555556,
           "#d8576b"
          ],
          [
           0.6666666666666666,
           "#ed7953"
          ],
          [
           0.7777777777777778,
           "#fb9f3a"
          ],
          [
           0.8888888888888888,
           "#fdca26"
          ],
          [
           1,
           "#f0f921"
          ]
         ]
        },
        "legend": {
         "tracegroupgap": 0
        },
        "margin": {
         "t": 60
        },
        "template": {
         "data": {
          "bar": [
           {
            "error_x": {
             "color": "#2a3f5f"
            },
            "error_y": {
             "color": "#2a3f5f"
            },
            "marker": {
             "line": {
              "color": "#E5ECF6",
              "width": 0.5
             },
             "pattern": {
              "fillmode": "overlay",
              "size": 10,
              "solidity": 0.2
             }
            },
            "type": "bar"
           }
          ],
          "barpolar": [
           {
            "marker": {
             "line": {
              "color": "#E5ECF6",
              "width": 0.5
             },
             "pattern": {
              "fillmode": "overlay",
              "size": 10,
              "solidity": 0.2
             }
            },
            "type": "barpolar"
           }
          ],
          "carpet": [
           {
            "aaxis": {
             "endlinecolor": "#2a3f5f",
             "gridcolor": "white",
             "linecolor": "white",
             "minorgridcolor": "white",
             "startlinecolor": "#2a3f5f"
            },
            "baxis": {
             "endlinecolor": "#2a3f5f",
             "gridcolor": "white",
             "linecolor": "white",
             "minorgridcolor": "white",
             "startlinecolor": "#2a3f5f"
            },
            "type": "carpet"
           }
          ],
          "choropleth": [
           {
            "colorbar": {
             "outlinewidth": 0,
             "ticks": ""
            },
            "type": "choropleth"
           }
          ],
          "contour": [
           {
            "colorbar": {
             "outlinewidth": 0,
             "ticks": ""
            },
            "colorscale": [
             [
              0,
              "#0d0887"
             ],
             [
              0.1111111111111111,
              "#46039f"
             ],
             [
              0.2222222222222222,
              "#7201a8"
             ],
             [
              0.3333333333333333,
              "#9c179e"
             ],
             [
              0.4444444444444444,
              "#bd3786"
             ],
             [
              0.5555555555555556,
              "#d8576b"
             ],
             [
              0.6666666666666666,
              "#ed7953"
             ],
             [
              0.7777777777777778,
              "#fb9f3a"
             ],
             [
              0.8888888888888888,
              "#fdca26"
             ],
             [
              1,
              "#f0f921"
             ]
            ],
            "type": "contour"
           }
          ],
          "contourcarpet": [
           {
            "colorbar": {
             "outlinewidth": 0,
             "ticks": ""
            },
            "type": "contourcarpet"
           }
          ],
          "heatmap": [
           {
            "colorbar": {
             "outlinewidth": 0,
             "ticks": ""
            },
            "colorscale": [
             [
              0,
              "#0d0887"
             ],
             [
              0.1111111111111111,
              "#46039f"
             ],
             [
              0.2222222222222222,
              "#7201a8"
             ],
             [
              0.3333333333333333,
              "#9c179e"
             ],
             [
              0.4444444444444444,
              "#bd3786"
             ],
             [
              0.5555555555555556,
              "#d8576b"
             ],
             [
              0.6666666666666666,
              "#ed7953"
             ],
             [
              0.7777777777777778,
              "#fb9f3a"
             ],
             [
              0.8888888888888888,
              "#fdca26"
             ],
             [
              1,
              "#f0f921"
             ]
            ],
            "type": "heatmap"
           }
          ],
          "heatmapgl": [
           {
            "colorbar": {
             "outlinewidth": 0,
             "ticks": ""
            },
            "colorscale": [
             [
              0,
              "#0d0887"
             ],
             [
              0.1111111111111111,
              "#46039f"
             ],
             [
              0.2222222222222222,
              "#7201a8"
             ],
             [
              0.3333333333333333,
              "#9c179e"
             ],
             [
              0.4444444444444444,
              "#bd3786"
             ],
             [
              0.5555555555555556,
              "#d8576b"
             ],
             [
              0.6666666666666666,
              "#ed7953"
             ],
             [
              0.7777777777777778,
              "#fb9f3a"
             ],
             [
              0.8888888888888888,
              "#fdca26"
             ],
             [
              1,
              "#f0f921"
             ]
            ],
            "type": "heatmapgl"
           }
          ],
          "histogram": [
           {
            "marker": {
             "pattern": {
              "fillmode": "overlay",
              "size": 10,
              "solidity": 0.2
             }
            },
            "type": "histogram"
           }
          ],
          "histogram2d": [
           {
            "colorbar": {
             "outlinewidth": 0,
             "ticks": ""
            },
            "colorscale": [
             [
              0,
              "#0d0887"
             ],
             [
              0.1111111111111111,
              "#46039f"
             ],
             [
              0.2222222222222222,
              "#7201a8"
             ],
             [
              0.3333333333333333,
              "#9c179e"
             ],
             [
              0.4444444444444444,
              "#bd3786"
             ],
             [
              0.5555555555555556,
              "#d8576b"
             ],
             [
              0.6666666666666666,
              "#ed7953"
             ],
             [
              0.7777777777777778,
              "#fb9f3a"
             ],
             [
              0.8888888888888888,
              "#fdca26"
             ],
             [
              1,
              "#f0f921"
             ]
            ],
            "type": "histogram2d"
           }
          ],
          "histogram2dcontour": [
           {
            "colorbar": {
             "outlinewidth": 0,
             "ticks": ""
            },
            "colorscale": [
             [
              0,
              "#0d0887"
             ],
             [
              0.1111111111111111,
              "#46039f"
             ],
             [
              0.2222222222222222,
              "#7201a8"
             ],
             [
              0.3333333333333333,
              "#9c179e"
             ],
             [
              0.4444444444444444,
              "#bd3786"
             ],
             [
              0.5555555555555556,
              "#d8576b"
             ],
             [
              0.6666666666666666,
              "#ed7953"
             ],
             [
              0.7777777777777778,
              "#fb9f3a"
             ],
             [
              0.8888888888888888,
              "#fdca26"
             ],
             [
              1,
              "#f0f921"
             ]
            ],
            "type": "histogram2dcontour"
           }
          ],
          "mesh3d": [
           {
            "colorbar": {
             "outlinewidth": 0,
             "ticks": ""
            },
            "type": "mesh3d"
           }
          ],
          "parcoords": [
           {
            "line": {
             "colorbar": {
              "outlinewidth": 0,
              "ticks": ""
             }
            },
            "type": "parcoords"
           }
          ],
          "pie": [
           {
            "automargin": true,
            "type": "pie"
           }
          ],
          "scatter": [
           {
            "marker": {
             "colorbar": {
              "outlinewidth": 0,
              "ticks": ""
             }
            },
            "type": "scatter"
           }
          ],
          "scatter3d": [
           {
            "line": {
             "colorbar": {
              "outlinewidth": 0,
              "ticks": ""
             }
            },
            "marker": {
             "colorbar": {
              "outlinewidth": 0,
              "ticks": ""
             }
            },
            "type": "scatter3d"
           }
          ],
          "scattercarpet": [
           {
            "marker": {
             "colorbar": {
              "outlinewidth": 0,
              "ticks": ""
             }
            },
            "type": "scattercarpet"
           }
          ],
          "scattergeo": [
           {
            "marker": {
             "colorbar": {
              "outlinewidth": 0,
              "ticks": ""
             }
            },
            "type": "scattergeo"
           }
          ],
          "scattergl": [
           {
            "marker": {
             "colorbar": {
              "outlinewidth": 0,
              "ticks": ""
             }
            },
            "type": "scattergl"
           }
          ],
          "scattermapbox": [
           {
            "marker": {
             "colorbar": {
              "outlinewidth": 0,
              "ticks": ""
             }
            },
            "type": "scattermapbox"
           }
          ],
          "scatterpolar": [
           {
            "marker": {
             "colorbar": {
              "outlinewidth": 0,
              "ticks": ""
             }
            },
            "type": "scatterpolar"
           }
          ],
          "scatterpolargl": [
           {
            "marker": {
             "colorbar": {
              "outlinewidth": 0,
              "ticks": ""
             }
            },
            "type": "scatterpolargl"
           }
          ],
          "scatterternary": [
           {
            "marker": {
             "colorbar": {
              "outlinewidth": 0,
              "ticks": ""
             }
            },
            "type": "scatterternary"
           }
          ],
          "surface": [
           {
            "colorbar": {
             "outlinewidth": 0,
             "ticks": ""
            },
            "colorscale": [
             [
              0,
              "#0d0887"
             ],
             [
              0.1111111111111111,
              "#46039f"
             ],
             [
              0.2222222222222222,
              "#7201a8"
             ],
             [
              0.3333333333333333,
              "#9c179e"
             ],
             [
              0.4444444444444444,
              "#bd3786"
             ],
             [
              0.5555555555555556,
              "#d8576b"
             ],
             [
              0.6666666666666666,
              "#ed7953"
             ],
             [
              0.7777777777777778,
              "#fb9f3a"
             ],
             [
              0.8888888888888888,
              "#fdca26"
             ],
             [
              1,
              "#f0f921"
             ]
            ],
            "type": "surface"
           }
          ],
          "table": [
           {
            "cells": {
             "fill": {
              "color": "#EBF0F8"
             },
             "line": {
              "color": "white"
             }
            },
            "header": {
             "fill": {
              "color": "#C8D4E3"
             },
             "line": {
              "color": "white"
             }
            },
            "type": "table"
           }
          ]
         },
         "layout": {
          "annotationdefaults": {
           "arrowcolor": "#2a3f5f",
           "arrowhead": 0,
           "arrowwidth": 1
          },
          "autotypenumbers": "strict",
          "coloraxis": {
           "colorbar": {
            "outlinewidth": 0,
            "ticks": ""
           }
          },
          "colorscale": {
           "diverging": [
            [
             0,
             "#8e0152"
            ],
            [
             0.1,
             "#c51b7d"
            ],
            [
             0.2,
             "#de77ae"
            ],
            [
             0.3,
             "#f1b6da"
            ],
            [
             0.4,
             "#fde0ef"
            ],
            [
             0.5,
             "#f7f7f7"
            ],
            [
             0.6,
             "#e6f5d0"
            ],
            [
             0.7,
             "#b8e186"
            ],
            [
             0.8,
             "#7fbc41"
            ],
            [
             0.9,
             "#4d9221"
            ],
            [
             1,
             "#276419"
            ]
           ],
           "sequential": [
            [
             0,
             "#0d0887"
            ],
            [
             0.1111111111111111,
             "#46039f"
            ],
            [
             0.2222222222222222,
             "#7201a8"
            ],
            [
             0.3333333333333333,
             "#9c179e"
            ],
            [
             0.4444444444444444,
             "#bd3786"
            ],
            [
             0.5555555555555556,
             "#d8576b"
            ],
            [
             0.6666666666666666,
             "#ed7953"
            ],
            [
             0.7777777777777778,
             "#fb9f3a"
            ],
            [
             0.8888888888888888,
             "#fdca26"
            ],
            [
             1,
             "#f0f921"
            ]
           ],
           "sequentialminus": [
            [
             0,
             "#0d0887"
            ],
            [
             0.1111111111111111,
             "#46039f"
            ],
            [
             0.2222222222222222,
             "#7201a8"
            ],
            [
             0.3333333333333333,
             "#9c179e"
            ],
            [
             0.4444444444444444,
             "#bd3786"
            ],
            [
             0.5555555555555556,
             "#d8576b"
            ],
            [
             0.6666666666666666,
             "#ed7953"
            ],
            [
             0.7777777777777778,
             "#fb9f3a"
            ],
            [
             0.8888888888888888,
             "#fdca26"
            ],
            [
             1,
             "#f0f921"
            ]
           ]
          },
          "colorway": [
           "#636efa",
           "#EF553B",
           "#00cc96",
           "#ab63fa",
           "#FFA15A",
           "#19d3f3",
           "#FF6692",
           "#B6E880",
           "#FF97FF",
           "#FECB52"
          ],
          "font": {
           "color": "#2a3f5f"
          },
          "geo": {
           "bgcolor": "white",
           "lakecolor": "white",
           "landcolor": "#E5ECF6",
           "showlakes": true,
           "showland": true,
           "subunitcolor": "white"
          },
          "hoverlabel": {
           "align": "left"
          },
          "hovermode": "closest",
          "mapbox": {
           "style": "light"
          },
          "paper_bgcolor": "white",
          "plot_bgcolor": "#E5ECF6",
          "polar": {
           "angularaxis": {
            "gridcolor": "white",
            "linecolor": "white",
            "ticks": ""
           },
           "bgcolor": "#E5ECF6",
           "radialaxis": {
            "gridcolor": "white",
            "linecolor": "white",
            "ticks": ""
           }
          },
          "scene": {
           "xaxis": {
            "backgroundcolor": "#E5ECF6",
            "gridcolor": "white",
            "gridwidth": 2,
            "linecolor": "white",
            "showbackground": true,
            "ticks": "",
            "zerolinecolor": "white"
           },
           "yaxis": {
            "backgroundcolor": "#E5ECF6",
            "gridcolor": "white",
            "gridwidth": 2,
            "linecolor": "white",
            "showbackground": true,
            "ticks": "",
            "zerolinecolor": "white"
           },
           "zaxis": {
            "backgroundcolor": "#E5ECF6",
            "gridcolor": "white",
            "gridwidth": 2,
            "linecolor": "white",
            "showbackground": true,
            "ticks": "",
            "zerolinecolor": "white"
           }
          },
          "shapedefaults": {
           "line": {
            "color": "#2a3f5f"
           }
          },
          "ternary": {
           "aaxis": {
            "gridcolor": "white",
            "linecolor": "white",
            "ticks": ""
           },
           "baxis": {
            "gridcolor": "white",
            "linecolor": "white",
            "ticks": ""
           },
           "bgcolor": "#E5ECF6",
           "caxis": {
            "gridcolor": "white",
            "linecolor": "white",
            "ticks": ""
           }
          },
          "title": {
           "x": 0.05
          },
          "xaxis": {
           "automargin": true,
           "gridcolor": "white",
           "linecolor": "white",
           "ticks": "",
           "title": {
            "standoff": 15
           },
           "zerolinecolor": "white",
           "zerolinewidth": 2
          },
          "yaxis": {
           "automargin": true,
           "gridcolor": "white",
           "linecolor": "white",
           "ticks": "",
           "title": {
            "standoff": 15
           },
           "zerolinecolor": "white",
           "zerolinewidth": 2
          }
         }
        }
       }
      },
      "image/png": "[encoded data removed]",
      "text/html": [
       "<div>                            <div id=\"f1f197d9-d1a5-4444-a4dd-3bdec218d47f\" class=\"plotly-graph-div\" style=\"height:525px; width:100%;\"></div>            <script type=\"text/javascript\">                require([\"plotly\"], function(Plotly) {                    window.PLOTLYENV=window.PLOTLYENV || {};                                    if (document.getElementById(\"f1f197d9-d1a5-4444-a4dd-3bdec218d47f\")) {                    Plotly.newPlot(                        \"f1f197d9-d1a5-4444-a4dd-3bdec218d47f\",                        [{\"dimensions\":[{\"label\":\"Inflation_US\",\"values\":[7.1,6.8,6.2,5.4,5.3,5.4,5.4,5.0,4.2,2.6,1.7,1.4,1.4,1.2,1.2,1.3,1.3,1.0,0.7,0.1,0.3,1.5,2.3,2.5,2.3,2.1,1.8,1.7,1.8,1.8,1.7,1.8,2.0,1.9,1.5,1.6]},{\"label\":\"Covid_Cases_US\",\"values\":[1857993914,1418982171,1392031827,1249406449,1150163602,1060555421,1006996231,1022498161,946785056,918766534,776089304,733068479,529508337,340128433,251452617,199199386,166389385,111419452,64923564,45532271,19952115,1121455,402,41,0,0,0,0,0,0,0,0,0,0,0,0]}],\"domain\":{\"x\":[0.0,1.0],\"y\":[0.0,1.0]},\"line\":{\"color\":[7.1,6.8,6.2,5.4,5.3,5.4,5.4,5.0,4.2,2.6,1.7,1.4,1.4,1.2,1.2,1.3,1.3,1.0,0.7,0.1,0.3,1.5,2.3,2.5,2.3,2.1,1.8,1.7,1.8,1.8,1.7,1.8,2.0,1.9,1.5,1.6],\"coloraxis\":\"coloraxis\"},\"name\":\"\",\"type\":\"parcats\"}],                        {\"template\":{\"data\":{\"bar\":[{\"error_x\":{\"color\":\"#2a3f5f\"},\"error_y\":{\"color\":\"#2a3f5f\"},\"marker\":{\"line\":{\"color\":\"#E5ECF6\",\"width\":0.5},\"pattern\":{\"fillmode\":\"overlay\",\"size\":10,\"solidity\":0.2}},\"type\":\"bar\"}],\"barpolar\":[{\"marker\":{\"line\":{\"color\":\"#E5ECF6\",\"width\":0.5},\"pattern\":{\"fillmode\":\"overlay\",\"size\":10,\"solidity\":0.2}},\"type\":\"barpolar\"}],\"carpet\":[{\"aaxis\":{\"endlinecolor\":\"#2a3f5f\",\"gridcolor\":\"white\",\"linecolor\":\"white\",\"minorgridcolor\":\"white\",\"startlinecolor\":\"#2a3f5f\"},\"baxis\":{\"endlinecolor\":\"#2a3f5f\",\"gridcolor\":\"white\",\"linecolor\":\"white\",\"minorgridcolor\":\"white\",\"startlinecolor\":\"#2a3f5f\"},\"type\":\"carpet\"}],\"choropleth\":[{\"colorbar\":{\"outlinewidth\":0,\"ticks\":\"\"},\"type\":\"choropleth\"}],\"contour\":[{\"colorbar\":{\"outlinewidth\":0,\"ticks\":\"\"},\"colorscale\":[[0.0,\"#0d0887\"],[0.1111111111111111,\"#46039f\"],[0.2222222222222222,\"#7201a8\"],[0.3333333333333333,\"#9c179e\"],[0.4444444444444444,\"#bd3786\"],[0.5555555555555556,\"#d8576b\"],[0.6666666666666666,\"#ed7953\"],[0.7777777777777778,\"#fb9f3a\"],[0.8888888888888888,\"#fdca26\"],[1.0,\"#f0f921\"]],\"type\":\"contour\"}],\"contourcarpet\":[{\"colorbar\":{\"outlinewidth\":0,\"ticks\":\"\"},\"type\":\"contourcarpet\"}],\"heatmap\":[{\"colorbar\":{\"outlinewidth\":0,\"ticks\":\"\"},\"colorscale\":[[0.0,\"#0d0887\"],[0.1111111111111111,\"#46039f\"],[0.2222222222222222,\"#7201a8\"],[0.3333333333333333,\"#9c179e\"],[0.4444444444444444,\"#bd3786\"],[0.5555555555555556,\"#d8576b\"],[0.6666666666666666,\"#ed7953\"],[0.7777777777777778,\"#fb9f3a\"],[0.8888888888888888,\"#fdca26\"],[1.0,\"#f0f921\"]],\"type\":\"heatmap\"}],\"heatmapgl\":[{\"colorbar\":{\"outlinewidth\":0,\"ticks\":\"\"},\"colorscale\":[[0.0,\"#0d0887\"],[0.1111111111111111,\"#46039f\"],[0.2222222222222222,\"#7201a8\"],[0.3333333333333333,\"#9c179e\"],[0.4444444444444444,\"#bd3786\"],[0.5555555555555556,\"#d8576b\"],[0.6666666666666666,\"#ed7953\"],[0.7777777777777778,\"#fb9f3a\"],[0.8888888888888888,\"#fdca26\"],[1.0,\"#f0f921\"]],\"type\":\"heatmapgl\"}],\"histogram\":[{\"marker\":{\"pattern\":{\"fillmode\":\"overlay\",\"size\":10,\"solidity\":0.2}},\"type\":\"histogram\"}],\"histogram2d\":[{\"colorbar\":{\"outlinewidth\":0,\"ticks\":\"\"},\"colorscale\":[[0.0,\"#0d0887\"],[0.1111111111111111,\"#46039f\"],[0.2222222222222222,\"#7201a8\"],[0.3333333333333333,\"#9c179e\"],[0.4444444444444444,\"#bd3786\"],[0.5555555555555556,\"#d8576b\"],[0.6666666666666666,\"#ed7953\"],[0.7777777777777778,\"#fb9f3a\"],[0.8888888888888888,\"#fdca26\"],[1.0,\"#f0f921\"]],\"type\":\"histogram2d\"}],\"histogram2dcontour\":[{\"colorbar\":{\"outlinewidth\":0,\"ticks\":\"\"},\"colorscale\":[[0.0,\"#0d0887\"],[0.1111111111111111,\"#46039f\"],[0.2222222222222222,\"#7201a8\"],[0.3333333333333333,\"#9c179e\"],[0.4444444444444444,\"#bd3786\"],[0.5555555555555556,\"#d8576b\"],[0.6666666666666666,\"#ed7953\"],[0.7777777777777778,\"#fb9f3a\"],[0.8888888888888888,\"#fdca26\"],[1.0,\"#f0f921\"]],\"type\":\"histogram2dcontour\"}],\"mesh3d\":[{\"colorbar\":{\"outlinewidth\":0,\"ticks\":\"\"},\"type\":\"mesh3d\"}],\"parcoords\":[{\"line\":{\"colorbar\":{\"outlinewidth\":0,\"ticks\":\"\"}},\"type\":\"parcoords\"}],\"pie\":[{\"automargin\":true,\"type\":\"pie\"}],\"scatter\":[{\"marker\":{\"colorbar\":{\"outlinewidth\":0,\"ticks\":\"\"}},\"type\":\"scatter\"}],\"scatter3d\":[{\"line\":{\"colorbar\":{\"outlinewidth\":0,\"ticks\":\"\"}},\"marker\":{\"colorbar\":{\"outlinewidth\":0,\"ticks\":\"\"}},\"type\":\"scatter3d\"}],\"scattercarpet\":[{\"marker\":{\"colorbar\":{\"outlinewidth\":0,\"ticks\":\"\"}},\"type\":\"scattercarpet\"}],\"scattergeo\":[{\"marker\":{\"colorbar\":{\"outlinewidth\":0,\"ticks\":\"\"}},\"type\":\"scattergeo\"}],\"scattergl\":[{\"marker\":{\"colorbar\":{\"outlinewidth\":0,\"ticks\":\"\"}},\"type\":\"scattergl\"}],\"scattermapbox\":[{\"marker\":{\"colorbar\":{\"outlinewidth\":0,\"ticks\":\"\"}},\"type\":\"scattermapbox\"}],\"scatterpolar\":[{\"marker\":{\"colorbar\":{\"outlinewidth\":0,\"ticks\":\"\"}},\"type\":\"scatterpolar\"}],\"scatterpolargl\":[{\"marker\":{\"colorbar\":{\"outlinewidth\":0,\"ticks\":\"\"}},\"type\":\"scatterpolargl\"}],\"scatterternary\":[{\"marker\":{\"colorbar\":{\"outlinewidth\":0,\"ticks\":\"\"}},\"type\":\"scatterternary\"}],\"surface\":[{\"colorbar\":{\"outlinewidth\":0,\"ticks\":\"\"},\"colorscale\":[[0.0,\"#0d0887\"],[0.1111111111111111,\"#46039f\"],[0.2222222222222222,\"#7201a8\"],[0.3333333333333333,\"#9c179e\"],[0.4444444444444444,\"#bd3786\"],[0.5555555555555556,\"#d8576b\"],[0.6666666666666666,\"#ed7953\"],[0.7777777777777778,\"#fb9f3a\"],[0.8888888888888888,\"#fdca26\"],[1.0,\"#f0f921\"]],\"type\":\"surface\"}],\"table\":[{\"cells\":{\"fill\":{\"color\":\"#EBF0F8\"},\"line\":{\"color\":\"white\"}},\"header\":{\"fill\":{\"color\":\"#C8D4E3\"},\"line\":{\"color\":\"white\"}},\"type\":\"table\"}]},\"layout\":{\"annotationdefaults\":{\"arrowcolor\":\"#2a3f5f\",\"arrowhead\":0,\"arrowwidth\":1},\"autotypenumbers\":\"strict\",\"coloraxis\":{\"colorbar\":{\"outlinewidth\":0,\"ticks\":\"\"}},\"colorscale\":{\"diverging\":[[0,\"#8e0152\"],[0.1,\"#c51b7d\"],[0.2,\"#de77ae\"],[0.3,\"#f1b6da\"],[0.4,\"#fde0ef\"],[0.5,\"#f7f7f7\"],[0.6,\"#e6f5d0\"],[0.7,\"#b8e186\"],[0.8,\"#7fbc41\"],[0.9,\"#4d9221\"],[1,\"#276419\"]],\"sequential\":[[0.0,\"#0d0887\"],[0.1111111111111111,\"#46039f\"],[0.2222222222222222,\"#7201a8\"],[0.3333333333333333,\"#9c179e\"],[0.4444444444444444,\"#bd3786\"],[0.5555555555555556,\"#d8576b\"],[0.6666666666666666,\"#ed7953\"],[0.7777777777777778,\"#fb9f3a\"],[0.8888888888888888,\"#fdca26\"],[1.0,\"#f0f921\"]],\"sequentialminus\":[[0.0,\"#0d0887\"],[0.1111111111111111,\"#46039f\"],[0.2222222222222222,\"#7201a8\"],[0.3333333333333333,\"#9c179e\"],[0.4444444444444444,\"#bd3786\"],[0.5555555555555556,\"#d8576b\"],[0.6666666666666666,\"#ed7953\"],[0.7777777777777778,\"#fb9f3a\"],[0.8888888888888888,\"#fdca26\"],[1.0,\"#f0f921\"]]},\"colorway\":[\"#636efa\",\"#EF553B\",\"#00cc96\",\"#ab63fa\",\"#FFA15A\",\"#19d3f3\",\"#FF6692\",\"#B6E880\",\"#FF97FF\",\"#FECB52\"],\"font\":{\"color\":\"#2a3f5f\"},\"geo\":{\"bgcolor\":\"white\",\"lakecolor\":\"white\",\"landcolor\":\"#E5ECF6\",\"showlakes\":true,\"showland\":true,\"subunitcolor\":\"white\"},\"hoverlabel\":{\"align\":\"left\"},\"hovermode\":\"closest\",\"mapbox\":{\"style\":\"light\"},\"paper_bgcolor\":\"white\",\"plot_bgcolor\":\"#E5ECF6\",\"polar\":{\"angularaxis\":{\"gridcolor\":\"white\",\"linecolor\":\"white\",\"ticks\":\"\"},\"bgcolor\":\"#E5ECF6\",\"radialaxis\":{\"gridcolor\":\"white\",\"linecolor\":\"white\",\"ticks\":\"\"}},\"scene\":{\"xaxis\":{\"backgroundcolor\":\"#E5ECF6\",\"gridcolor\":\"white\",\"gridwidth\":2,\"linecolor\":\"white\",\"showbackground\":true,\"ticks\":\"\",\"zerolinecolor\":\"white\"},\"yaxis\":{\"backgroundcolor\":\"#E5ECF6\",\"gridcolor\":\"white\",\"gridwidth\":2,\"linecolor\":\"white\",\"showbackground\":true,\"ticks\":\"\",\"zerolinecolor\":\"white\"},\"zaxis\":{\"backgroundcolor\":\"#E5ECF6\",\"gridcolor\":\"white\",\"gridwidth\":2,\"linecolor\":\"white\",\"showbackground\":true,\"ticks\":\"\",\"zerolinecolor\":\"white\"}},\"shapedefaults\":{\"line\":{\"color\":\"#2a3f5f\"}},\"ternary\":{\"aaxis\":{\"gridcolor\":\"white\",\"linecolor\":\"white\",\"ticks\":\"\"},\"baxis\":{\"gridcolor\":\"white\",\"linecolor\":\"white\",\"ticks\":\"\"},\"bgcolor\":\"#E5ECF6\",\"caxis\":{\"gridcolor\":\"white\",\"linecolor\":\"white\",\"ticks\":\"\"}},\"title\":{\"x\":0.05},\"xaxis\":{\"automargin\":true,\"gridcolor\":\"white\",\"linecolor\":\"white\",\"ticks\":\"\",\"title\":{\"standoff\":15},\"zerolinecolor\":\"white\",\"zerolinewidth\":2},\"yaxis\":{\"automargin\":true,\"gridcolor\":\"white\",\"linecolor\":\"white\",\"ticks\":\"\",\"title\":{\"standoff\":15},\"zerolinecolor\":\"white\",\"zerolinewidth\":2}}},\"coloraxis\":{\"colorbar\":{\"title\":{\"text\":\"Inflation_US\"}},\"colorscale\":[[0.0,\"#0d0887\"],[0.1111111111111111,\"#46039f\"],[0.2222222222222222,\"#7201a8\"],[0.3333333333333333,\"#9c179e\"],[0.4444444444444444,\"#bd3786\"],[0.5555555555555556,\"#d8576b\"],[0.6666666666666666,\"#ed7953\"],[0.7777777777777778,\"#fb9f3a\"],[0.8888888888888888,\"#fdca26\"],[1.0,\"#f0f921\"]]},\"legend\":{\"tracegroupgap\":0},\"margin\":{\"t\":60}},                        {\"responsive\": true}                    ).then(function(){\n",
       "                            \n",
       "var gd = document.getElementById('f1f197d9-d1a5-4444-a4dd-3bdec218d47f');\n",
       "var x = new MutationObserver(function (mutations, observer) {{\n",
       "        var display = window.getComputedStyle(gd).display;\n",
       "        if (!display || display === 'none') {{\n",
       "            console.log([gd, 'removed!']);\n",
       "            Plotly.purge(gd);\n",
       "            observer.disconnect();\n",
       "        }}\n",
       "}});\n",
       "\n",
       "// Listen for the removal of the full notebook cells\n",
       "var notebookContainer = gd.closest('#notebook-container');\n",
       "if (notebookContainer) {{\n",
       "    x.observe(notebookContainer, {childList: true});\n",
       "}}\n",
       "\n",
       "// Listen for the clearing of the current output cell\n",
       "var outputEl = gd.closest('.output');\n",
       "if (outputEl) {{\n",
       "    x.observe(outputEl, {childList: true});\n",
       "}}\n",
       "\n",
       "                        })                };                });            </script>        </div>"
      ]
     },
     "metadata": {},
     "output_type": "display_data"
    }
   ],
   "source": [
    "#  Plot  US data  in combined Dataframe using parallel_categories plot\n",
    "px.parallel_categories(\n",
    "    combined_df,\n",
    "    dimensions=[\"Inflation_US\",\"Covid_Cases_US\"],\n",
    "    color=\"Inflation_US\",\n",
    "     #title=\"the correlation rate between the inflation and covid cases of USA\"\n",
    "    \n",
    ")"
   ]
  },
  {
   "cell_type": "markdown",
   "id": "1df88289",
   "metadata": {},
   "source": [
    "# Conduct Quantitative Analysis\n",
    "\n"
   ]
  },
  {
   "cell_type": "markdown",
   "id": "85cb6e9f",
   "metadata": {},
   "source": [
    "###  Average covid cases in US and Canada  from combined dataframe "
   ]
  },
  {
   "cell_type": "code",
   "execution_count": null,
   "id": "b8ba8e64",
   "metadata": {},
   "outputs": [],
   "source": [
    "# Calculate the average covid cases  for US and Canada \n",
    "avg_covid_cases=(combined_df[[\"Covid_Cases_US\",\"Covid_Cases_CA\"]]\n",
    "         .groupby(combined_df.index).mean())\n",
    "avg_covid_cases.head()\n"
   ]
  },
  {
   "cell_type": "code",
   "execution_count": 90,
   "id": "470a6991",
   "metadata": {},
   "outputs": [],
   "source": [
    "def create_line_chart(data, title, xlabel, ylabel, color):\n",
    "    \"\"\"\n",
    "    Create a line chart based in the data argument.\n",
    "    \"\"\"\n",
    "    fig=plt.figure()\n",
    "    line_plot=data.plot.line(color=color) \n",
    "    line_plot.set_xlabel(xlabel)\n",
    "    line_plot.set_ylabel(ylabel)\n",
    "    line_plot.set_title(title)\n",
    "    \n"
   ]
  },
  {
   "cell_type": "code",
   "execution_count": 91,
   "id": "8c87e592",
   "metadata": {},
   "outputs": [
    {
     "data": {
      "image/png": "[encoded data removed]",
      "text/plain": [
       "<Figure size 432x288 with 1 Axes>"
      ]
     },
     "metadata": {
      "needs_background": "light"
     },
     "output_type": "display_data"
    },
    {
     "data": {
      "image/png": "[encoded data removed]",
      "text/plain": [
       "<Figure size 432x288 with 1 Axes>"
      ]
     },
     "metadata": {
      "needs_background": "light"
     },
     "output_type": "display_data"
    }
   ],
   "source": [
    "# Line chart for US covid cases \n",
    "create_line_chart(avg_covid_cases[\"Covid_Cases_US\"],\n",
    "                  title=\"Average covid cases for USA \",\n",
    "                 ylabel=\"AVG covid cases for US\", xlabel=\"year\",color=\"blue\")\n",
    "# Line chart for CANADA COVID CASES\n",
    "create_line_chart(avg_covid_cases[\"Covid_Cases_CA\"],\n",
    "                  title=\"Average Covid Cases for Canada \",\n",
    "                 ylabel=\"avg covid cases for Canada \", xlabel=\"year\",color=\"orange\")"
   ]
  },
  {
   "cell_type": "markdown",
   "id": "365225fc",
   "metadata": {},
   "source": [
    "## Calculate and plot the correlation\n"
   ]
  },
  {
   "cell_type": "markdown",
   "id": "7fe306e9",
   "metadata": {},
   "source": [
    "###  Join the datas for inflation analysis from Inflation dataframe and Covid DataFrame "
   ]
  },
  {
   "cell_type": "code",
   "execution_count": null,
   "id": "a5cd6d6d",
   "metadata": {},
   "outputs": [],
   "source": [
    "# Join the datas for inflation analysis from Inflation dataframe and Covid DataFrame \n",
    "effect_db = pd.merge( inflation_db,covid_db, on=\"Months\")\n",
    "effect_db.head()"
   ]
  },
  {
   "cell_type": "code",
   "execution_count": null,
   "id": "de365127",
   "metadata": {},
   "outputs": [],
   "source": [
    "#Count nulls\n",
    "effect_db.isnull().sum()"
   ]
  },
  {
   "cell_type": "code",
   "execution_count": null,
   "id": "fae6369b",
   "metadata": {},
   "outputs": [],
   "source": [
    "#pulling Food_CA, Shelter_CA and CA_Covid from the database\n",
    "canada_df = effect_db[[\"Food_CA\", \"Shelter_CA\", \"CA_Covid\"]]\n",
    "canada_df.head()"
   ]
  },
  {
   "cell_type": "code",
   "execution_count": null,
   "id": "b58b1203",
   "metadata": {},
   "outputs": [],
   "source": [
    "canada_df.hvplot()"
   ]
  },
  {
   "cell_type": "code",
   "execution_count": null,
   "id": "f50aa70a",
   "metadata": {},
   "outputs": [],
   "source": [
    "#finding a correlation between covid cases and inflation rate of food and shelter in CA\n",
    "correlation = canada_df.corr()\n",
    "correlation"
   ]
  },
  {
   "cell_type": "code",
   "execution_count": 94,
   "id": "4eaf0780",
   "metadata": {},
   "outputs": [
    {
     "data": {
      "text/plain": [
       "<AxesSubplot:>"
      ]
     },
     "execution_count": 94,
     "metadata": {},
     "output_type": "execute_result"
    },
    {
     "data": {
      "image/png": "[encoded data removed]",
      "text/plain": [
       "<Figure size 432x288 with 2 Axes>"
      ]
     },
     "metadata": {
      "needs_background": "light"
     },
     "output_type": "display_data"
    }
   ],
   "source": [
    "#plotting heatmap based on correlation\n",
    "sns.heatmap(correlation,annot=True)"
   ]
  },
  {
   "cell_type": "code",
   "execution_count": 97,
   "id": "d2a9f977",
   "metadata": {},
   "outputs": [
    {
     "data": {
      "text/html": [
       "<div>\n",
       "<style scoped>\n",
       "    .dataframe tbody tr th:only-of-type {\n",
       "        vertical-align: middle;\n",
       "    }\n",
       "\n",
       "    .dataframe tbody tr th {\n",
       "        vertical-align: top;\n",
       "    }\n",
       "\n",
       "    .dataframe thead th {\n",
       "        text-align: right;\n",
       "    }\n",
       "</style>\n",
       "<table border=\"1\" class=\"dataframe\">\n",
       "  <thead>\n",
       "    <tr style=\"text-align: right;\">\n",
       "      <th></th>\n",
       "      <th>Food_US</th>\n",
       "      <th>Shelter_US</th>\n",
       "      <th>US_Covid</th>\n",
       "    </tr>\n",
       "  </thead>\n",
       "  <tbody>\n",
       "    <tr>\n",
       "      <th>0</th>\n",
       "      <td>260.987</td>\n",
       "      <td>323.322</td>\n",
       "      <td>41</td>\n",
       "    </tr>\n",
       "    <tr>\n",
       "      <th>1</th>\n",
       "      <td>261.832</td>\n",
       "      <td>324.294</td>\n",
       "      <td>402</td>\n",
       "    </tr>\n",
       "    <tr>\n",
       "      <th>2</th>\n",
       "      <td>262.530</td>\n",
       "      <td>324.500</td>\n",
       "      <td>1121455</td>\n",
       "    </tr>\n",
       "    <tr>\n",
       "      <th>3</th>\n",
       "      <td>266.322</td>\n",
       "      <td>324.515</td>\n",
       "      <td>19952115</td>\n",
       "    </tr>\n",
       "    <tr>\n",
       "      <th>4</th>\n",
       "      <td>268.093</td>\n",
       "      <td>325.156</td>\n",
       "      <td>45532271</td>\n",
       "    </tr>\n",
       "  </tbody>\n",
       "</table>\n",
       "</div>"
      ],
      "text/plain": [
       "   Food_US  Shelter_US  US_Covid\n",
       "0  260.987     323.322        41\n",
       "1  261.832     324.294       402\n",
       "2  262.530     324.500   1121455\n",
       "3  266.322     324.515  19952115\n",
       "4  268.093     325.156  45532271"
      ]
     },
     "execution_count": 97,
     "metadata": {},
     "output_type": "execute_result"
    }
   ],
   "source": [
    "##pulling Food_US, Shelter_US and US_Covid from the database\n",
    "us_df = effect_db[[\"Food_US\", \"Shelter_US\", \"US_Covid\"]]\n",
    "us_df.head()"
   ]
  },
  {
   "cell_type": "code",
   "execution_count": 98,
   "id": "bb34cae6",
   "metadata": {},
   "outputs": [
    {
     "data": {},
     "metadata": {},
     "output_type": "display_data"
    },
    {
     "data": {
      "application/vnd.holoviews_exec.v0+json": "",
      "text/html": [
       "<div id='5888'>\n",
       "\n",
       "\n",
       "\n",
       "\n",
       "\n",
       "  <div class=\"bk-root\" id=\"1a9c538c-d35d-49e5-a6e7-19e3ac34fafb\" data-root-id=\"5888\"></div>\n",
       "</div>\n",
       "<script type=\"application/javascript\">(function(root) {\n",
       "  function embed_document(root) {\n",
       "    var docs_json = {\"069ddeb8-b45a-40fc-b04b-bc9453e803d1\":{\"defs\":[{\"extends\":null,\"module\":null,\"name\":\"ReactiveHTML1\",\"overrides\":[],\"properties\":[]},{\"extends\":null,\"module\":null,\"name\":\"FlexBox1\",\"overrides\":[],\"properties\":[{\"default\":\"flex-start\",\"kind\":null,\"name\":\"align_content\"},{\"default\":\"flex-start\",\"kind\":null,\"name\":\"align_items\"},{\"default\":\"row\",\"kind\":null,\"name\":\"flex_direction\"},{\"default\":\"wrap\",\"kind\":null,\"name\":\"flex_wrap\"},{\"default\":\"flex-start\",\"kind\":null,\"name\":\"justify_content\"}]},{\"extends\":null,\"module\":null,\"name\":\"TemplateActions1\",\"overrides\":[],\"properties\":[{\"default\":0,\"kind\":null,\"name\":\"open_modal\"},{\"default\":0,\"kind\":null,\"name\":\"close_modal\"}]},{\"extends\":null,\"module\":null,\"name\":\"MaterialTemplateActions1\",\"overrides\":[],\"properties\":[{\"default\":0,\"kind\":null,\"name\":\"open_modal\"},{\"default\":0,\"kind\":null,\"name\":\"close_modal\"}]}],\"roots\":{\"references\":[{\"attributes\":{\"coordinates\":null,\"data_source\":{\"id\":\"5952\"},\"glyph\":{\"id\":\"5955\"},\"group\":null,\"hover_glyph\":null,\"muted_glyph\":{\"id\":\"5957\"},\"nonselection_glyph\":{\"id\":\"5956\"},\"selection_glyph\":{\"id\":\"5973\"},\"view\":{\"id\":\"5959\"}},\"id\":\"5958\",\"type\":\"GlyphRenderer\"},{\"attributes\":{\"source\":{\"id\":\"5931\"}},\"id\":\"5938\",\"type\":\"CDSView\"},{\"attributes\":{\"coordinates\":null,\"group\":null,\"text_color\":\"black\",\"text_font_size\":\"12pt\"},\"id\":\"5896\",\"type\":\"Title\"},{\"attributes\":{},\"id\":\"5916\",\"type\":\"ResetTool\"},{\"attributes\":{\"children\":[{\"id\":\"5889\"},{\"id\":\"5895\"},{\"id\":\"6124\"}],\"margin\":[0,0,0,0],\"name\":\"Row09344\",\"tags\":[\"embedded\"]},\"id\":\"5888\",\"type\":\"Row\"},{\"attributes\":{\"source\":{\"id\":\"5974\"}},\"id\":\"5981\",\"type\":\"CDSView\"},{\"attributes\":{},\"id\":\"5929\",\"type\":\"BasicTickFormatter\"},{\"attributes\":{},\"id\":\"5905\",\"type\":\"BasicTicker\"},{\"attributes\":{\"below\":[{\"id\":\"5904\"}],\"center\":[{\"id\":\"5907\"},{\"id\":\"5911\"}],\"height\":300,\"left\":[{\"id\":\"5908\"}],\"margin\":[5,5,5,5],\"min_border_bottom\":10,\"min_border_left\":10,\"min_border_right\":10,\"min_border_top\":10,\"renderers\":[{\"id\":\"5937\"},{\"id\":\"5958\"},{\"id\":\"5980\"}],\"right\":[{\"id\":\"5949\"}],\"sizing_mode\":\"fixed\",\"title\":{\"id\":\"5896\"},\"toolbar\":{\"id\":\"5918\"},\"width\":700,\"x_range\":{\"id\":\"5890\"},\"x_scale\":{\"id\":\"5900\"},\"y_range\":{\"id\":\"5891\"},\"y_scale\":{\"id\":\"5902\"}},\"id\":\"5895\",\"subtype\":\"Figure\",\"type\":\"Plot\"},{\"attributes\":{},\"id\":\"5909\",\"type\":\"BasicTicker\"},{\"attributes\":{\"margin\":[5,5,5,5],\"name\":\"HSpacer09348\",\"sizing_mode\":\"stretch_width\"},\"id\":\"5889\",\"type\":\"Spacer\"},{\"attributes\":{\"axis\":{\"id\":\"5904\"},\"coordinates\":null,\"grid_line_color\":null,\"group\":null,\"ticker\":null},\"id\":\"5907\",\"type\":\"Grid\"},{\"attributes\":{\"line_color\":\"#30a2da\",\"line_width\":2,\"x\":{\"field\":\"index\"},\"y\":{\"field\":\"value\"}},\"id\":\"5934\",\"type\":\"Line\"},{\"attributes\":{\"label\":{\"value\":\"US_Covid\"},\"renderers\":[{\"id\":\"5980\"}]},\"id\":\"5996\",\"type\":\"LegendItem\"},{\"attributes\":{\"data\":{\"Variable\":[\"Food_US\",\"Food_US\",\"Food_US\",\"Food_US\",\"Food_US\",\"Food_US\",\"Food_US\",\"Food_US\",\"Food_US\",\"Food_US\",\"Food_US\",\"Food_US\",\"Food_US\",\"Food_US\",\"Food_US\",\"Food_US\",\"Food_US\",\"Food_US\",\"Food_US\",\"Food_US\",\"Food_US\",\"Food_US\",\"Food_US\"],\"index\":[0,1,2,3,4,5,6,7,8,9,10,11,12,13,14,15,16,17,18,19,20,21,22],\"value\":{\"__ndarray__\":\"bxKDwMpPcEBaZDvfT11wQBSuR+F6aHBA/tR46SalcEBzaJHtfMFwQKabxCCw2HBAObTIdr7LcEBiEFg5tNBwQDMzMzMz1XBAF9nO91PdcEAOLbKd79twQNEi2/l+6nBArkfhehTucECsHFpkO/VwQCcxCKwc+nBASgwCK4cKcUBg5dAi2x1xQNnO91PjP3FA9ihcj8JfcUDTTWIQWHFxQKabxCCwmnFAmpmZmZnDcUBSuB6F6+NxQA==\",\"dtype\":\"float64\",\"order\":\"little\",\"shape\":[23]}},\"selected\":{\"id\":\"5932\"},\"selection_policy\":{\"id\":\"5946\"}},\"id\":\"5931\",\"type\":\"ColumnDataSource\"},{\"attributes\":{\"data\":{\"Variable\":[\"Shelter_US\",\"Shelter_US\",\"Shelter_US\",\"Shelter_US\",\"Shelter_US\",\"Shelter_US\",\"Shelter_US\",\"Shelter_US\",\"Shelter_US\",\"Shelter_US\",\"Shelter_US\",\"Shelter_US\",\"Shelter_US\",\"Shelter_US\",\"Shelter_US\",\"Shelter_US\",\"Shelter_US\",\"Shelter_US\",\"Shelter_US\",\"Shelter_US\",\"Shelter_US\",\"Shelter_US\",\"Shelter_US\"],\"index\":[0,1,2,3,4,5,6,7,8,9,10,11,12,13,14,15,16,17,18,19,20,21,22],\"value\":{\"__ndarray__\":\"/tR46SY1dEBiEFg5tER0QAAAAAAASHRACtejcD1IdEDRItv5flJ0QEjhehSuWXRATmIQWDlkdEBCYOXQImt0QC/dJAaBb3RA9ihcj8J1dEB7FK5H4Xx0QI/C9Shcg3RAfT81XrqHdECcxCCwcpB0QPyp8dJNoHRAgZVDi2y1dEDXo3A9CsV0QIXrUbge33RAarx0kxj2dEDb+X5qvP50QKrx0k1iFHVAXrpJDAItdUDHSzeJQUh1QA==\",\"dtype\":\"float64\",\"order\":\"little\",\"shape\":[23]}},\"selected\":{\"id\":\"5953\"},\"selection_policy\":{\"id\":\"5969\"}},\"id\":\"5952\",\"type\":\"ColumnDataSource\"},{\"attributes\":{},\"id\":\"5975\",\"type\":\"Selection\"},{\"attributes\":{\"source\":{\"id\":\"5952\"}},\"id\":\"5959\",\"type\":\"CDSView\"},{\"attributes\":{\"line_color\":\"#e5ae38\",\"line_width\":2,\"x\":{\"field\":\"index\"},\"y\":{\"field\":\"value\"}},\"id\":\"5997\",\"type\":\"Line\"},{\"attributes\":{},\"id\":\"5902\",\"type\":\"LinearScale\"},{\"attributes\":{\"tools\":[{\"id\":\"5892\"},{\"id\":\"5912\"},{\"id\":\"5913\"},{\"id\":\"5914\"},{\"id\":\"5915\"},{\"id\":\"5916\"}]},\"id\":\"5918\",\"type\":\"Toolbar\"},{\"attributes\":{},\"id\":\"5993\",\"type\":\"UnionRenderers\"},{\"attributes\":{\"axis_label\":\"\",\"coordinates\":null,\"formatter\":{\"id\":\"5929\"},\"group\":null,\"major_label_policy\":{\"id\":\"5930\"},\"ticker\":{\"id\":\"5909\"}},\"id\":\"5908\",\"type\":\"LinearAxis\"},{\"attributes\":{\"axis_label\":\"\",\"coordinates\":null,\"formatter\":{\"id\":\"5926\"},\"group\":null,\"major_label_policy\":{\"id\":\"5927\"},\"ticker\":{\"id\":\"5905\"}},\"id\":\"5904\",\"type\":\"LinearAxis\"},{\"attributes\":{\"bottom_units\":\"screen\",\"coordinates\":null,\"fill_alpha\":0.5,\"fill_color\":\"lightgrey\",\"group\":null,\"left_units\":\"screen\",\"level\":\"overlay\",\"line_alpha\":1.0,\"line_color\":\"black\",\"line_dash\":[4,4],\"line_width\":2,\"right_units\":\"screen\",\"syncable\":false,\"top_units\":\"screen\"},\"id\":\"5917\",\"type\":\"BoxAnnotation\"},{\"attributes\":{},\"id\":\"5927\",\"type\":\"AllLabels\"},{\"attributes\":{},\"id\":\"5969\",\"type\":\"UnionRenderers\"},{\"attributes\":{\"line_alpha\":0.2,\"line_color\":\"#e5ae38\",\"line_width\":2,\"x\":{\"field\":\"index\"},\"y\":{\"field\":\"value\"}},\"id\":\"5979\",\"type\":\"Line\"},{\"attributes\":{},\"id\":\"5953\",\"type\":\"Selection\"},{\"attributes\":{\"axis\":{\"id\":\"5908\"},\"coordinates\":null,\"dimension\":1,\"grid_line_color\":null,\"group\":null,\"ticker\":null},\"id\":\"5911\",\"type\":\"Grid\"},{\"attributes\":{},\"id\":\"5946\",\"type\":\"UnionRenderers\"},{\"attributes\":{\"line_color\":\"#30a2da\",\"line_width\":2,\"x\":{\"field\":\"index\"},\"y\":{\"field\":\"value\"}},\"id\":\"5951\",\"type\":\"Line\"},{\"attributes\":{\"end\":22.0,\"reset_end\":22.0,\"reset_start\":0.0,\"tags\":[[[\"index\",\"index\",null]]]},\"id\":\"5890\",\"type\":\"Range1d\"},{\"attributes\":{\"coordinates\":null,\"data_source\":{\"id\":\"5931\"},\"glyph\":{\"id\":\"5934\"},\"group\":null,\"hover_glyph\":null,\"muted_glyph\":{\"id\":\"5936\"},\"nonselection_glyph\":{\"id\":\"5935\"},\"selection_glyph\":{\"id\":\"5951\"},\"view\":{\"id\":\"5938\"}},\"id\":\"5937\",\"type\":\"GlyphRenderer\"},{\"attributes\":{\"line_alpha\":0.1,\"line_color\":\"#30a2da\",\"line_width\":2,\"x\":{\"field\":\"index\"},\"y\":{\"field\":\"value\"}},\"id\":\"5935\",\"type\":\"Line\"},{\"attributes\":{\"line_alpha\":0.1,\"line_color\":\"#e5ae38\",\"line_width\":2,\"x\":{\"field\":\"index\"},\"y\":{\"field\":\"value\"}},\"id\":\"5978\",\"type\":\"Line\"},{\"attributes\":{\"line_color\":\"#fc4f30\",\"line_width\":2,\"x\":{\"field\":\"index\"},\"y\":{\"field\":\"value\"}},\"id\":\"5973\",\"type\":\"Line\"},{\"attributes\":{\"label\":{\"value\":\"Food_US\"},\"renderers\":[{\"id\":\"5937\"}]},\"id\":\"5950\",\"type\":\"LegendItem\"},{\"attributes\":{\"label\":{\"value\":\"Shelter_US\"},\"renderers\":[{\"id\":\"5958\"}]},\"id\":\"5972\",\"type\":\"LegendItem\"},{\"attributes\":{},\"id\":\"5926\",\"type\":\"BasicTickFormatter\"},{\"attributes\":{\"end\":1560880384.0,\"reset_end\":1560880384.0,\"reset_start\":-141898172.0,\"start\":-141898172.0,\"tags\":[[[\"value\",\"value\",null]]]},\"id\":\"5891\",\"type\":\"Range1d\"},{\"attributes\":{\"click_policy\":\"mute\",\"coordinates\":null,\"group\":null,\"items\":[{\"id\":\"5950\"},{\"id\":\"5972\"},{\"id\":\"5996\"}],\"location\":[0,0],\"title\":\"Variable\"},\"id\":\"5949\",\"type\":\"Legend\"},{\"attributes\":{\"line_alpha\":0.1,\"line_color\":\"#fc4f30\",\"line_width\":2,\"x\":{\"field\":\"index\"},\"y\":{\"field\":\"value\"}},\"id\":\"5956\",\"type\":\"Line\"},{\"attributes\":{\"data\":{\"Variable\":[\"US_Covid\",\"US_Covid\",\"US_Covid\",\"US_Covid\",\"US_Covid\",\"US_Covid\",\"US_Covid\",\"US_Covid\",\"US_Covid\",\"US_Covid\",\"US_Covid\",\"US_Covid\",\"US_Covid\",\"US_Covid\",\"US_Covid\",\"US_Covid\",\"US_Covid\",\"US_Covid\",\"US_Covid\",\"US_Covid\",\"US_Covid\",\"US_Covid\",\"US_Covid\"],\"index\":[0,1,2,3,4,5,6,7,8,9,10,11,12,13,14,15,16,17,18,19,20,21,22],\"value\":[41,402,1121455,19952115,45532271,64923564,111419452,166389385,199199386,251452617,340128433,529508337,733068479,776089304,918766534,946785056,1022498161,1006996231,1060555421,1150163602,1249406449,1392031827,1418982171]},\"selected\":{\"id\":\"5975\"},\"selection_policy\":{\"id\":\"5993\"}},\"id\":\"5974\",\"type\":\"ColumnDataSource\"},{\"attributes\":{},\"id\":\"5930\",\"type\":\"AllLabels\"},{\"attributes\":{},\"id\":\"5900\",\"type\":\"LinearScale\"},{\"attributes\":{\"line_color\":\"#e5ae38\",\"line_width\":2,\"x\":{\"field\":\"index\"},\"y\":{\"field\":\"value\"}},\"id\":\"5977\",\"type\":\"Line\"},{\"attributes\":{},\"id\":\"5912\",\"type\":\"SaveTool\"},{\"attributes\":{\"line_alpha\":0.2,\"line_color\":\"#30a2da\",\"line_width\":2,\"x\":{\"field\":\"index\"},\"y\":{\"field\":\"value\"}},\"id\":\"5936\",\"type\":\"Line\"},{\"attributes\":{},\"id\":\"5913\",\"type\":\"PanTool\"},{\"attributes\":{\"line_alpha\":0.2,\"line_color\":\"#fc4f30\",\"line_width\":2,\"x\":{\"field\":\"index\"},\"y\":{\"field\":\"value\"}},\"id\":\"5957\",\"type\":\"Line\"},{\"attributes\":{\"callback\":null,\"renderers\":[{\"id\":\"5937\"},{\"id\":\"5958\"},{\"id\":\"5980\"}],\"tags\":[\"hv_created\"],\"tooltips\":[[\"Variable\",\"@{Variable}\"],[\"index\",\"@{index}\"],[\"value\",\"@{value}\"]]},\"id\":\"5892\",\"type\":\"HoverTool\"},{\"attributes\":{\"line_color\":\"#fc4f30\",\"line_width\":2,\"x\":{\"field\":\"index\"},\"y\":{\"field\":\"value\"}},\"id\":\"5955\",\"type\":\"Line\"},{\"attributes\":{},\"id\":\"5914\",\"type\":\"WheelZoomTool\"},{\"attributes\":{\"overlay\":{\"id\":\"5917\"}},\"id\":\"5915\",\"type\":\"BoxZoomTool\"},{\"attributes\":{},\"id\":\"5932\",\"type\":\"Selection\"},{\"attributes\":{\"coordinates\":null,\"data_source\":{\"id\":\"5974\"},\"glyph\":{\"id\":\"5977\"},\"group\":null,\"hover_glyph\":null,\"muted_glyph\":{\"id\":\"5979\"},\"nonselection_glyph\":{\"id\":\"5978\"},\"selection_glyph\":{\"id\":\"5997\"},\"view\":{\"id\":\"5981\"}},\"id\":\"5980\",\"type\":\"GlyphRenderer\"},{\"attributes\":{\"margin\":[5,5,5,5],\"name\":\"HSpacer09349\",\"sizing_mode\":\"stretch_width\"},\"id\":\"6124\",\"type\":\"Spacer\"}],\"root_ids\":[\"5888\"]},\"title\":\"Bokeh Application\",\"version\":\"2.4.2\"}};\n",
       "    var render_items = [{\"docid\":\"069ddeb8-b45a-40fc-b04b-bc9453e803d1\",\"root_ids\":[\"5888\"],\"roots\":{\"5888\":\"1a9c538c-d35d-49e5-a6e7-19e3ac34fafb\"}}];\n",
       "    root.Bokeh.embed.embed_items_notebook(docs_json, render_items);\n",
       "  }\n",
       "  if (root.Bokeh !== undefined && root.Bokeh.Panel !== undefined && ( root['Plotly'] !== undefined)) {\n",
       "    embed_document(root);\n",
       "  } else {\n",
       "    var attempts = 0;\n",
       "    var timer = setInterval(function(root) {\n",
       "      if (root.Bokeh !== undefined && root.Bokeh.Panel !== undefined && (root['Plotly'] !== undefined)) {\n",
       "        clearInterval(timer);\n",
       "        embed_document(root);\n",
       "      } else if (document.readyState == \"complete\") {\n",
       "        attempts++;\n",
       "        if (attempts > 200) {\n",
       "          clearInterval(timer);\n",
       "          console.log(\"Bokeh: ERROR: Unable to run BokehJS code because BokehJS library is missing\");\n",
       "        }\n",
       "      }\n",
       "    }, 25, root)\n",
       "  }\n",
       "})(window);</script>"
      ],
      "text/plain": [
       ":NdOverlay   [Variable]\n",
       "   :Curve   [index]   (value)"
      ]
     },
     "execution_count": 98,
     "metadata": {
      "application/vnd.holoviews_exec.v0+json": {
       "id": "5888"
      }
     },
     "output_type": "execute_result"
    }
   ],
   "source": [
    "us_df.hvplot()"
   ]
  },
  {
   "cell_type": "code",
   "execution_count": 99,
   "id": "cd532242",
   "metadata": {},
   "outputs": [
    {
     "data": {
      "text/html": [
       "<div>\n",
       "<style scoped>\n",
       "    .dataframe tbody tr th:only-of-type {\n",
       "        vertical-align: middle;\n",
       "    }\n",
       "\n",
       "    .dataframe tbody tr th {\n",
       "        vertical-align: top;\n",
       "    }\n",
       "\n",
       "    .dataframe thead th {\n",
       "        text-align: right;\n",
       "    }\n",
       "</style>\n",
       "<table border=\"1\" class=\"dataframe\">\n",
       "  <thead>\n",
       "    <tr style=\"text-align: right;\">\n",
       "      <th></th>\n",
       "      <th>Food_US</th>\n",
       "      <th>Shelter_US</th>\n",
       "      <th>US_Covid</th>\n",
       "    </tr>\n",
       "  </thead>\n",
       "  <tbody>\n",
       "    <tr>\n",
       "      <th>Food_US</th>\n",
       "      <td>1.000000</td>\n",
       "      <td>0.972605</td>\n",
       "      <td>0.911797</td>\n",
       "    </tr>\n",
       "    <tr>\n",
       "      <th>Shelter_US</th>\n",
       "      <td>0.972605</td>\n",
       "      <td>1.000000</td>\n",
       "      <td>0.956462</td>\n",
       "    </tr>\n",
       "    <tr>\n",
       "      <th>US_Covid</th>\n",
       "      <td>0.911797</td>\n",
       "      <td>0.956462</td>\n",
       "      <td>1.000000</td>\n",
       "    </tr>\n",
       "  </tbody>\n",
       "</table>\n",
       "</div>"
      ],
      "text/plain": [
       "             Food_US  Shelter_US  US_Covid\n",
       "Food_US     1.000000    0.972605  0.911797\n",
       "Shelter_US  0.972605    1.000000  0.956462\n",
       "US_Covid    0.911797    0.956462  1.000000"
      ]
     },
     "execution_count": 99,
     "metadata": {},
     "output_type": "execute_result"
    }
   ],
   "source": [
    "#finding a correlation between covid cases and inflation rate of food and shelter in US\n",
    "correlation = us_df.corr()\n",
    "correlation"
   ]
  },
  {
   "cell_type": "code",
   "execution_count": 100,
   "id": "44479a94",
   "metadata": {},
   "outputs": [
    {
     "data": {
      "text/plain": [
       "<AxesSubplot:>"
      ]
     },
     "execution_count": 100,
     "metadata": {},
     "output_type": "execute_result"
    },
    {
     "data": {
      "image/png": "[encoded data removed]",
      "text/plain": [
       "<Figure size 432x288 with 2 Axes>"
      ]
     },
     "metadata": {
      "needs_background": "light"
     },
     "output_type": "display_data"
    }
   ],
   "source": [
    "#plotting heatmap based on correlation\n",
    "sns.heatmap(correlation, annot=True)"
   ]
  },
  {
   "cell_type": "markdown",
   "id": "954fd08f",
   "metadata": {},
   "source": [
    "### Calculate and plot the correlation for Combined DataFrame "
   ]
  },
  {
   "cell_type": "code",
   "execution_count": 103,
   "id": "0031897a",
   "metadata": {},
   "outputs": [
    {
     "data": {
      "text/html": [
       "<div>\n",
       "<style scoped>\n",
       "    .dataframe tbody tr th:only-of-type {\n",
       "        vertical-align: middle;\n",
       "    }\n",
       "\n",
       "    .dataframe tbody tr th {\n",
       "        vertical-align: top;\n",
       "    }\n",
       "\n",
       "    .dataframe thead th {\n",
       "        text-align: right;\n",
       "    }\n",
       "</style>\n",
       "<table border=\"1\" class=\"dataframe\">\n",
       "  <thead>\n",
       "    <tr style=\"text-align: right;\">\n",
       "      <th></th>\n",
       "      <th>Covid_Cases_US</th>\n",
       "      <th>Inflation_US</th>\n",
       "    </tr>\n",
       "  </thead>\n",
       "  <tbody>\n",
       "    <tr>\n",
       "      <th>Covid_Cases_US</th>\n",
       "      <td>1.000000</td>\n",
       "      <td>0.873074</td>\n",
       "    </tr>\n",
       "    <tr>\n",
       "      <th>Inflation_US</th>\n",
       "      <td>0.873074</td>\n",
       "      <td>1.000000</td>\n",
       "    </tr>\n",
       "  </tbody>\n",
       "</table>\n",
       "</div>"
      ],
      "text/plain": [
       "                Covid_Cases_US  Inflation_US\n",
       "Covid_Cases_US        1.000000      0.873074\n",
       "Inflation_US          0.873074      1.000000"
      ]
     },
     "execution_count": 103,
     "metadata": {},
     "output_type": "execute_result"
    }
   ],
   "source": [
    "# Calculate the correlation\n",
    "US_data=combined_df[[\"Covid_Cases_US\",\"Inflation_US\"]]\n",
    "correlation=US_data.corr()\n",
    "\n",
    "# Display de correlation matrix\n",
    "correlation"
   ]
  },
  {
   "cell_type": "code",
   "execution_count": 104,
   "id": "7ca01f72",
   "metadata": {},
   "outputs": [
    {
     "data": {
      "text/plain": [
       "<AxesSubplot:>"
      ]
     },
     "execution_count": 104,
     "metadata": {},
     "output_type": "execute_result"
    },
    {
     "data": {
      "image/png": "[encoded data removed]",
      "text/plain": [
       "<Figure size 432x288 with 2 Axes>"
      ]
     },
     "metadata": {
      "needs_background": "light"
     },
     "output_type": "display_data"
    }
   ],
   "source": [
    "## use  heatmap to plot the correlation \n",
    "sns.heatmap(correlation, annot=True) "
   ]
  },
  {
   "cell_type": "markdown",
   "id": "45f5121d",
   "metadata": {},
   "source": [
    "### Use the parallel coordinate to plot the correlation\n"
   ]
  },
  {
   "cell_type": "code",
   "execution_count": 108,
   "id": "eaa7267b",
   "metadata": {},
   "outputs": [
    {
     "data": {
      "application/vnd.plotly.v1+json": {
       "config": {
        "plotlyServerURL": "https://plot.ly"
       },
       "data": [
        {
         "dimensions": [
          {
           "label": "Covid_Cases_US",
           "values": [
            1,
            0.8730736369138324
           ]
          },
          {
           "label": "Inflation_US",
           "values": [
            0.8730736369138324,
            1
           ]
          }
         ],
         "domain": {
          "x": [
           0,
           1
          ],
          "y": [
           0,
           1
          ]
         },
         "name": "",
         "type": "parcoords"
        }
       ],
       "layout": {
        "autosize": true,
        "legend": {
         "tracegroupgap": 0
        },
        "margin": {
         "t": 60
        },
        "template": {
         "data": {
          "bar": [
           {
            "error_x": {
             "color": "#2a3f5f"
            },
            "error_y": {
             "color": "#2a3f5f"
            },
            "marker": {
             "line": {
              "color": "#E5ECF6",
              "width": 0.5
             },
             "pattern": {
              "fillmode": "overlay",
              "size": 10,
              "solidity": 0.2
             }
            },
            "type": "bar"
           }
          ],
          "barpolar": [
           {
            "marker": {
             "line": {
              "color": "#E5ECF6",
              "width": 0.5
             },
             "pattern": {
              "fillmode": "overlay",
              "size": 10,
              "solidity": 0.2
             }
            },
            "type": "barpolar"
           }
          ],
          "carpet": [
           {
            "aaxis": {
             "endlinecolor": "#2a3f5f",
             "gridcolor": "white",
             "linecolor": "white",
             "minorgridcolor": "white",
             "startlinecolor": "#2a3f5f"
            },
            "baxis": {
             "endlinecolor": "#2a3f5f",
             "gridcolor": "white",
             "linecolor": "white",
             "minorgridcolor": "white",
             "startlinecolor": "#2a3f5f"
            },
            "type": "carpet"
           }
          ],
          "choropleth": [
           {
            "colorbar": {
             "outlinewidth": 0,
             "ticks": ""
            },
            "type": "choropleth"
           }
          ],
          "contour": [
           {
            "colorbar": {
             "outlinewidth": 0,
             "ticks": ""
            },
            "colorscale": [
             [
              0,
              "#0d0887"
             ],
             [
              0.1111111111111111,
              "#46039f"
             ],
             [
              0.2222222222222222,
              "#7201a8"
             ],
             [
              0.3333333333333333,
              "#9c179e"
             ],
             [
              0.4444444444444444,
              "#bd3786"
             ],
             [
              0.5555555555555556,
              "#d8576b"
             ],
             [
              0.6666666666666666,
              "#ed7953"
             ],
             [
              0.7777777777777778,
              "#fb9f3a"
             ],
             [
              0.8888888888888888,
              "#fdca26"
             ],
             [
              1,
              "#f0f921"
             ]
            ],
            "type": "contour"
           }
          ],
          "contourcarpet": [
           {
            "colorbar": {
             "outlinewidth": 0,
             "ticks": ""
            },
            "type": "contourcarpet"
           }
          ],
          "heatmap": [
           {
            "colorbar": {
             "outlinewidth": 0,
             "ticks": ""
            },
            "colorscale": [
             [
              0,
              "#0d0887"
             ],
             [
              0.1111111111111111,
              "#46039f"
             ],
             [
              0.2222222222222222,
              "#7201a8"
             ],
             [
              0.3333333333333333,
              "#9c179e"
             ],
             [
              0.4444444444444444,
              "#bd3786"
             ],
             [
              0.5555555555555556,
              "#d8576b"
             ],
             [
              0.6666666666666666,
              "#ed7953"
             ],
             [
              0.7777777777777778,
              "#fb9f3a"
             ],
             [
              0.8888888888888888,
              "#fdca26"
             ],
             [
              1,
              "#f0f921"
             ]
            ],
            "type": "heatmap"
           }
          ],
          "heatmapgl": [
           {
            "colorbar": {
             "outlinewidth": 0,
             "ticks": ""
            },
            "colorscale": [
             [
              0,
              "#0d0887"
             ],
             [
              0.1111111111111111,
              "#46039f"
             ],
             [
              0.2222222222222222,
              "#7201a8"
             ],
             [
              0.3333333333333333,
              "#9c179e"
             ],
             [
              0.4444444444444444,
              "#bd3786"
             ],
             [
              0.5555555555555556,
              "#d8576b"
             ],
             [
              0.6666666666666666,
              "#ed7953"
             ],
             [
              0.7777777777777778,
              "#fb9f3a"
             ],
             [
              0.8888888888888888,
              "#fdca26"
             ],
             [
              1,
              "#f0f921"
             ]
            ],
            "type": "heatmapgl"
           }
          ],
          "histogram": [
           {
            "marker": {
             "pattern": {
              "fillmode": "overlay",
              "size": 10,
              "solidity": 0.2
             }
            },
            "type": "histogram"
           }
          ],
          "histogram2d": [
           {
            "colorbar": {
             "outlinewidth": 0,
             "ticks": ""
            },
            "colorscale": [
             [
              0,
              "#0d0887"
             ],
             [
              0.1111111111111111,
              "#46039f"
             ],
             [
              0.2222222222222222,
              "#7201a8"
             ],
             [
              0.3333333333333333,
              "#9c179e"
             ],
             [
              0.4444444444444444,
              "#bd3786"
             ],
             [
              0.5555555555555556,
              "#d8576b"
             ],
             [
              0.6666666666666666,
              "#ed7953"
             ],
             [
              0.7777777777777778,
              "#fb9f3a"
             ],
             [
              0.8888888888888888,
              "#fdca26"
             ],
             [
              1,
              "#f0f921"
             ]
            ],
            "type": "histogram2d"
           }
          ],
          "histogram2dcontour": [
           {
            "colorbar": {
             "outlinewidth": 0,
             "ticks": ""
            },
            "colorscale": [
             [
              0,
              "#0d0887"
             ],
             [
              0.1111111111111111,
              "#46039f"
             ],
             [
              0.2222222222222222,
              "#7201a8"
             ],
             [
              0.3333333333333333,
              "#9c179e"
             ],
             [
              0.4444444444444444,
              "#bd3786"
             ],
             [
              0.5555555555555556,
              "#d8576b"
             ],
             [
              0.6666666666666666,
              "#ed7953"
             ],
             [
              0.7777777777777778,
              "#fb9f3a"
             ],
             [
              0.8888888888888888,
              "#fdca26"
             ],
             [
              1,
              "#f0f921"
             ]
            ],
            "type": "histogram2dcontour"
           }
          ],
          "mesh3d": [
           {
            "colorbar": {
             "outlinewidth": 0,
             "ticks": ""
            },
            "type": "mesh3d"
           }
          ],
          "parcoords": [
           {
            "line": {
             "colorbar": {
              "outlinewidth": 0,
              "ticks": ""
             }
            },
            "type": "parcoords"
           }
          ],
          "pie": [
           {
            "automargin": true,
            "type": "pie"
           }
          ],
          "scatter": [
           {
            "marker": {
             "colorbar": {
              "outlinewidth": 0,
              "ticks": ""
             }
            },
            "type": "scatter"
           }
          ],
          "scatter3d": [
           {
            "line": {
             "colorbar": {
              "outlinewidth": 0,
              "ticks": ""
             }
            },
            "marker": {
             "colorbar": {
              "outlinewidth": 0,
              "ticks": ""
             }
            },
            "type": "scatter3d"
           }
          ],
          "scattercarpet": [
           {
            "marker": {
             "colorbar": {
              "outlinewidth": 0,
              "ticks": ""
             }
            },
            "type": "scattercarpet"
           }
          ],
          "scattergeo": [
           {
            "marker": {
             "colorbar": {
              "outlinewidth": 0,
              "ticks": ""
             }
            },
            "type": "scattergeo"
           }
          ],
          "scattergl": [
           {
            "marker": {
             "colorbar": {
              "outlinewidth": 0,
              "ticks": ""
             }
            },
            "type": "scattergl"
           }
          ],
          "scattermapbox": [
           {
            "marker": {
             "colorbar": {
              "outlinewidth": 0,
              "ticks": ""
             }
            },
            "type": "scattermapbox"
           }
          ],
          "scatterpolar": [
           {
            "marker": {
             "colorbar": {
              "outlinewidth": 0,
              "ticks": ""
             }
            },
            "type": "scatterpolar"
           }
          ],
          "scatterpolargl": [
           {
            "marker": {
             "colorbar": {
              "outlinewidth": 0,
              "ticks": ""
             }
            },
            "type": "scatterpolargl"
           }
          ],
          "scatterternary": [
           {
            "marker": {
             "colorbar": {
              "outlinewidth": 0,
              "ticks": ""
             }
            },
            "type": "scatterternary"
           }
          ],
          "surface": [
           {
            "colorbar": {
             "outlinewidth": 0,
             "ticks": ""
            },
            "colorscale": [
             [
              0,
              "#0d0887"
             ],
             [
              0.1111111111111111,
              "#46039f"
             ],
             [
              0.2222222222222222,
              "#7201a8"
             ],
             [
              0.3333333333333333,
              "#9c179e"
             ],
             [
              0.4444444444444444,
              "#bd3786"
             ],
             [
              0.5555555555555556,
              "#d8576b"
             ],
             [
              0.6666666666666666,
              "#ed7953"
             ],
             [
              0.7777777777777778,
              "#fb9f3a"
             ],
             [
              0.8888888888888888,
              "#fdca26"
             ],
             [
              1,
              "#f0f921"
             ]
            ],
            "type": "surface"
           }
          ],
          "table": [
           {
            "cells": {
             "fill": {
              "color": "#EBF0F8"
             },
             "line": {
              "color": "white"
             }
            },
            "header": {
             "fill": {
              "color": "#C8D4E3"
             },
             "line": {
              "color": "white"
             }
            },
            "type": "table"
           }
          ]
         },
         "layout": {
          "annotationdefaults": {
           "arrowcolor": "#2a3f5f",
           "arrowhead": 0,
           "arrowwidth": 1
          },
          "autotypenumbers": "strict",
          "coloraxis": {
           "colorbar": {
            "outlinewidth": 0,
            "ticks": ""
           }
          },
          "colorscale": {
           "diverging": [
            [
             0,
             "#8e0152"
            ],
            [
             0.1,
             "#c51b7d"
            ],
            [
             0.2,
             "#de77ae"
            ],
            [
             0.3,
             "#f1b6da"
            ],
            [
             0.4,
             "#fde0ef"
            ],
            [
             0.5,
             "#f7f7f7"
            ],
            [
             0.6,
             "#e6f5d0"
            ],
            [
             0.7,
             "#b8e186"
            ],
            [
             0.8,
             "#7fbc41"
            ],
            [
             0.9,
             "#4d9221"
            ],
            [
             1,
             "#276419"
            ]
           ],
           "sequential": [
            [
             0,
             "#0d0887"
            ],
            [
             0.1111111111111111,
             "#46039f"
            ],
            [
             0.2222222222222222,
             "#7201a8"
            ],
            [
             0.3333333333333333,
             "#9c179e"
            ],
            [
             0.4444444444444444,
             "#bd3786"
            ],
            [
             0.5555555555555556,
             "#d8576b"
            ],
            [
             0.6666666666666666,
             "#ed7953"
            ],
            [
             0.7777777777777778,
             "#fb9f3a"
            ],
            [
             0.8888888888888888,
             "#fdca26"
            ],
            [
             1,
             "#f0f921"
            ]
           ],
           "sequentialminus": [
            [
             0,
             "#0d0887"
            ],
            [
             0.1111111111111111,
             "#46039f"
            ],
            [
             0.2222222222222222,
             "#7201a8"
            ],
            [
             0.3333333333333333,
             "#9c179e"
            ],
            [
             0.4444444444444444,
             "#bd3786"
            ],
            [
             0.5555555555555556,
             "#d8576b"
            ],
            [
             0.6666666666666666,
             "#ed7953"
            ],
            [
             0.7777777777777778,
             "#fb9f3a"
            ],
            [
             0.8888888888888888,
             "#fdca26"
            ],
            [
             1,
             "#f0f921"
            ]
           ]
          },
          "colorway": [
           "#636efa",
           "#EF553B",
           "#00cc96",
           "#ab63fa",
           "#FFA15A",
           "#19d3f3",
           "#FF6692",
           "#B6E880",
           "#FF97FF",
           "#FECB52"
          ],
          "font": {
           "color": "#2a3f5f"
          },
          "geo": {
           "bgcolor": "white",
           "lakecolor": "white",
           "landcolor": "#E5ECF6",
           "showlakes": true,
           "showland": true,
           "subunitcolor": "white"
          },
          "hoverlabel": {
           "align": "left"
          },
          "hovermode": "closest",
          "mapbox": {
           "style": "light"
          },
          "paper_bgcolor": "white",
          "plot_bgcolor": "#E5ECF6",
          "polar": {
           "angularaxis": {
            "gridcolor": "white",
            "linecolor": "white",
            "ticks": ""
           },
           "bgcolor": "#E5ECF6",
           "radialaxis": {
            "gridcolor": "white",
            "linecolor": "white",
            "ticks": ""
           }
          },
          "scene": {
           "xaxis": {
            "backgroundcolor": "#E5ECF6",
            "gridcolor": "white",
            "gridwidth": 2,
            "linecolor": "white",
            "showbackground": true,
            "ticks": "",
            "zerolinecolor": "white"
           },
           "yaxis": {
            "backgroundcolor": "#E5ECF6",
            "gridcolor": "white",
            "gridwidth": 2,
            "linecolor": "white",
            "showbackground": true,
            "ticks": "",
            "zerolinecolor": "white"
           },
           "zaxis": {
            "backgroundcolor": "#E5ECF6",
            "gridcolor": "white",
            "gridwidth": 2,
            "linecolor": "white",
            "showbackground": true,
            "ticks": "",
            "zerolinecolor": "white"
           }
          },
          "shapedefaults": {
           "line": {
            "color": "#2a3f5f"
           }
          },
          "ternary": {
           "aaxis": {
            "gridcolor": "white",
            "linecolor": "white",
            "ticks": ""
           },
           "baxis": {
            "gridcolor": "white",
            "linecolor": "white",
            "ticks": ""
           },
           "bgcolor": "#E5ECF6",
           "caxis": {
            "gridcolor": "white",
            "linecolor": "white",
            "ticks": ""
           }
          },
          "title": {
           "x": 0.05
          },
          "xaxis": {
           "automargin": true,
           "gridcolor": "white",
           "linecolor": "white",
           "ticks": "",
           "title": {
            "standoff": 15
           },
           "zerolinecolor": "white",
           "zerolinewidth": 2
          },
          "yaxis": {
           "automargin": true,
           "gridcolor": "white",
           "linecolor": "white",
           "ticks": "",
           "title": {
            "standoff": 15
           },
           "zerolinecolor": "white",
           "zerolinewidth": 2
          }
         }
        }
       }
      },
      "image/png": "[encoded data removed]",
      "text/html": [
       "<div>                            <div id=\"271e13bb-e05b-45dc-99e6-43dc9ebbd979\" class=\"plotly-graph-div\" style=\"height:525px; width:100%;\"></div>            <script type=\"text/javascript\">                require([\"plotly\"], function(Plotly) {                    window.PLOTLYENV=window.PLOTLYENV || {};                                    if (document.getElementById(\"271e13bb-e05b-45dc-99e6-43dc9ebbd979\")) {                    Plotly.newPlot(                        \"271e13bb-e05b-45dc-99e6-43dc9ebbd979\",                        [{\"dimensions\":[{\"label\":\"Covid_Cases_US\",\"values\":[1.0,0.8730736369138324]},{\"label\":\"Inflation_US\",\"values\":[0.8730736369138324,1.0]}],\"domain\":{\"x\":[0.0,1.0],\"y\":[0.0,1.0]},\"name\":\"\",\"type\":\"parcoords\"}],                        {\"template\":{\"data\":{\"bar\":[{\"error_x\":{\"color\":\"#2a3f5f\"},\"error_y\":{\"color\":\"#2a3f5f\"},\"marker\":{\"line\":{\"color\":\"#E5ECF6\",\"width\":0.5},\"pattern\":{\"fillmode\":\"overlay\",\"size\":10,\"solidity\":0.2}},\"type\":\"bar\"}],\"barpolar\":[{\"marker\":{\"line\":{\"color\":\"#E5ECF6\",\"width\":0.5},\"pattern\":{\"fillmode\":\"overlay\",\"size\":10,\"solidity\":0.2}},\"type\":\"barpolar\"}],\"carpet\":[{\"aaxis\":{\"endlinecolor\":\"#2a3f5f\",\"gridcolor\":\"white\",\"linecolor\":\"white\",\"minorgridcolor\":\"white\",\"startlinecolor\":\"#2a3f5f\"},\"baxis\":{\"endlinecolor\":\"#2a3f5f\",\"gridcolor\":\"white\",\"linecolor\":\"white\",\"minorgridcolor\":\"white\",\"startlinecolor\":\"#2a3f5f\"},\"type\":\"carpet\"}],\"choropleth\":[{\"colorbar\":{\"outlinewidth\":0,\"ticks\":\"\"},\"type\":\"choropleth\"}],\"contour\":[{\"colorbar\":{\"outlinewidth\":0,\"ticks\":\"\"},\"colorscale\":[[0.0,\"#0d0887\"],[0.1111111111111111,\"#46039f\"],[0.2222222222222222,\"#7201a8\"],[0.3333333333333333,\"#9c179e\"],[0.4444444444444444,\"#bd3786\"],[0.5555555555555556,\"#d8576b\"],[0.6666666666666666,\"#ed7953\"],[0.7777777777777778,\"#fb9f3a\"],[0.8888888888888888,\"#fdca26\"],[1.0,\"#f0f921\"]],\"type\":\"contour\"}],\"contourcarpet\":[{\"colorbar\":{\"outlinewidth\":0,\"ticks\":\"\"},\"type\":\"contourcarpet\"}],\"heatmap\":[{\"colorbar\":{\"outlinewidth\":0,\"ticks\":\"\"},\"colorscale\":[[0.0,\"#0d0887\"],[0.1111111111111111,\"#46039f\"],[0.2222222222222222,\"#7201a8\"],[0.3333333333333333,\"#9c179e\"],[0.4444444444444444,\"#bd3786\"],[0.5555555555555556,\"#d8576b\"],[0.6666666666666666,\"#ed7953\"],[0.7777777777777778,\"#fb9f3a\"],[0.8888888888888888,\"#fdca26\"],[1.0,\"#f0f921\"]],\"type\":\"heatmap\"}],\"heatmapgl\":[{\"colorbar\":{\"outlinewidth\":0,\"ticks\":\"\"},\"colorscale\":[[0.0,\"#0d0887\"],[0.1111111111111111,\"#46039f\"],[0.2222222222222222,\"#7201a8\"],[0.3333333333333333,\"#9c179e\"],[0.4444444444444444,\"#bd3786\"],[0.5555555555555556,\"#d8576b\"],[0.6666666666666666,\"#ed7953\"],[0.7777777777777778,\"#fb9f3a\"],[0.8888888888888888,\"#fdca26\"],[1.0,\"#f0f921\"]],\"type\":\"heatmapgl\"}],\"histogram\":[{\"marker\":{\"pattern\":{\"fillmode\":\"overlay\",\"size\":10,\"solidity\":0.2}},\"type\":\"histogram\"}],\"histogram2d\":[{\"colorbar\":{\"outlinewidth\":0,\"ticks\":\"\"},\"colorscale\":[[0.0,\"#0d0887\"],[0.1111111111111111,\"#46039f\"],[0.2222222222222222,\"#7201a8\"],[0.3333333333333333,\"#9c179e\"],[0.4444444444444444,\"#bd3786\"],[0.5555555555555556,\"#d8576b\"],[0.6666666666666666,\"#ed7953\"],[0.7777777777777778,\"#fb9f3a\"],[0.8888888888888888,\"#fdca26\"],[1.0,\"#f0f921\"]],\"type\":\"histogram2d\"}],\"histogram2dcontour\":[{\"colorbar\":{\"outlinewidth\":0,\"ticks\":\"\"},\"colorscale\":[[0.0,\"#0d0887\"],[0.1111111111111111,\"#46039f\"],[0.2222222222222222,\"#7201a8\"],[0.3333333333333333,\"#9c179e\"],[0.4444444444444444,\"#bd3786\"],[0.5555555555555556,\"#d8576b\"],[0.6666666666666666,\"#ed7953\"],[0.7777777777777778,\"#fb9f3a\"],[0.8888888888888888,\"#fdca26\"],[1.0,\"#f0f921\"]],\"type\":\"histogram2dcontour\"}],\"mesh3d\":[{\"colorbar\":{\"outlinewidth\":0,\"ticks\":\"\"},\"type\":\"mesh3d\"}],\"parcoords\":[{\"line\":{\"colorbar\":{\"outlinewidth\":0,\"ticks\":\"\"}},\"type\":\"parcoords\"}],\"pie\":[{\"automargin\":true,\"type\":\"pie\"}],\"scatter\":[{\"marker\":{\"colorbar\":{\"outlinewidth\":0,\"ticks\":\"\"}},\"type\":\"scatter\"}],\"scatter3d\":[{\"line\":{\"colorbar\":{\"outlinewidth\":0,\"ticks\":\"\"}},\"marker\":{\"colorbar\":{\"outlinewidth\":0,\"ticks\":\"\"}},\"type\":\"scatter3d\"}],\"scattercarpet\":[{\"marker\":{\"colorbar\":{\"outlinewidth\":0,\"ticks\":\"\"}},\"type\":\"scattercarpet\"}],\"scattergeo\":[{\"marker\":{\"colorbar\":{\"outlinewidth\":0,\"ticks\":\"\"}},\"type\":\"scattergeo\"}],\"scattergl\":[{\"marker\":{\"colorbar\":{\"outlinewidth\":0,\"ticks\":\"\"}},\"type\":\"scattergl\"}],\"scattermapbox\":[{\"marker\":{\"colorbar\":{\"outlinewidth\":0,\"ticks\":\"\"}},\"type\":\"scattermapbox\"}],\"scatterpolar\":[{\"marker\":{\"colorbar\":{\"outlinewidth\":0,\"ticks\":\"\"}},\"type\":\"scatterpolar\"}],\"scatterpolargl\":[{\"marker\":{\"colorbar\":{\"outlinewidth\":0,\"ticks\":\"\"}},\"type\":\"scatterpolargl\"}],\"scatterternary\":[{\"marker\":{\"colorbar\":{\"outlinewidth\":0,\"ticks\":\"\"}},\"type\":\"scatterternary\"}],\"surface\":[{\"colorbar\":{\"outlinewidth\":0,\"ticks\":\"\"},\"colorscale\":[[0.0,\"#0d0887\"],[0.1111111111111111,\"#46039f\"],[0.2222222222222222,\"#7201a8\"],[0.3333333333333333,\"#9c179e\"],[0.4444444444444444,\"#bd3786\"],[0.5555555555555556,\"#d8576b\"],[0.6666666666666666,\"#ed7953\"],[0.7777777777777778,\"#fb9f3a\"],[0.8888888888888888,\"#fdca26\"],[1.0,\"#f0f921\"]],\"type\":\"surface\"}],\"table\":[{\"cells\":{\"fill\":{\"color\":\"#EBF0F8\"},\"line\":{\"color\":\"white\"}},\"header\":{\"fill\":{\"color\":\"#C8D4E3\"},\"line\":{\"color\":\"white\"}},\"type\":\"table\"}]},\"layout\":{\"annotationdefaults\":{\"arrowcolor\":\"#2a3f5f\",\"arrowhead\":0,\"arrowwidth\":1},\"autotypenumbers\":\"strict\",\"coloraxis\":{\"colorbar\":{\"outlinewidth\":0,\"ticks\":\"\"}},\"colorscale\":{\"diverging\":[[0,\"#8e0152\"],[0.1,\"#c51b7d\"],[0.2,\"#de77ae\"],[0.3,\"#f1b6da\"],[0.4,\"#fde0ef\"],[0.5,\"#f7f7f7\"],[0.6,\"#e6f5d0\"],[0.7,\"#b8e186\"],[0.8,\"#7fbc41\"],[0.9,\"#4d9221\"],[1,\"#276419\"]],\"sequential\":[[0.0,\"#0d0887\"],[0.1111111111111111,\"#46039f\"],[0.2222222222222222,\"#7201a8\"],[0.3333333333333333,\"#9c179e\"],[0.4444444444444444,\"#bd3786\"],[0.5555555555555556,\"#d8576b\"],[0.6666666666666666,\"#ed7953\"],[0.7777777777777778,\"#fb9f3a\"],[0.8888888888888888,\"#fdca26\"],[1.0,\"#f0f921\"]],\"sequentialminus\":[[0.0,\"#0d0887\"],[0.1111111111111111,\"#46039f\"],[0.2222222222222222,\"#7201a8\"],[0.3333333333333333,\"#9c179e\"],[0.4444444444444444,\"#bd3786\"],[0.5555555555555556,\"#d8576b\"],[0.6666666666666666,\"#ed7953\"],[0.7777777777777778,\"#fb9f3a\"],[0.8888888888888888,\"#fdca26\"],[1.0,\"#f0f921\"]]},\"colorway\":[\"#636efa\",\"#EF553B\",\"#00cc96\",\"#ab63fa\",\"#FFA15A\",\"#19d3f3\",\"#FF6692\",\"#B6E880\",\"#FF97FF\",\"#FECB52\"],\"font\":{\"color\":\"#2a3f5f\"},\"geo\":{\"bgcolor\":\"white\",\"lakecolor\":\"white\",\"landcolor\":\"#E5ECF6\",\"showlakes\":true,\"showland\":true,\"subunitcolor\":\"white\"},\"hoverlabel\":{\"align\":\"left\"},\"hovermode\":\"closest\",\"mapbox\":{\"style\":\"light\"},\"paper_bgcolor\":\"white\",\"plot_bgcolor\":\"#E5ECF6\",\"polar\":{\"angularaxis\":{\"gridcolor\":\"white\",\"linecolor\":\"white\",\"ticks\":\"\"},\"bgcolor\":\"#E5ECF6\",\"radialaxis\":{\"gridcolor\":\"white\",\"linecolor\":\"white\",\"ticks\":\"\"}},\"scene\":{\"xaxis\":{\"backgroundcolor\":\"#E5ECF6\",\"gridcolor\":\"white\",\"gridwidth\":2,\"linecolor\":\"white\",\"showbackground\":true,\"ticks\":\"\",\"zerolinecolor\":\"white\"},\"yaxis\":{\"backgroundcolor\":\"#E5ECF6\",\"gridcolor\":\"white\",\"gridwidth\":2,\"linecolor\":\"white\",\"showbackground\":true,\"ticks\":\"\",\"zerolinecolor\":\"white\"},\"zaxis\":{\"backgroundcolor\":\"#E5ECF6\",\"gridcolor\":\"white\",\"gridwidth\":2,\"linecolor\":\"white\",\"showbackground\":true,\"ticks\":\"\",\"zerolinecolor\":\"white\"}},\"shapedefaults\":{\"line\":{\"color\":\"#2a3f5f\"}},\"ternary\":{\"aaxis\":{\"gridcolor\":\"white\",\"linecolor\":\"white\",\"ticks\":\"\"},\"baxis\":{\"gridcolor\":\"white\",\"linecolor\":\"white\",\"ticks\":\"\"},\"bgcolor\":\"#E5ECF6\",\"caxis\":{\"gridcolor\":\"white\",\"linecolor\":\"white\",\"ticks\":\"\"}},\"title\":{\"x\":0.05},\"xaxis\":{\"automargin\":true,\"gridcolor\":\"white\",\"linecolor\":\"white\",\"ticks\":\"\",\"title\":{\"standoff\":15},\"zerolinecolor\":\"white\",\"zerolinewidth\":2},\"yaxis\":{\"automargin\":true,\"gridcolor\":\"white\",\"linecolor\":\"white\",\"ticks\":\"\",\"title\":{\"standoff\":15},\"zerolinecolor\":\"white\",\"zerolinewidth\":2}}},\"legend\":{\"tracegroupgap\":0},\"margin\":{\"t\":60}},                        {\"responsive\": true}                    ).then(function(){\n",
       "                            \n",
       "var gd = document.getElementById('271e13bb-e05b-45dc-99e6-43dc9ebbd979');\n",
       "var x = new MutationObserver(function (mutations, observer) {{\n",
       "        var display = window.getComputedStyle(gd).display;\n",
       "        if (!display || display === 'none') {{\n",
       "            console.log([gd, 'removed!']);\n",
       "            Plotly.purge(gd);\n",
       "            observer.disconnect();\n",
       "        }}\n",
       "}});\n",
       "\n",
       "// Listen for the removal of the full notebook cells\n",
       "var notebookContainer = gd.closest('#notebook-container');\n",
       "if (notebookContainer) {{\n",
       "    x.observe(notebookContainer, {childList: true});\n",
       "}}\n",
       "\n",
       "// Listen for the clearing of the current output cell\n",
       "var outputEl = gd.closest('.output');\n",
       "if (outputEl) {{\n",
       "    x.observe(outputEl, {childList: true});\n",
       "}}\n",
       "\n",
       "                        })                };                });            </script>        </div>"
      ]
     },
     "metadata": {},
     "output_type": "display_data"
    }
   ],
   "source": [
    "# Plot data using parallel_coordinates plot\n",
    "px.parallel_coordinates(correlation)#color=\"Covid_Cases_US\")\n"
   ]
  },
  {
   "cell_type": "markdown",
   "id": "6f989c2d",
   "metadata": {},
   "source": [
    "# Rolling Statistics\n",
    "\n",
    "1. Calculate and plot the correlation  for all columns using heatmap and parallel coordinate plots \n",
    "2. Calculate and plot the 7 days rolling mean for all columns in data \n",
    "3. Calculate and plot the 7 days rolling standard deviation for inflation rate of US  and Canada\n",
    " \n",
    "\n"
   ]
  },
  {
   "cell_type": "markdown",
   "id": "c9efbfa1",
   "metadata": {},
   "source": [
    "# Rolling Statistics for Combined DataFrame "
   ]
  },
  {
   "cell_type": "code",
   "execution_count": 109,
   "id": "18a377b7",
   "metadata": {},
   "outputs": [
    {
     "data": {
      "text/html": [
       "<div>\n",
       "<style scoped>\n",
       "    .dataframe tbody tr th:only-of-type {\n",
       "        vertical-align: middle;\n",
       "    }\n",
       "\n",
       "    .dataframe tbody tr th {\n",
       "        vertical-align: top;\n",
       "    }\n",
       "\n",
       "    .dataframe thead th {\n",
       "        text-align: right;\n",
       "    }\n",
       "</style>\n",
       "<table border=\"1\" class=\"dataframe\">\n",
       "  <thead>\n",
       "    <tr style=\"text-align: right;\">\n",
       "      <th></th>\n",
       "      <th>Inflation_US</th>\n",
       "      <th>Inflation_CA</th>\n",
       "    </tr>\n",
       "  </thead>\n",
       "  <tbody>\n",
       "    <tr>\n",
       "      <th>0</th>\n",
       "      <td>7.1</td>\n",
       "      <td>1.9</td>\n",
       "    </tr>\n",
       "    <tr>\n",
       "      <th>1</th>\n",
       "      <td>6.8</td>\n",
       "      <td>1.9</td>\n",
       "    </tr>\n",
       "    <tr>\n",
       "      <th>2</th>\n",
       "      <td>6.2</td>\n",
       "      <td>2.0</td>\n",
       "    </tr>\n",
       "    <tr>\n",
       "      <th>3</th>\n",
       "      <td>5.4</td>\n",
       "      <td>2.2</td>\n",
       "    </tr>\n",
       "    <tr>\n",
       "      <th>4</th>\n",
       "      <td>5.3</td>\n",
       "      <td>2.4</td>\n",
       "    </tr>\n",
       "  </tbody>\n",
       "</table>\n",
       "</div>"
      ],
      "text/plain": [
       "   Inflation_US  Inflation_CA\n",
       "0           7.1           1.9\n",
       "1           6.8           1.9\n",
       "2           6.2           2.0\n",
       "3           5.4           2.2\n",
       "4           5.3           2.4"
      ]
     },
     "execution_count": 109,
     "metadata": {},
     "output_type": "execute_result"
    }
   ],
   "source": [
    "#Calculate and plot the 7 days rolling mean for all columns in combined DataFrame \n",
    "inflation_rate=combined_df[[\"Inflation_US\",\"Inflation_CA\"]]\n",
    "inflation_rate.head()"
   ]
  },
  {
   "cell_type": "code",
   "execution_count": 114,
   "id": "2c808908",
   "metadata": {},
   "outputs": [
    {
     "data": {
      "text/plain": [
       "<AxesSubplot:xlabel='inflation rate for US', ylabel='iflation rate for Canada '>"
      ]
     },
     "execution_count": 114,
     "metadata": {},
     "output_type": "execute_result"
    },
    {
     "data": {
      "image/png": "[encoded data removed]",
      "text/plain": [
       "<Figure size 1440x504 with 1 Axes>"
      ]
     },
     "metadata": {
      "needs_background": "light"
     },
     "output_type": "display_data"
    }
   ],
   "source": [
    "inflation_rate.rolling(window=7).mean().plot(figsize=(20,7) ,ylabel=\"iflation rate for Canada \", xlabel=\"inflation rate for US\")"
   ]
  },
  {
   "cell_type": "markdown",
   "id": "1457cabf",
   "metadata": {},
   "source": [
    "###  Calculate and plot the  7 days rolling standard deviation for inflation rate  and  Canada covid cases of  \n"
   ]
  },
  {
   "cell_type": "code",
   "execution_count": 111,
   "id": "939f4213",
   "metadata": {},
   "outputs": [
    {
     "data": {
      "text/html": [
       "<div>\n",
       "<style scoped>\n",
       "    .dataframe tbody tr th:only-of-type {\n",
       "        vertical-align: middle;\n",
       "    }\n",
       "\n",
       "    .dataframe tbody tr th {\n",
       "        vertical-align: top;\n",
       "    }\n",
       "\n",
       "    .dataframe thead th {\n",
       "        text-align: right;\n",
       "    }\n",
       "</style>\n",
       "<table border=\"1\" class=\"dataframe\">\n",
       "  <thead>\n",
       "    <tr style=\"text-align: right;\">\n",
       "      <th></th>\n",
       "      <th>Inflation_CA</th>\n",
       "      <th>Covid_Cases_CA</th>\n",
       "    </tr>\n",
       "  </thead>\n",
       "  <tbody>\n",
       "    <tr>\n",
       "      <th>0</th>\n",
       "      <td>1.9</td>\n",
       "      <td>70660679</td>\n",
       "    </tr>\n",
       "    <tr>\n",
       "      <th>1</th>\n",
       "      <td>1.9</td>\n",
       "      <td>52864275</td>\n",
       "    </tr>\n",
       "    <tr>\n",
       "      <th>2</th>\n",
       "      <td>2.0</td>\n",
       "      <td>52220644</td>\n",
       "    </tr>\n",
       "    <tr>\n",
       "      <th>3</th>\n",
       "      <td>2.2</td>\n",
       "      <td>47080268</td>\n",
       "    </tr>\n",
       "    <tr>\n",
       "      <th>4</th>\n",
       "      <td>2.4</td>\n",
       "      <td>45460750</td>\n",
       "    </tr>\n",
       "  </tbody>\n",
       "</table>\n",
       "</div>"
      ],
      "text/plain": [
       "   Inflation_CA  Covid_Cases_CA\n",
       "0           1.9        70660679\n",
       "1           1.9        52864275\n",
       "2           2.0        52220644\n",
       "3           2.2        47080268\n",
       "4           2.4        45460750"
      ]
     },
     "execution_count": 111,
     "metadata": {},
     "output_type": "execute_result"
    }
   ],
   "source": [
    "#Calculate and plot the rolling standard deviation for inflation rate of US  and covid cases us \n",
    "CA_data=combined_df[[\"Inflation_CA\",\"Covid_Cases_CA\"]]\n",
    "CA_data.head()"
   ]
  },
  {
   "cell_type": "code",
   "execution_count": 115,
   "id": "4851c522",
   "metadata": {},
   "outputs": [
    {
     "data": {
      "text/plain": [
       "<AxesSubplot:title={'center':'7 day rolling standard deviation for inflation rate and covid cases of Canada'}, xlabel='canada inflation rate', ylabel=' Canada covid cases '>"
      ]
     },
     "execution_count": 115,
     "metadata": {},
     "output_type": "execute_result"
    },
    {
     "data": {
      "image/png": "[encoded data removed]",
      "text/plain": [
       "<Figure size 720x360 with 1 Axes>"
      ]
     },
     "metadata": {
      "needs_background": "light"
     },
     "output_type": "display_data"
    }
   ],
   "source": [
    "CA_data.rolling(window=7).std().plot(figsize=(10,5), title= \"7 day rolling standard deviation for inflation rate and covid cases of Canada\",  ylabel=\" Canada covid cases \", xlabel=\"canada inflation rate\")"
   ]
  },
  {
   "cell_type": "code",
   "execution_count": 113,
   "id": "dc5ffb63",
   "metadata": {},
   "outputs": [
    {
     "data": {
      "text/html": [
       "<div>\n",
       "<style scoped>\n",
       "    .dataframe tbody tr th:only-of-type {\n",
       "        vertical-align: middle;\n",
       "    }\n",
       "\n",
       "    .dataframe tbody tr th {\n",
       "        vertical-align: top;\n",
       "    }\n",
       "\n",
       "    .dataframe thead th {\n",
       "        text-align: right;\n",
       "    }\n",
       "</style>\n",
       "<table border=\"1\" class=\"dataframe\">\n",
       "  <thead>\n",
       "    <tr style=\"text-align: right;\">\n",
       "      <th></th>\n",
       "      <th>Inflation_US</th>\n",
       "      <th>Covid_Cases_US</th>\n",
       "    </tr>\n",
       "  </thead>\n",
       "  <tbody>\n",
       "    <tr>\n",
       "      <th>0</th>\n",
       "      <td>7.1</td>\n",
       "      <td>1857993914</td>\n",
       "    </tr>\n",
       "    <tr>\n",
       "      <th>1</th>\n",
       "      <td>6.8</td>\n",
       "      <td>1418982171</td>\n",
       "    </tr>\n",
       "    <tr>\n",
       "      <th>2</th>\n",
       "      <td>6.2</td>\n",
       "      <td>1392031827</td>\n",
       "    </tr>\n",
       "    <tr>\n",
       "      <th>3</th>\n",
       "      <td>5.4</td>\n",
       "      <td>1249406449</td>\n",
       "    </tr>\n",
       "    <tr>\n",
       "      <th>4</th>\n",
       "      <td>5.3</td>\n",
       "      <td>1150163602</td>\n",
       "    </tr>\n",
       "  </tbody>\n",
       "</table>\n",
       "</div>"
      ],
      "text/plain": [
       "   Inflation_US  Covid_Cases_US\n",
       "0           7.1      1857993914\n",
       "1           6.8      1418982171\n",
       "2           6.2      1392031827\n",
       "3           5.4      1249406449\n",
       "4           5.3      1150163602"
      ]
     },
     "execution_count": 113,
     "metadata": {},
     "output_type": "execute_result"
    }
   ],
   "source": [
    "#Calculate and plot the rolling standard deviation for inflation rate of US  and covid cases us \n",
    "US_data=combined_df[[\"Inflation_US\",\"Covid_Cases_US\"]]\n",
    "US_data.head()"
   ]
  },
  {
   "cell_type": "code",
   "execution_count": 116,
   "id": "7e81565f",
   "metadata": {},
   "outputs": [
    {
     "data": {
      "image/png": "[encoded data removed]",
      "text/plain": [
       "<Figure size 432x288 with 1 Axes>"
      ]
     },
     "metadata": {
      "needs_background": "light"
     },
     "output_type": "display_data"
    }
   ],
   "source": [
    "# create figure and axis objects with subplots()\n",
    "std_plot=US_data.rolling(window=7).std()\n",
    "\n",
    "fig_std,ax_std=plt.subplots()\n",
    "ax_std.plot(years_months_df[\"Month & Year\"], std_plot[\"Inflation_US\"], marker=\"o\")\n",
    "ax_std.set_xlabel(\"Month & Year\")\n",
    "ax_std.set_ylabel(\"Inflation STD\")\n",
    "ax_std.plot(years_months_df[\"Month & Year\"], std_plot[\"Covid_Cases_US\"], marker=\"o\")\n",
    "plt.show()"
   ]
  },
  {
   "cell_type": "markdown",
   "id": "900d29e4",
   "metadata": {},
   "source": [
    "## Twin plot for STD (Covid cases & Inflation)\n"
   ]
  },
  {
   "cell_type": "code",
   "execution_count": 117,
   "id": "e9db536b",
   "metadata": {},
   "outputs": [
    {
     "data": {
      "image/png": "[encoded data removed]",
      "text/plain": [
       "<Figure size 432x288 with 2 Axes>"
      ]
     },
     "metadata": {
      "needs_background": "light"
     },
     "output_type": "display_data"
    }
   ],
   "source": [
    "# create figure and axis objects with subplots()\n",
    "fig_std,ax_std = plt.subplots()\n",
    "# make a plot\n",
    "ax_std.plot(years_months_df[\"Month & Year\"], std_plot[\"Inflation_US\"], marker=\"d\")\n",
    "# set x-axis label\n",
    "ax_std.set_xlabel(\"Month & Year\",fontsize=14)\n",
    "# set y-axis label\n",
    "ax_std.set_ylabel(\"Inflation US\",color=\"red\",fontsize=14)\n",
    "# twin object for two different y-axis on the sample plot\n",
    "ax2_std=ax_std.twinx()\n",
    "# make a plot with different y-axis using second axis object\n",
    "ax2_std.plot(years_months_df[\"Month & Year\"], std_plot[\"Covid_Cases_US\"],color=\"blue\",marker=\"d\")\n",
    "ax2_std.set_ylabel(\"Covid Cases US STD\",color=\"blue\",fontsize=14)\n",
    "plt.show()\n",
    "# save the plot as a file\n",
    "fig_std.savefig('2_seperate_axes_1_plot_twinx_std.jpg',\n",
    "            format='jpeg',\n",
    "            dpi=100,\n",
    "            bbox_inches='tight')"
   ]
  },
  {
   "cell_type": "markdown",
   "id": "ff75d1c9",
   "metadata": {},
   "source": [
    "## Using new libraby (Pygal) to plot data from Combined DataFrame  \n",
    "for more inforamtion about the libraby see this link https://www.pygal.org/en/stable/"
   ]
  },
  {
   "cell_type": "markdown",
   "id": "fc907ee8",
   "metadata": {},
   "source": [
    "## Using Pygal library to plot the covid cases in US and Canada "
   ]
  },
  {
   "cell_type": "code",
   "execution_count": 60,
   "id": "20b34991",
   "metadata": {},
   "outputs": [],
   "source": [
    "# Reading and type casting columns in our csv file.\n",
    "combined_df= pd.read_csv(\"Resources/US&CA Dataset.csv\",\n",
    "                        dtype ={\n",
    "                            \"Date\" : str,\n",
    "                            \"Inflation_US\" :float,\n",
    "                            \"Covid_Cases_US\":int,\n",
    "                             \"Covid_Cases_CA\":int,\n",
    "                              \"Inflation_CA\": float\n",
    "                             })"
   ]
  },
  {
   "cell_type": "code",
   "execution_count": 118,
   "id": "0593ba85",
   "metadata": {},
   "outputs": [],
   "source": [
    "# importing pygal library\n",
    "import pygal\n",
    "# we will append data in list \n",
    "\n",
    "a = []\n",
    "b = []\n",
    "\n",
    "\n",
    "# creating object\n",
    "bar_chart = pygal.Bar()\n",
    "bar_chart = pygal.HorizontalBar()\n",
    "for index,row in combined_df.iterrows():\n",
    "\n",
    "    a.append(row[\"Covid_Cases_US\"])\n",
    "    b.append(row[\"Covid_Cases_CA\"])\n",
    "\n",
    "   \n",
    "# adding the     \n",
    "\n",
    "bar_chart.add(\"Covid_Cases_US\", a)\n",
    "bar_chart.add(\"Covid_Cases_CA\",b)\n",
    "\n",
    "\n",
    "# rendering  the file\n",
    "bar_chart.render_to_file(\"bar_chart.svg\")\n"
   ]
  },
  {
   "cell_type": "markdown",
   "id": "98a79e5b",
   "metadata": {},
   "source": [
    "the bar_chart file http://localhost:8888/files/Desktop/UOFT/Projects/Project-1/bar_chart.svg?_xsrf=2%7C217fb47a%7C22119a1299c65cbbdc3c1d1428cb5c78%7C1640541051 "
   ]
  },
  {
   "cell_type": "code",
   "execution_count": 119,
   "id": "4015b5d5",
   "metadata": {},
   "outputs": [],
   "source": [
    "# Create panels to structure the layout of the dashboard\n",
    "geo_column = pn.Column(\n",
    "    \"## Total number of COVID Cses in US & Canada\", covid_db.hvplot(),\n",
    "    px.parallel_categories(\n",
    "    combined_df,\n",
    "    dimensions=[\"Inflation_CA\",\"Covid_Cases_CA\"],\n",
    "    color=\"Inflation_CA\",\n",
    "),\n",
    "    #  Plot  US data  in combined Dataframe using parallel_categories plot\n",
    "px.parallel_categories(\n",
    "    combined_df,\n",
    "    dimensions=[\"Inflation_US\",\"Covid_Cases_US\"],\n",
    "    color=\"Inflation_US\",\n",
    ")\n",
    ")\n",
    "\n",
    "\n",
    "scatter_column = pn.Column(\n",
    "    \"## Correlation of Covid Cases and Inflation(Food & Shelter)\",\n",
    "    canada_df.hvplot(),\n",
    "    us_df.hvplot(),\n",
    ")\n",
    "\n",
    "# Create tabs\n",
    "covid_analysis_dashboard = pn.Tabs(\n",
    "    (\"Covid and Inflation Analysis\", geo_column), (\"Correlations\", scatter_column)\n",
    ")"
   ]
  },
  {
   "cell_type": "code",
   "execution_count": 120,
   "id": "1017fadb",
   "metadata": {},
   "outputs": [
    {
     "data": {},
     "metadata": {},
     "output_type": "display_data"
    },
    {
     "data": {},
     "metadata": {},
     "output_type": "display_data"
    },
    {
     "data": {
      "application/vnd.holoviews_exec.v0+json": "",
      "text/html": [
       "<div id='6238'>\n",
       "\n",
       "\n",
       "\n",
       "\n",
       "\n",
       "  <div class=\"bk-root\" id=\"5f9856a0-e8b4-4bff-80e0-7671d57d4f07\" data-root-id=\"6238\"></div>\n",
       "</div>\n",
       "<script type=\"application/javascript\">(function(root) {\n",
       "  function embed_document(root) {\n",
       "    var docs_json = {\"7582d6a1-49e4-41dd-937f-073b33415626\":{\"defs\":[{\"extends\":null,\"module\":null,\"name\":\"ReactiveHTML1\",\"overrides\":[],\"properties\":[]},{\"extends\":null,\"module\":null,\"name\":\"FlexBox1\",\"overrides\":[],\"properties\":[{\"default\":\"flex-start\",\"kind\":null,\"name\":\"align_content\"},{\"default\":\"flex-start\",\"kind\":null,\"name\":\"align_items\"},{\"default\":\"row\",\"kind\":null,\"name\":\"flex_direction\"},{\"default\":\"wrap\",\"kind\":null,\"name\":\"flex_wrap\"},{\"default\":\"flex-start\",\"kind\":null,\"name\":\"justify_content\"}]},{\"extends\":null,\"module\":null,\"name\":\"TemplateActions1\",\"overrides\":[],\"properties\":[{\"default\":0,\"kind\":null,\"name\":\"open_modal\"},{\"default\":0,\"kind\":null,\"name\":\"close_modal\"}]},{\"extends\":null,\"module\":null,\"name\":\"MaterialTemplateActions1\",\"overrides\":[],\"properties\":[{\"default\":0,\"kind\":null,\"name\":\"open_modal\"},{\"default\":0,\"kind\":null,\"name\":\"close_modal\"}]}],\"roots\":{\"references\":[{\"attributes\":{\"source\":{\"id\":\"6301\"}},\"id\":\"6308\",\"type\":\"CDSView\"},{\"attributes\":{\"line_color\":\"#e5ae38\",\"line_width\":2,\"x\":{\"field\":\"index\"},\"y\":{\"field\":\"value\"}},\"id\":\"6779\",\"type\":\"Line\"},{\"attributes\":{\"below\":[{\"id\":\"6254\"}],\"center\":[{\"id\":\"6256\"},{\"id\":\"6260\"}],\"height\":300,\"left\":[{\"id\":\"6257\"}],\"margin\":[5,5,5,5],\"min_border_bottom\":10,\"min_border_left\":10,\"min_border_right\":10,\"min_border_top\":10,\"renderers\":[{\"id\":\"6286\"},{\"id\":\"6307\"}],\"right\":[{\"id\":\"6298\"}],\"sizing_mode\":\"fixed\",\"title\":{\"id\":\"6246\"},\"toolbar\":{\"id\":\"6267\"},\"width\":700,\"x_range\":{\"id\":\"6241\"},\"x_scale\":{\"id\":\"6250\"},\"y_range\":{\"id\":\"6242\"},\"y_scale\":{\"id\":\"6252\"}},\"id\":\"6245\",\"subtype\":\"Figure\",\"type\":\"Plot\"},{\"attributes\":{\"axis_label\":\"Months\",\"coordinates\":null,\"formatter\":{\"id\":\"6275\"},\"group\":null,\"major_label_policy\":{\"id\":\"6276\"},\"ticker\":{\"id\":\"6255\"}},\"id\":\"6254\",\"type\":\"CategoricalAxis\"},{\"attributes\":{\"axis\":{\"id\":\"6686\"},\"coordinates\":null,\"grid_line_color\":null,\"group\":null,\"ticker\":null},\"id\":\"6689\",\"type\":\"Grid\"},{\"attributes\":{\"line_color\":\"#e5ae38\",\"line_width\":2,\"x\":{\"field\":\"index\"},\"y\":{\"field\":\"value\"}},\"id\":\"6525\",\"type\":\"Line\"},{\"attributes\":{\"line_alpha\":0.2,\"line_color\":\"#30a2da\",\"line_width\":2,\"x\":{\"field\":\"Months\"},\"y\":{\"field\":\"value\"}},\"id\":\"6285\",\"type\":\"Line\"},{\"attributes\":{},\"id\":\"6712\",\"type\":\"AllLabels\"},{\"attributes\":{\"line_alpha\":0.1,\"line_color\":\"#e5ae38\",\"line_width\":2,\"x\":{\"field\":\"index\"},\"y\":{\"field\":\"value\"}},\"id\":\"6760\",\"type\":\"Line\"},{\"attributes\":{},\"id\":\"6691\",\"type\":\"BasicTicker\"},{\"attributes\":{\"axis\":{\"id\":\"6254\"},\"coordinates\":null,\"grid_line_color\":null,\"group\":null,\"ticker\":null},\"id\":\"6256\",\"type\":\"Grid\"},{\"attributes\":{},\"id\":\"6711\",\"type\":\"BasicTickFormatter\"},{\"attributes\":{\"coordinates\":null,\"group\":null,\"text_color\":\"black\",\"text_font_size\":\"12pt\"},\"id\":\"6678\",\"type\":\"Title\"},{\"attributes\":{\"data\":{\"Months\":[\"Jan-20\",\"Feb-20\",\"Mar-20\",\"Apr-20\",\"May-20\",\"Jun-20\",\"Jul-20\",\"Aug-20\",\"Sep-20\",\"Oct-20\",\"Nov-20\",\"Dec-20\",\"Jan-21\",\"Feb-21\",\"Mar-21\",\"Apr-21\",\"May-21\",\"Jun-21\",\"Jul-21\",\"Aug-21\",\"Sep-21\",\"Oct-21\",\"Nov-21\",\"Dec-21\"],\"Variable\":[\"Canada Covid\",\"Canada Covid\",\"Canada Covid\",\"Canada Covid\",\"Canada Covid\",\"Canada Covid\",\"Canada Covid\",\"Canada Covid\",\"Canada Covid\",\"Canada Covid\",\"Canada Covid\",\"Canada Covid\",\"Canada Covid\",\"Canada Covid\",\"Canada Covid\",\"Canada Covid\",\"Canada Covid\",\"Canada Covid\",\"Canada Covid\",\"Canada Covid\",\"Canada Covid\",\"Canada Covid\",\"Canada Covid\",\"Canada Covid\"],\"value\":[12,239,58816,977839,2392456,3015280,3460239,3850908,4305850,6164002,9177149,15106665,21720235,23279070,28662991,33268713,41170707,42325516,44341942,45460750,47080268,52220644,52864275,70660679]},\"selected\":{\"id\":\"6302\"},\"selection_policy\":{\"id\":\"6318\"}},\"id\":\"6301\",\"type\":\"ColumnDataSource\"},{\"attributes\":{\"coordinates\":null,\"data_source\":{\"id\":\"6280\"},\"glyph\":{\"id\":\"6283\"},\"group\":null,\"hover_glyph\":null,\"muted_glyph\":{\"id\":\"6285\"},\"nonselection_glyph\":{\"id\":\"6284\"},\"selection_glyph\":{\"id\":\"6300\"},\"view\":{\"id\":\"6287\"}},\"id\":\"6286\",\"type\":\"GlyphRenderer\"},{\"attributes\":{},\"id\":\"6687\",\"type\":\"BasicTicker\"},{\"attributes\":{\"line_alpha\":0.2,\"line_color\":\"#e5ae38\",\"line_width\":2,\"x\":{\"field\":\"index\"},\"y\":{\"field\":\"value\"}},\"id\":\"6761\",\"type\":\"Line\"},{\"attributes\":{},\"id\":\"6682\",\"type\":\"LinearScale\"},{\"attributes\":{},\"id\":\"6494\",\"type\":\"UnionRenderers\"},{\"attributes\":{},\"id\":\"6276\",\"type\":\"AllLabels\"},{\"attributes\":{\"label\":{\"value\":\"CA_Covid\"},\"renderers\":[{\"id\":\"6528\"}]},\"id\":\"6544\",\"type\":\"LegendItem\"},{\"attributes\":{\"data\":{\"dimensions.0.values\":[{\"__ndarray__\":\"ZmZmZmZmHEAzMzMzMzMbQM3MzMzMzBhAmpmZmZmZFUAzMzMzMzMVQJqZmZmZmRVAmpmZmZmZFUAAAAAAAAAUQM3MzMzMzBBAzczMzMzMBEAzMzMzMzP7P2ZmZmZmZvY/ZmZmZmZm9j8zMzMzMzPzPzMzMzMzM/M/zczMzMzM9D/NzMzMzMz0PwAAAAAAAPA/ZmZmZmZm5j+amZmZmZm5PzMzMzMzM9M/AAAAAAAA+D9mZmZmZmYCQAAAAAAAAARAZmZmZmZmAkDNzMzMzMwAQM3MzMzMzPw/MzMzMzMz+z/NzMzMzMz8P83MzMzMzPw/MzMzMzMz+z/NzMzMzMz8PwAAAAAAAABAZmZmZmZm/j8AAAAAAAD4P5qZmZmZmfk/\",\"dtype\":\"float64\",\"order\":\"little\",\"shape\":[36]}],\"dimensions.1.values\":[{\"__ndarray__\":\"ury+bhvzk1RTuPhS8W14SpIajkSdyjY/B4sFPHEV8jwgy244xkPDNtguQi6/vLEr8aePH7HyRRTJ3PwOmorfC4nm6gk8IKQGrKfeA2/EtgLzcTABrxwRAJIBAAApAAAAAAAAAAAAAAAAAAAAAAAAAAAAAAAAAAAAAAAAAAAAAAAAAAAAAAAAAAAAAAAAAAAA\",\"dtype\":\"int32\",\"order\":\"little\",\"shape\":[36]}],\"line.color\":[{\"__ndarray__\":\"ZmZmZmZmHEAzMzMzMzMbQM3MzMzMzBhAmpmZmZmZFUAzMzMzMzMVQJqZmZmZmRVAmpmZmZmZFUAAAAAAAAAUQM3MzMzMzBBAzczMzMzMBEAzMzMzMzP7P2ZmZmZmZvY/ZmZmZmZm9j8zMzMzMzPzPzMzMzMzM/M/zczMzMzM9D/NzMzMzMz0PwAAAAAAAPA/ZmZmZmZm5j+amZmZmZm5PzMzMzMzM9M/AAAAAAAA+D9mZmZmZmYCQAAAAAAAAARAZmZmZmZmAkDNzMzMzMwAQM3MzMzMzPw/MzMzMzMz+z/NzMzMzMz8P83MzMzMzPw/MzMzMzMz+z/NzMzMzMz8PwAAAAAAAABAZmZmZmZm/j8AAAAAAAD4P5qZmZmZmfk/\",\"dtype\":\"float64\",\"order\":\"little\",\"shape\":[36]}]},\"selected\":{\"id\":\"6919\"},\"selection_policy\":{\"id\":\"6918\"}},\"id\":\"6433\",\"type\":\"ColumnDataSource\"},{\"attributes\":{\"axis\":{\"id\":\"6690\"},\"coordinates\":null,\"dimension\":1,\"grid_line_color\":null,\"group\":null,\"ticker\":null},\"id\":\"6693\",\"type\":\"Grid\"},{\"attributes\":{\"callback\":null,\"renderers\":[{\"id\":\"6286\"},{\"id\":\"6307\"}],\"tags\":[\"hv_created\"],\"tooltips\":[[\"Variable\",\"@{Variable}\"],[\"Months\",\"@{Months}\"],[\"value\",\"@{value}\"]]},\"id\":\"6243\",\"type\":\"HoverTool\"},{\"attributes\":{\"args\":{\"model\":{\"id\":\"6434\"}},\"code\":\"try { model.visibility = (cb_obj.active == 0); } catch { }\",\"tags\":[\"plotly_tab_fix6434\"]},\"id\":\"7143\",\"type\":\"CustomJS\"},{\"attributes\":{\"axis_label\":\"\",\"coordinates\":null,\"formatter\":{\"id\":\"6708\"},\"group\":null,\"major_label_policy\":{\"id\":\"6709\"},\"ticker\":{\"id\":\"6687\"}},\"id\":\"6686\",\"type\":\"LinearAxis\"},{\"attributes\":{\"coordinates\":null,\"data_source\":{\"id\":\"6301\"},\"glyph\":{\"id\":\"6304\"},\"group\":null,\"hover_glyph\":null,\"muted_glyph\":{\"id\":\"6306\"},\"nonselection_glyph\":{\"id\":\"6305\"},\"selection_glyph\":{\"id\":\"6322\"},\"view\":{\"id\":\"6308\"}},\"id\":\"6307\",\"type\":\"GlyphRenderer\"},{\"attributes\":{\"axis_label\":\"\",\"coordinates\":null,\"formatter\":{\"id\":\"6711\"},\"group\":null,\"major_label_policy\":{\"id\":\"6712\"},\"ticker\":{\"id\":\"6691\"}},\"id\":\"6690\",\"type\":\"LinearAxis\"},{\"attributes\":{},\"id\":\"6265\",\"type\":\"ResetTool\"},{\"attributes\":{\"line_alpha\":0.2,\"line_color\":\"#e5ae38\",\"line_width\":2,\"x\":{\"field\":\"index\"},\"y\":{\"field\":\"value\"}},\"id\":\"6527\",\"type\":\"Line\"},{\"attributes\":{\"source\":{\"id\":\"6713\"}},\"id\":\"6720\",\"type\":\"CDSView\"},{\"attributes\":{},\"id\":\"6694\",\"type\":\"SaveTool\"},{\"attributes\":{},\"id\":\"6684\",\"type\":\"LinearScale\"},{\"attributes\":{},\"id\":\"6275\",\"type\":\"CategoricalTickFormatter\"},{\"attributes\":{\"line_color\":\"#fc4f30\",\"line_width\":2,\"x\":{\"field\":\"index\"},\"y\":{\"field\":\"value\"}},\"id\":\"6737\",\"type\":\"Line\"},{\"attributes\":{\"source\":{\"id\":\"6522\"}},\"id\":\"6529\",\"type\":\"CDSView\"},{\"attributes\":{\"coordinates\":null,\"data_source\":{\"id\":\"6522\"},\"glyph\":{\"id\":\"6525\"},\"group\":null,\"hover_glyph\":null,\"muted_glyph\":{\"id\":\"6527\"},\"nonselection_glyph\":{\"id\":\"6526\"},\"selection_glyph\":{\"id\":\"6545\"},\"view\":{\"id\":\"6529\"}},\"id\":\"6528\",\"type\":\"GlyphRenderer\"},{\"attributes\":{\"data\":{\"Variable\":[\"Food_US\",\"Food_US\",\"Food_US\",\"Food_US\",\"Food_US\",\"Food_US\",\"Food_US\",\"Food_US\",\"Food_US\",\"Food_US\",\"Food_US\",\"Food_US\",\"Food_US\",\"Food_US\",\"Food_US\",\"Food_US\",\"Food_US\",\"Food_US\",\"Food_US\",\"Food_US\",\"Food_US\",\"Food_US\",\"Food_US\"],\"index\":[0,1,2,3,4,5,6,7,8,9,10,11,12,13,14,15,16,17,18,19,20,21,22],\"value\":{\"__ndarray__\":\"bxKDwMpPcEBaZDvfT11wQBSuR+F6aHBA/tR46SalcEBzaJHtfMFwQKabxCCw2HBAObTIdr7LcEBiEFg5tNBwQDMzMzMz1XBAF9nO91PdcEAOLbKd79twQNEi2/l+6nBArkfhehTucECsHFpkO/VwQCcxCKwc+nBASgwCK4cKcUBg5dAi2x1xQNnO91PjP3FA9ihcj8JfcUDTTWIQWHFxQKabxCCwmnFAmpmZmZnDcUBSuB6F6+NxQA==\",\"dtype\":\"float64\",\"order\":\"little\",\"shape\":[23]}},\"selected\":{\"id\":\"6714\"},\"selection_policy\":{\"id\":\"6728\"}},\"id\":\"6713\",\"type\":\"ColumnDataSource\"},{\"attributes\":{\"line_color\":\"#30a2da\",\"line_width\":2,\"x\":{\"field\":\"index\"},\"y\":{\"field\":\"value\"}},\"id\":\"6716\",\"type\":\"Line\"},{\"attributes\":{\"overlay\":{\"id\":\"6699\"}},\"id\":\"6697\",\"type\":\"BoxZoomTool\"},{\"attributes\":{\"data\":[{\"dimensions\":[{\"label\":\"Inflation_US\"},{\"label\":\"Covid_Cases_US\"}],\"domain\":{\"x\":[0.0,1.0],\"y\":[0.0,1.0]},\"line\":{\"coloraxis\":\"coloraxis\"},\"name\":\"\",\"type\":\"parcats\"}],\"data_sources\":[{\"id\":\"6433\"}],\"layout\":{\"coloraxis\":{\"colorbar\":{\"title\":{\"text\":\"Inflation_US\"}},\"colorscale\":[[0.0,\"#0d0887\"],[0.1111111111111111,\"#46039f\"],[0.2222222222222222,\"#7201a8\"],[0.3333333333333333,\"#9c179e\"],[0.4444444444444444,\"#bd3786\"],[0.5555555555555556,\"#d8576b\"],[0.6666666666666666,\"#ed7953\"],[0.7777777777777778,\"#fb9f3a\"],[0.8888888888888888,\"#fdca26\"],[1.0,\"#f0f921\"]]},\"legend\":{\"tracegroupgap\":0},\"margin\":{\"t\":60},\"template\":{\"data\":{\"bar\":[{\"error_x\":{\"color\":\"#2a3f5f\"},\"error_y\":{\"color\":\"#2a3f5f\"},\"marker\":{\"line\":{\"color\":\"#E5ECF6\",\"width\":0.5},\"pattern\":{\"fillmode\":\"overlay\",\"size\":10,\"solidity\":0.2}},\"type\":\"bar\"}],\"barpolar\":[{\"marker\":{\"line\":{\"color\":\"#E5ECF6\",\"width\":0.5},\"pattern\":{\"fillmode\":\"overlay\",\"size\":10,\"solidity\":0.2}},\"type\":\"barpolar\"}],\"carpet\":[{\"aaxis\":{\"endlinecolor\":\"#2a3f5f\",\"gridcolor\":\"white\",\"linecolor\":\"white\",\"minorgridcolor\":\"white\",\"startlinecolor\":\"#2a3f5f\"},\"baxis\":{\"endlinecolor\":\"#2a3f5f\",\"gridcolor\":\"white\",\"linecolor\":\"white\",\"minorgridcolor\":\"white\",\"startlinecolor\":\"#2a3f5f\"},\"type\":\"carpet\"}],\"choropleth\":[{\"colorbar\":{\"outlinewidth\":0,\"ticks\":\"\"},\"type\":\"choropleth\"}],\"contour\":[{\"colorbar\":{\"outlinewidth\":0,\"ticks\":\"\"},\"colorscale\":[[0.0,\"#0d0887\"],[0.1111111111111111,\"#46039f\"],[0.2222222222222222,\"#7201a8\"],[0.3333333333333333,\"#9c179e\"],[0.4444444444444444,\"#bd3786\"],[0.5555555555555556,\"#d8576b\"],[0.6666666666666666,\"#ed7953\"],[0.7777777777777778,\"#fb9f3a\"],[0.8888888888888888,\"#fdca26\"],[1.0,\"#f0f921\"]],\"type\":\"contour\"}],\"contourcarpet\":[{\"colorbar\":{\"outlinewidth\":0,\"ticks\":\"\"},\"type\":\"contourcarpet\"}],\"heatmap\":[{\"colorbar\":{\"outlinewidth\":0,\"ticks\":\"\"},\"colorscale\":[[0.0,\"#0d0887\"],[0.1111111111111111,\"#46039f\"],[0.2222222222222222,\"#7201a8\"],[0.3333333333333333,\"#9c179e\"],[0.4444444444444444,\"#bd3786\"],[0.5555555555555556,\"#d8576b\"],[0.6666666666666666,\"#ed7953\"],[0.7777777777777778,\"#fb9f3a\"],[0.8888888888888888,\"#fdca26\"],[1.0,\"#f0f921\"]],\"type\":\"heatmap\"}],\"heatmapgl\":[{\"colorbar\":{\"outlinewidth\":0,\"ticks\":\"\"},\"colorscale\":[[0.0,\"#0d0887\"],[0.1111111111111111,\"#46039f\"],[0.2222222222222222,\"#7201a8\"],[0.3333333333333333,\"#9c179e\"],[0.4444444444444444,\"#bd3786\"],[0.5555555555555556,\"#d8576b\"],[0.6666666666666666,\"#ed7953\"],[0.7777777777777778,\"#fb9f3a\"],[0.8888888888888888,\"#fdca26\"],[1.0,\"#f0f921\"]],\"type\":\"heatmapgl\"}],\"histogram\":[{\"marker\":{\"pattern\":{\"fillmode\":\"overlay\",\"size\":10,\"solidity\":0.2}},\"type\":\"histogram\"}],\"histogram2d\":[{\"colorbar\":{\"outlinewidth\":0,\"ticks\":\"\"},\"colorscale\":[[0.0,\"#0d0887\"],[0.1111111111111111,\"#46039f\"],[0.2222222222222222,\"#7201a8\"],[0.3333333333333333,\"#9c179e\"],[0.4444444444444444,\"#bd3786\"],[0.5555555555555556,\"#d8576b\"],[0.6666666666666666,\"#ed7953\"],[0.7777777777777778,\"#fb9f3a\"],[0.8888888888888888,\"#fdca26\"],[1.0,\"#f0f921\"]],\"type\":\"histogram2d\"}],\"histogram2dcontour\":[{\"colorbar\":{\"outlinewidth\":0,\"ticks\":\"\"},\"colorscale\":[[0.0,\"#0d0887\"],[0.1111111111111111,\"#46039f\"],[0.2222222222222222,\"#7201a8\"],[0.3333333333333333,\"#9c179e\"],[0.4444444444444444,\"#bd3786\"],[0.5555555555555556,\"#d8576b\"],[0.6666666666666666,\"#ed7953\"],[0.7777777777777778,\"#fb9f3a\"],[0.8888888888888888,\"#fdca26\"],[1.0,\"#f0f921\"]],\"type\":\"histogram2dcontour\"}],\"mesh3d\":[{\"colorbar\":{\"outlinewidth\":0,\"ticks\":\"\"},\"type\":\"mesh3d\"}],\"parcoords\":[{\"line\":{\"colorbar\":{\"outlinewidth\":0,\"ticks\":\"\"}},\"type\":\"parcoords\"}],\"pie\":[{\"automargin\":true,\"type\":\"pie\"}],\"scatter\":[{\"marker\":{\"colorbar\":{\"outlinewidth\":0,\"ticks\":\"\"}},\"type\":\"scatter\"}],\"scatter3d\":[{\"line\":{\"colorbar\":{\"outlinewidth\":0,\"ticks\":\"\"}},\"marker\":{\"colorbar\":{\"outlinewidth\":0,\"ticks\":\"\"}},\"type\":\"scatter3d\"}],\"scattercarpet\":[{\"marker\":{\"colorbar\":{\"outlinewidth\":0,\"ticks\":\"\"}},\"type\":\"scattercarpet\"}],\"scattergeo\":[{\"marker\":{\"colorbar\":{\"outlinewidth\":0,\"ticks\":\"\"}},\"type\":\"scattergeo\"}],\"scattergl\":[{\"marker\":{\"colorbar\":{\"outlinewidth\":0,\"ticks\":\"\"}},\"type\":\"scattergl\"}],\"scattermapbox\":[{\"marker\":{\"colorbar\":{\"outlinewidth\":0,\"ticks\":\"\"}},\"type\":\"scattermapbox\"}],\"scatterpolar\":[{\"marker\":{\"colorbar\":{\"outlinewidth\":0,\"ticks\":\"\"}},\"type\":\"scatterpolar\"}],\"scatterpolargl\":[{\"marker\":{\"colorbar\":{\"outlinewidth\":0,\"ticks\":\"\"}},\"type\":\"scatterpolargl\"}],\"scatterternary\":[{\"marker\":{\"colorbar\":{\"outlinewidth\":0,\"ticks\":\"\"}},\"type\":\"scatterternary\"}],\"surface\":[{\"colorbar\":{\"outlinewidth\":0,\"ticks\":\"\"},\"colorscale\":[[0.0,\"#0d0887\"],[0.1111111111111111,\"#46039f\"],[0.2222222222222222,\"#7201a8\"],[0.3333333333333333,\"#9c179e\"],[0.4444444444444444,\"#bd3786\"],[0.5555555555555556,\"#d8576b\"],[0.6666666666666666,\"#ed7953\"],[0.7777777777777778,\"#fb9f3a\"],[0.8888888888888888,\"#fdca26\"],[1.0,\"#f0f921\"]],\"type\":\"surface\"}],\"table\":[{\"cells\":{\"fill\":{\"color\":\"#EBF0F8\"},\"line\":{\"color\":\"white\"}},\"header\":{\"fill\":{\"color\":\"#C8D4E3\"},\"line\":{\"color\":\"white\"}},\"type\":\"table\"}]},\"layout\":{\"annotationdefaults\":{\"arrowcolor\":\"#2a3f5f\",\"arrowhead\":0,\"arrowwidth\":1},\"autotypenumbers\":\"strict\",\"coloraxis\":{\"colorbar\":{\"outlinewidth\":0,\"ticks\":\"\"}},\"colorscale\":{\"diverging\":[[0,\"#8e0152\"],[0.1,\"#c51b7d\"],[0.2,\"#de77ae\"],[0.3,\"#f1b6da\"],[0.4,\"#fde0ef\"],[0.5,\"#f7f7f7\"],[0.6,\"#e6f5d0\"],[0.7,\"#b8e186\"],[0.8,\"#7fbc41\"],[0.9,\"#4d9221\"],[1,\"#276419\"]],\"sequential\":[[0.0,\"#0d0887\"],[0.1111111111111111,\"#46039f\"],[0.2222222222222222,\"#7201a8\"],[0.3333333333333333,\"#9c179e\"],[0.4444444444444444,\"#bd3786\"],[0.5555555555555556,\"#d8576b\"],[0.6666666666666666,\"#ed7953\"],[0.7777777777777778,\"#fb9f3a\"],[0.8888888888888888,\"#fdca26\"],[1.0,\"#f0f921\"]],\"sequentialminus\":[[0.0,\"#0d0887\"],[0.1111111111111111,\"#46039f\"],[0.2222222222222222,\"#7201a8\"],[0.3333333333333333,\"#9c179e\"],[0.4444444444444444,\"#bd3786\"],[0.5555555555555556,\"#d8576b\"],[0.6666666666666666,\"#ed7953\"],[0.7777777777777778,\"#fb9f3a\"],[0.8888888888888888,\"#fdca26\"],[1.0,\"#f0f921\"]]},\"colorway\":[\"#636efa\",\"#EF553B\",\"#00cc96\",\"#ab63fa\",\"#FFA15A\",\"#19d3f3\",\"#FF6692\",\"#B6E880\",\"#FF97FF\",\"#FECB52\"],\"font\":{\"color\":\"#2a3f5f\"},\"geo\":{\"bgcolor\":\"white\",\"lakecolor\":\"white\",\"landcolor\":\"#E5ECF6\",\"showlakes\":true,\"showland\":true,\"subunitcolor\":\"white\"},\"hoverlabel\":{\"align\":\"left\"},\"hovermode\":\"closest\",\"mapbox\":{\"style\":\"light\"},\"paper_bgcolor\":\"white\",\"plot_bgcolor\":\"#E5ECF6\",\"polar\":{\"angularaxis\":{\"gridcolor\":\"white\",\"linecolor\":\"white\",\"ticks\":\"\"},\"bgcolor\":\"#E5ECF6\",\"radialaxis\":{\"gridcolor\":\"white\",\"linecolor\":\"white\",\"ticks\":\"\"}},\"scene\":{\"xaxis\":{\"backgroundcolor\":\"#E5ECF6\",\"gridcolor\":\"white\",\"gridwidth\":2,\"linecolor\":\"white\",\"showbackground\":true,\"ticks\":\"\",\"zerolinecolor\":\"white\"},\"yaxis\":{\"backgroundcolor\":\"#E5ECF6\",\"gridcolor\":\"white\",\"gridwidth\":2,\"linecolor\":\"white\",\"showbackground\":true,\"ticks\":\"\",\"zerolinecolor\":\"white\"},\"zaxis\":{\"backgroundcolor\":\"#E5ECF6\",\"gridcolor\":\"white\",\"gridwidth\":2,\"linecolor\":\"white\",\"showbackground\":true,\"ticks\":\"\",\"zerolinecolor\":\"white\"}},\"shapedefaults\":{\"line\":{\"color\":\"#2a3f5f\"}},\"ternary\":{\"aaxis\":{\"gridcolor\":\"white\",\"linecolor\":\"white\",\"ticks\":\"\"},\"baxis\":{\"gridcolor\":\"white\",\"linecolor\":\"white\",\"ticks\":\"\"},\"bgcolor\":\"#E5ECF6\",\"caxis\":{\"gridcolor\":\"white\",\"linecolor\":\"white\",\"ticks\":\"\"}},\"title\":{\"x\":0.05},\"xaxis\":{\"automargin\":true,\"gridcolor\":\"white\",\"linecolor\":\"white\",\"ticks\":\"\",\"title\":{\"standoff\":15},\"zerolinecolor\":\"white\",\"zerolinewidth\":2},\"yaxis\":{\"automargin\":true,\"gridcolor\":\"white\",\"linecolor\":\"white\",\"ticks\":\"\",\"title\":{\"standoff\":15},\"zerolinecolor\":\"white\",\"zerolinewidth\":2}}}},\"margin\":[5,5,5,5],\"name\":\"Plotly09930\",\"viewport_update_throttle\":200},\"id\":\"6434\",\"type\":\"panel.models.plotly.PlotlyPlot\"},{\"attributes\":{\"line_alpha\":0.1,\"line_color\":\"#30a2da\",\"line_width\":2,\"x\":{\"field\":\"index\"},\"y\":{\"field\":\"value\"}},\"id\":\"6717\",\"type\":\"Line\"},{\"attributes\":{\"client_comm_id\":\"e2f1fc4d04bd4dd4a6b1acfbc4f8f1d2\",\"comm_id\":\"160d121976094ecaaf4148f39307f24f\",\"plot_id\":\"6238\"},\"id\":\"7293\",\"type\":\"panel.models.comm_manager.CommManager\"},{\"attributes\":{},\"id\":\"6255\",\"type\":\"CategoricalTicker\"},{\"attributes\":{},\"id\":\"6695\",\"type\":\"PanTool\"},{\"attributes\":{},\"id\":\"6696\",\"type\":\"WheelZoomTool\"},{\"attributes\":{},\"id\":\"6541\",\"type\":\"UnionRenderers\"},{\"attributes\":{\"coordinates\":null,\"data_source\":{\"id\":\"6756\"},\"glyph\":{\"id\":\"6759\"},\"group\":null,\"hover_glyph\":null,\"muted_glyph\":{\"id\":\"6761\"},\"nonselection_glyph\":{\"id\":\"6760\"},\"selection_glyph\":{\"id\":\"6779\"},\"view\":{\"id\":\"6763\"}},\"id\":\"6762\",\"type\":\"GlyphRenderer\"},{\"attributes\":{},\"id\":\"6698\",\"type\":\"ResetTool\"},{\"attributes\":{\"data\":{\"Months\":[\"Jan-20\",\"Feb-20\",\"Mar-20\",\"Apr-20\",\"May-20\",\"Jun-20\",\"Jul-20\",\"Aug-20\",\"Sep-20\",\"Oct-20\",\"Nov-20\",\"Dec-20\",\"Jan-21\",\"Feb-21\",\"Mar-21\",\"Apr-21\",\"May-21\",\"Jun-21\",\"Jul-21\",\"Aug-21\",\"Sep-21\",\"Oct-21\",\"Nov-21\",\"Dec-21\"],\"Variable\":[\"US Covid\",\"US Covid\",\"US Covid\",\"US Covid\",\"US Covid\",\"US Covid\",\"US Covid\",\"US Covid\",\"US Covid\",\"US Covid\",\"US Covid\",\"US Covid\",\"US Covid\",\"US Covid\",\"US Covid\",\"US Covid\",\"US Covid\",\"US Covid\",\"US Covid\",\"US Covid\",\"US Covid\",\"US Covid\",\"US Covid\",\"US Covid\"],\"value\":[41,402,1121455,19952115,45532271,64923564,111419452,166389385,199199386,251452617,340128433,529508337,733068479,776089304,918766534,946785056,1022498161,1006996231,1060555421,1150163602,1249406449,1392031827,1418982171,1857993914]},\"selected\":{\"id\":\"6281\"},\"selection_policy\":{\"id\":\"6295\"}},\"id\":\"6280\",\"type\":\"ColumnDataSource\"},{\"attributes\":{\"line_alpha\":0.2,\"line_color\":\"#30a2da\",\"line_width\":2,\"x\":{\"field\":\"index\"},\"y\":{\"field\":\"value\"}},\"id\":\"6718\",\"type\":\"Line\"},{\"attributes\":{},\"id\":\"6709\",\"type\":\"AllLabels\"},{\"attributes\":{},\"id\":\"6302\",\"type\":\"Selection\"},{\"attributes\":{\"source\":{\"id\":\"6280\"}},\"id\":\"6287\",\"type\":\"CDSView\"},{\"attributes\":{\"line_color\":\"#30a2da\",\"line_width\":2,\"x\":{\"field\":\"Months\"},\"y\":{\"field\":\"value\"}},\"id\":\"6283\",\"type\":\"Line\"},{\"attributes\":{},\"id\":\"6775\",\"type\":\"UnionRenderers\"},{\"attributes\":{\"label\":{\"value\":\"US_Covid\"},\"renderers\":[{\"id\":\"6762\"}]},\"id\":\"6778\",\"type\":\"LegendItem\"},{\"attributes\":{},\"id\":\"6281\",\"type\":\"Selection\"},{\"attributes\":{},\"id\":\"6917\",\"type\":\"Selection\"},{\"attributes\":{},\"id\":\"6262\",\"type\":\"PanTool\"},{\"attributes\":{\"line_alpha\":0.1,\"line_color\":\"#e5ae38\",\"line_width\":2,\"x\":{\"field\":\"index\"},\"y\":{\"field\":\"value\"}},\"id\":\"6526\",\"type\":\"Line\"},{\"attributes\":{\"bottom_units\":\"screen\",\"coordinates\":null,\"fill_alpha\":0.5,\"fill_color\":\"lightgrey\",\"group\":null,\"left_units\":\"screen\",\"level\":\"overlay\",\"line_alpha\":1.0,\"line_color\":\"black\",\"line_dash\":[4,4],\"line_width\":2,\"right_units\":\"screen\",\"syncable\":false,\"top_units\":\"screen\"},\"id\":\"6266\",\"type\":\"BoxAnnotation\"},{\"attributes\":{\"line_color\":\"#fc4f30\",\"line_width\":2,\"x\":{\"field\":\"Months\"},\"y\":{\"field\":\"value\"}},\"id\":\"6304\",\"type\":\"Line\"},{\"attributes\":{\"overlay\":{\"id\":\"6266\"}},\"id\":\"6264\",\"type\":\"BoxZoomTool\"},{\"attributes\":{\"line_color\":\"#e5ae38\",\"line_width\":2,\"x\":{\"field\":\"index\"},\"y\":{\"field\":\"value\"}},\"id\":\"6759\",\"type\":\"Line\"},{\"attributes\":{\"line_color\":\"#fc4f30\",\"line_width\":2,\"x\":{\"field\":\"index\"},\"y\":{\"field\":\"value\"}},\"id\":\"6755\",\"type\":\"Line\"},{\"attributes\":{},\"id\":\"6295\",\"type\":\"UnionRenderers\"},{\"attributes\":{\"line_color\":\"#e5ae38\",\"line_width\":2,\"x\":{\"field\":\"index\"},\"y\":{\"field\":\"value\"}},\"id\":\"6545\",\"type\":\"Line\"},{\"attributes\":{},\"id\":\"6918\",\"type\":\"UnionRenderers\"},{\"attributes\":{\"coordinates\":null,\"data_source\":{\"id\":\"6713\"},\"glyph\":{\"id\":\"6716\"},\"group\":null,\"hover_glyph\":null,\"muted_glyph\":{\"id\":\"6718\"},\"nonselection_glyph\":{\"id\":\"6717\"},\"selection_glyph\":{\"id\":\"6733\"},\"view\":{\"id\":\"6720\"}},\"id\":\"6719\",\"type\":\"GlyphRenderer\"},{\"attributes\":{\"label\":{\"value\":\"Shelter_US\"},\"renderers\":[{\"id\":\"6740\"}]},\"id\":\"6754\",\"type\":\"LegendItem\"},{\"attributes\":{\"css_classes\":[\"markdown\"],\"margin\":[5,5,5,5],\"name\":\"Markdown09921\",\"text\":\"&lt;h2&gt;Total number of COVID Cses in US &amp;amp; Canada&lt;/h2&gt;\"},\"id\":\"6240\",\"type\":\"panel.models.markup.HTML\"},{\"attributes\":{\"line_alpha\":0.1,\"line_color\":\"#30a2da\",\"line_width\":2,\"x\":{\"field\":\"Months\"},\"y\":{\"field\":\"value\"}},\"id\":\"6284\",\"type\":\"Line\"},{\"attributes\":{\"children\":[{\"id\":\"6437\"},{\"id\":\"6443\"},{\"id\":\"6677\"}],\"margin\":[0,0,0,0],\"name\":\"Column10185\"},\"id\":\"6436\",\"type\":\"Column\"},{\"attributes\":{\"source\":{\"id\":\"6756\"}},\"id\":\"6763\",\"type\":\"CDSView\"},{\"attributes\":{\"factors\":[\"Jan-20\",\"Feb-20\",\"Mar-20\",\"Apr-20\",\"May-20\",\"Jun-20\",\"Jul-20\",\"Aug-20\",\"Sep-20\",\"Oct-20\",\"Nov-20\",\"Dec-20\",\"Jan-21\",\"Feb-21\",\"Mar-21\",\"Apr-21\",\"May-21\",\"Jun-21\",\"Jul-21\",\"Aug-21\",\"Sep-21\",\"Oct-21\",\"Nov-21\",\"Dec-21\"],\"tags\":[[[\"Months\",\"Months\",null]]]},\"id\":\"6241\",\"type\":\"FactorRange\"},{\"attributes\":{\"callback\":null,\"renderers\":[{\"id\":\"6485\"},{\"id\":\"6506\"},{\"id\":\"6528\"}],\"tags\":[\"hv_created\"],\"tooltips\":[[\"Variable\",\"@{Variable}\"],[\"index\",\"@{index}\"],[\"value\",\"@{value}\"]]},\"id\":\"6440\",\"type\":\"HoverTool\"},{\"attributes\":{\"axis\":{\"id\":\"6456\"},\"coordinates\":null,\"dimension\":1,\"grid_line_color\":null,\"group\":null,\"ticker\":null},\"id\":\"6459\",\"type\":\"Grid\"},{\"attributes\":{\"callback\":null,\"renderers\":[{\"id\":\"6719\"},{\"id\":\"6740\"},{\"id\":\"6762\"}],\"tags\":[\"hv_created\"],\"tooltips\":[[\"Variable\",\"@{Variable}\"],[\"index\",\"@{index}\"],[\"value\",\"@{value}\"]]},\"id\":\"6674\",\"type\":\"HoverTool\"},{\"attributes\":{},\"id\":\"6916\",\"type\":\"UnionRenderers\"},{\"attributes\":{},\"id\":\"6250\",\"type\":\"CategoricalScale\"},{\"attributes\":{},\"id\":\"6751\",\"type\":\"UnionRenderers\"},{\"attributes\":{\"line_alpha\":0.1,\"line_color\":\"#30a2da\",\"line_width\":2,\"x\":{\"field\":\"index\"},\"y\":{\"field\":\"value\"}},\"id\":\"6483\",\"type\":\"Line\"},{\"attributes\":{\"line_alpha\":0.2,\"line_color\":\"#fc4f30\",\"line_width\":2,\"x\":{\"field\":\"index\"},\"y\":{\"field\":\"value\"}},\"id\":\"6505\",\"type\":\"Line\"},{\"attributes\":{\"overlay\":{\"id\":\"6465\"}},\"id\":\"6463\",\"type\":\"BoxZoomTool\"},{\"attributes\":{\"data\":{\"Variable\":[\"Shelter_US\",\"Shelter_US\",\"Shelter_US\",\"Shelter_US\",\"Shelter_US\",\"Shelter_US\",\"Shelter_US\",\"Shelter_US\",\"Shelter_US\",\"Shelter_US\",\"Shelter_US\",\"Shelter_US\",\"Shelter_US\",\"Shelter_US\",\"Shelter_US\",\"Shelter_US\",\"Shelter_US\",\"Shelter_US\",\"Shelter_US\",\"Shelter_US\",\"Shelter_US\",\"Shelter_US\",\"Shelter_US\"],\"index\":[0,1,2,3,4,5,6,7,8,9,10,11,12,13,14,15,16,17,18,19,20,21,22],\"value\":{\"__ndarray__\":\"/tR46SY1dEBiEFg5tER0QAAAAAAASHRACtejcD1IdEDRItv5flJ0QEjhehSuWXRATmIQWDlkdEBCYOXQImt0QC/dJAaBb3RA9ihcj8J1dEB7FK5H4Xx0QI/C9Shcg3RAfT81XrqHdECcxCCwcpB0QPyp8dJNoHRAgZVDi2y1dEDXo3A9CsV0QIXrUbge33RAarx0kxj2dEDb+X5qvP50QKrx0k1iFHVAXrpJDAItdUDHSzeJQUh1QA==\",\"dtype\":\"float64\",\"order\":\"little\",\"shape\":[23]}},\"selected\":{\"id\":\"6735\"},\"selection_policy\":{\"id\":\"6751\"}},\"id\":\"6734\",\"type\":\"ColumnDataSource\"},{\"attributes\":{\"line_color\":\"#30a2da\",\"line_width\":2,\"x\":{\"field\":\"index\"},\"y\":{\"field\":\"value\"}},\"id\":\"6499\",\"type\":\"Line\"},{\"attributes\":{},\"id\":\"6728\",\"type\":\"UnionRenderers\"},{\"attributes\":{},\"id\":\"6457\",\"type\":\"BasicTicker\"},{\"attributes\":{\"args\":{\"model\":{\"id\":\"6432\"}},\"code\":\"try { model.visibility = (cb_obj.active == 0); } catch { }\",\"tags\":[\"plotly_tab_fix6432\"]},\"id\":\"7204\",\"type\":\"CustomJS\"},{\"attributes\":{\"coordinates\":null,\"group\":null,\"text_color\":\"black\",\"text_font_size\":\"12pt\"},\"id\":\"6246\",\"type\":\"Title\"},{\"attributes\":{\"axis\":{\"id\":\"6452\"},\"coordinates\":null,\"grid_line_color\":null,\"group\":null,\"ticker\":null},\"id\":\"6455\",\"type\":\"Grid\"},{\"attributes\":{\"css_classes\":[\"markdown\"],\"margin\":[5,5,5,5],\"name\":\"Markdown10173\",\"text\":\"&lt;h2&gt;Correlation of Covid Cases and Inflation(Food &amp;amp; Shelter)&lt;/h2&gt;\"},\"id\":\"6437\",\"type\":\"panel.models.markup.HTML\"},{\"attributes\":{},\"id\":\"6464\",\"type\":\"ResetTool\"},{\"attributes\":{\"child\":{\"id\":\"6436\"},\"name\":\"Column10185\",\"title\":\"Correlations\"},\"id\":\"6906\",\"type\":\"Panel\"},{\"attributes\":{\"line_color\":\"#30a2da\",\"line_width\":2,\"x\":{\"field\":\"index\"},\"y\":{\"field\":\"value\"}},\"id\":\"6482\",\"type\":\"Line\"},{\"attributes\":{\"data\":{\"Variable\":[\"Shelter_CA\",\"Shelter_CA\",\"Shelter_CA\",\"Shelter_CA\",\"Shelter_CA\",\"Shelter_CA\",\"Shelter_CA\",\"Shelter_CA\",\"Shelter_CA\",\"Shelter_CA\",\"Shelter_CA\",\"Shelter_CA\",\"Shelter_CA\",\"Shelter_CA\",\"Shelter_CA\",\"Shelter_CA\",\"Shelter_CA\",\"Shelter_CA\",\"Shelter_CA\",\"Shelter_CA\",\"Shelter_CA\",\"Shelter_CA\",\"Shelter_CA\"],\"index\":[0,1,2,3,4,5,6,7,8,9,10,11,12,13,14,15,16,17,18,19,20,21,22],\"value\":{\"__ndarray__\":\"zczMzMxMYkBmZmZmZlZiQAAAAAAAUGJAAAAAAABAYkAzMzMzMzNiQM3MzMzMTGJAzczMzMxMYkCamZmZmVliQJqZmZmZaWJAmpmZmZmJYkBmZmZmZpZiQGZmZmZmlmJAzczMzMyMYkCamZmZmZliQAAAAAAAwGJAZmZmZmbWYkBmZmZmZvZiQJqZmZmZGWNAAAAAAAAwY0DNzMzMzDxjQM3MzMzMTGNAzczMzMxsY0DNzMzMzHxjQA==\",\"dtype\":\"float64\",\"order\":\"little\",\"shape\":[23]}},\"selected\":{\"id\":\"6501\"},\"selection_policy\":{\"id\":\"6517\"}},\"id\":\"6500\",\"type\":\"ColumnDataSource\"},{\"attributes\":{\"coordinates\":null,\"data_source\":{\"id\":\"6479\"},\"glyph\":{\"id\":\"6482\"},\"group\":null,\"hover_glyph\":null,\"muted_glyph\":{\"id\":\"6484\"},\"nonselection_glyph\":{\"id\":\"6483\"},\"selection_glyph\":{\"id\":\"6499\"},\"view\":{\"id\":\"6486\"}},\"id\":\"6485\",\"type\":\"GlyphRenderer\"},{\"attributes\":{\"label\":{\"value\":\"US Covid\"},\"renderers\":[{\"id\":\"6286\"}]},\"id\":\"6299\",\"type\":\"LegendItem\"},{\"attributes\":{\"data\":{\"Variable\":[\"CA_Covid\",\"CA_Covid\",\"CA_Covid\",\"CA_Covid\",\"CA_Covid\",\"CA_Covid\",\"CA_Covid\",\"CA_Covid\",\"CA_Covid\",\"CA_Covid\",\"CA_Covid\",\"CA_Covid\",\"CA_Covid\",\"CA_Covid\",\"CA_Covid\",\"CA_Covid\",\"CA_Covid\",\"CA_Covid\",\"CA_Covid\",\"CA_Covid\",\"CA_Covid\",\"CA_Covid\",\"CA_Covid\"],\"index\":[0,1,2,3,4,5,6,7,8,9,10,11,12,13,14,15,16,17,18,19,20,21,22],\"value\":[12,239,58816,977839,2392456,3015280,3460239,3850908,4305850,6164002,9177149,15106665,21720235,23279070,28662991,33268713,41170707,42325516,44341942,45460750,47080268,52220644,52864275]},\"selected\":{\"id\":\"6523\"},\"selection_policy\":{\"id\":\"6541\"}},\"id\":\"6522\",\"type\":\"ColumnDataSource\"},{\"attributes\":{},\"id\":\"6517\",\"type\":\"UnionRenderers\"},{\"attributes\":{},\"id\":\"6474\",\"type\":\"BasicTickFormatter\"},{\"attributes\":{\"coordinates\":null,\"group\":null,\"text_color\":\"black\",\"text_font_size\":\"12pt\"},\"id\":\"6444\",\"type\":\"Title\"},{\"attributes\":{},\"id\":\"6480\",\"type\":\"Selection\"},{\"attributes\":{},\"id\":\"6279\",\"type\":\"AllLabels\"},{\"attributes\":{\"end\":22.0,\"reset_end\":22.0,\"reset_start\":0.0,\"tags\":[[[\"index\",\"index\",null]]]},\"id\":\"6438\",\"type\":\"Range1d\"},{\"attributes\":{\"label\":{\"value\":\"Shelter_CA\"},\"renderers\":[{\"id\":\"6506\"}]},\"id\":\"6520\",\"type\":\"LegendItem\"},{\"attributes\":{\"coordinates\":null,\"data_source\":{\"id\":\"6500\"},\"glyph\":{\"id\":\"6503\"},\"group\":null,\"hover_glyph\":null,\"muted_glyph\":{\"id\":\"6505\"},\"nonselection_glyph\":{\"id\":\"6504\"},\"selection_glyph\":{\"id\":\"6521\"},\"view\":{\"id\":\"6507\"}},\"id\":\"6506\",\"type\":\"GlyphRenderer\"},{\"attributes\":{\"line_color\":\"#fc4f30\",\"line_width\":2,\"x\":{\"field\":\"index\"},\"y\":{\"field\":\"value\"}},\"id\":\"6521\",\"type\":\"Line\"},{\"attributes\":{\"source\":{\"id\":\"6734\"}},\"id\":\"6741\",\"type\":\"CDSView\"},{\"attributes\":{\"line_alpha\":0.1,\"line_color\":\"#fc4f30\",\"line_width\":2,\"x\":{\"field\":\"index\"},\"y\":{\"field\":\"value\"}},\"id\":\"6504\",\"type\":\"Line\"},{\"attributes\":{\"axis\":{\"id\":\"6257\"},\"coordinates\":null,\"dimension\":1,\"grid_line_color\":null,\"group\":null,\"ticker\":null},\"id\":\"6260\",\"type\":\"Grid\"},{\"attributes\":{\"line_color\":\"#30a2da\",\"line_width\":2,\"x\":{\"field\":\"Months\"},\"y\":{\"field\":\"value\"}},\"id\":\"6300\",\"type\":\"Line\"},{\"attributes\":{},\"id\":\"6714\",\"type\":\"Selection\"},{\"attributes\":{\"below\":[{\"id\":\"6686\"}],\"center\":[{\"id\":\"6689\"},{\"id\":\"6693\"}],\"height\":300,\"left\":[{\"id\":\"6690\"}],\"margin\":[5,5,5,5],\"min_border_bottom\":10,\"min_border_left\":10,\"min_border_right\":10,\"min_border_top\":10,\"renderers\":[{\"id\":\"6719\"},{\"id\":\"6740\"},{\"id\":\"6762\"}],\"right\":[{\"id\":\"6731\"}],\"sizing_mode\":\"fixed\",\"title\":{\"id\":\"6678\"},\"toolbar\":{\"id\":\"6700\"},\"width\":700,\"x_range\":{\"id\":\"6438\"},\"x_scale\":{\"id\":\"6682\"},\"y_range\":{\"id\":\"6242\"},\"y_scale\":{\"id\":\"6684\"}},\"id\":\"6677\",\"subtype\":\"Figure\",\"type\":\"Plot\"},{\"attributes\":{\"tools\":[{\"id\":\"6674\"},{\"id\":\"6694\"},{\"id\":\"6695\"},{\"id\":\"6696\"},{\"id\":\"6697\"},{\"id\":\"6698\"}]},\"id\":\"6700\",\"type\":\"Toolbar\"},{\"attributes\":{},\"id\":\"6735\",\"type\":\"Selection\"},{\"attributes\":{\"data\":{\"Variable\":[\"US_Covid\",\"US_Covid\",\"US_Covid\",\"US_Covid\",\"US_Covid\",\"US_Covid\",\"US_Covid\",\"US_Covid\",\"US_Covid\",\"US_Covid\",\"US_Covid\",\"US_Covid\",\"US_Covid\",\"US_Covid\",\"US_Covid\",\"US_Covid\",\"US_Covid\",\"US_Covid\",\"US_Covid\",\"US_Covid\",\"US_Covid\",\"US_Covid\",\"US_Covid\"],\"index\":[0,1,2,3,4,5,6,7,8,9,10,11,12,13,14,15,16,17,18,19,20,21,22],\"value\":[41,402,1121455,19952115,45532271,64923564,111419452,166389385,199199386,251452617,340128433,529508337,733068479,776089304,918766534,946785056,1022498161,1006996231,1060555421,1150163602,1249406449,1392031827,1418982171]},\"selected\":{\"id\":\"6757\"},\"selection_policy\":{\"id\":\"6775\"}},\"id\":\"6756\",\"type\":\"ColumnDataSource\"},{\"attributes\":{},\"id\":\"6478\",\"type\":\"AllLabels\"},{\"attributes\":{},\"id\":\"6523\",\"type\":\"Selection\"},{\"attributes\":{\"line_color\":\"#fc4f30\",\"line_width\":2,\"x\":{\"field\":\"Months\"},\"y\":{\"field\":\"value\"}},\"id\":\"6322\",\"type\":\"Line\"},{\"attributes\":{\"below\":[{\"id\":\"6452\"}],\"center\":[{\"id\":\"6455\"},{\"id\":\"6459\"}],\"height\":300,\"left\":[{\"id\":\"6456\"}],\"margin\":[5,5,5,5],\"min_border_bottom\":10,\"min_border_left\":10,\"min_border_right\":10,\"min_border_top\":10,\"renderers\":[{\"id\":\"6485\"},{\"id\":\"6506\"},{\"id\":\"6528\"}],\"right\":[{\"id\":\"6497\"}],\"sizing_mode\":\"fixed\",\"title\":{\"id\":\"6444\"},\"toolbar\":{\"id\":\"6466\"},\"width\":700,\"x_range\":{\"id\":\"6438\"},\"x_scale\":{\"id\":\"6448\"},\"y_range\":{\"id\":\"6242\"},\"y_scale\":{\"id\":\"6450\"}},\"id\":\"6443\",\"subtype\":\"Figure\",\"type\":\"Plot\"},{\"attributes\":{\"end\":2043793304.2,\"reset_end\":2043793304.2,\"reset_start\":-185799378.20000002,\"start\":-185799378.20000002,\"tags\":[[[\"value\",\"value\",null]]]},\"id\":\"6242\",\"type\":\"Range1d\"},{\"attributes\":{},\"id\":\"6278\",\"type\":\"BasicTickFormatter\"},{\"attributes\":{\"line_alpha\":0.2,\"line_color\":\"#fc4f30\",\"line_width\":2,\"x\":{\"field\":\"Months\"},\"y\":{\"field\":\"value\"}},\"id\":\"6306\",\"type\":\"Line\"},{\"attributes\":{},\"id\":\"6263\",\"type\":\"WheelZoomTool\"},{\"attributes\":{\"label\":{\"value\":\"Food_US\"},\"renderers\":[{\"id\":\"6719\"}]},\"id\":\"6732\",\"type\":\"LegendItem\"},{\"attributes\":{},\"id\":\"6501\",\"type\":\"Selection\"},{\"attributes\":{},\"id\":\"6448\",\"type\":\"LinearScale\"},{\"attributes\":{\"line_color\":\"#fc4f30\",\"line_width\":2,\"x\":{\"field\":\"index\"},\"y\":{\"field\":\"value\"}},\"id\":\"6503\",\"type\":\"Line\"},{\"attributes\":{},\"id\":\"6475\",\"type\":\"AllLabels\"},{\"attributes\":{\"children\":[{\"id\":\"6240\"},{\"id\":\"6245\"},{\"id\":\"6432\"},{\"id\":\"6434\"}],\"margin\":[0,0,0,0],\"name\":\"Column09932\"},\"id\":\"6239\",\"type\":\"Column\"},{\"attributes\":{},\"id\":\"6252\",\"type\":\"LinearScale\"},{\"attributes\":{\"tools\":[{\"id\":\"6440\"},{\"id\":\"6460\"},{\"id\":\"6461\"},{\"id\":\"6462\"},{\"id\":\"6463\"},{\"id\":\"6464\"}]},\"id\":\"6466\",\"type\":\"Toolbar\"},{\"attributes\":{\"label\":{\"value\":\"Canada Covid\"},\"renderers\":[{\"id\":\"6307\"}]},\"id\":\"6321\",\"type\":\"LegendItem\"},{\"attributes\":{\"bottom_units\":\"screen\",\"coordinates\":null,\"fill_alpha\":0.5,\"fill_color\":\"lightgrey\",\"group\":null,\"left_units\":\"screen\",\"level\":\"overlay\",\"line_alpha\":1.0,\"line_color\":\"black\",\"line_dash\":[4,4],\"line_width\":2,\"right_units\":\"screen\",\"syncable\":false,\"top_units\":\"screen\"},\"id\":\"6699\",\"type\":\"BoxAnnotation\"},{\"attributes\":{\"axis_label\":\"\",\"coordinates\":null,\"formatter\":{\"id\":\"6477\"},\"group\":null,\"major_label_policy\":{\"id\":\"6478\"},\"ticker\":{\"id\":\"6457\"}},\"id\":\"6456\",\"type\":\"LinearAxis\"},{\"attributes\":{},\"id\":\"6450\",\"type\":\"LinearScale\"},{\"attributes\":{\"click_policy\":\"mute\",\"coordinates\":null,\"group\":null,\"items\":[{\"id\":\"6498\"},{\"id\":\"6520\"},{\"id\":\"6544\"}],\"location\":[0,0],\"title\":\"Variable\"},\"id\":\"6497\",\"type\":\"Legend\"},{\"attributes\":{\"line_alpha\":0.2,\"line_color\":\"#fc4f30\",\"line_width\":2,\"x\":{\"field\":\"index\"},\"y\":{\"field\":\"value\"}},\"id\":\"6739\",\"type\":\"Line\"},{\"attributes\":{\"tools\":[{\"id\":\"6243\"},{\"id\":\"6261\"},{\"id\":\"6262\"},{\"id\":\"6263\"},{\"id\":\"6264\"},{\"id\":\"6265\"}]},\"id\":\"6267\",\"type\":\"Toolbar\"},{\"attributes\":{\"axis_label\":\"\",\"coordinates\":null,\"formatter\":{\"id\":\"6474\"},\"group\":null,\"major_label_policy\":{\"id\":\"6475\"},\"ticker\":{\"id\":\"6453\"}},\"id\":\"6452\",\"type\":\"LinearAxis\"},{\"attributes\":{\"click_policy\":\"mute\",\"coordinates\":null,\"group\":null,\"items\":[{\"id\":\"6732\"},{\"id\":\"6754\"},{\"id\":\"6778\"}],\"location\":[0,0],\"title\":\"Variable\"},\"id\":\"6731\",\"type\":\"Legend\"},{\"attributes\":{},\"id\":\"6708\",\"type\":\"BasicTickFormatter\"},{\"attributes\":{\"child\":{\"id\":\"6239\"},\"name\":\"Column09932\",\"title\":\"Covid and Inflation Analysis\"},\"id\":\"6435\",\"type\":\"Panel\"},{\"attributes\":{\"js_property_callbacks\":{\"change:active\":[{\"id\":\"7143\"},{\"id\":\"7204\"}]},\"margin\":[0,0,0,0],\"tabs\":[{\"id\":\"6435\"},{\"id\":\"6906\"}]},\"id\":\"6238\",\"type\":\"Tabs\"},{\"attributes\":{\"axis_label\":\"\",\"coordinates\":null,\"formatter\":{\"id\":\"6278\"},\"group\":null,\"major_label_policy\":{\"id\":\"6279\"},\"ticker\":{\"id\":\"6258\"}},\"id\":\"6257\",\"type\":\"LinearAxis\"},{\"attributes\":{\"source\":{\"id\":\"6479\"}},\"id\":\"6486\",\"type\":\"CDSView\"},{\"attributes\":{\"line_alpha\":0.2,\"line_color\":\"#30a2da\",\"line_width\":2,\"x\":{\"field\":\"index\"},\"y\":{\"field\":\"value\"}},\"id\":\"6484\",\"type\":\"Line\"},{\"attributes\":{\"label\":{\"value\":\"Food_CA\"},\"renderers\":[{\"id\":\"6485\"}]},\"id\":\"6498\",\"type\":\"LegendItem\"},{\"attributes\":{\"line_alpha\":0.1,\"line_color\":\"#fc4f30\",\"line_width\":2,\"x\":{\"field\":\"Months\"},\"y\":{\"field\":\"value\"}},\"id\":\"6305\",\"type\":\"Line\"},{\"attributes\":{\"source\":{\"id\":\"6500\"}},\"id\":\"6507\",\"type\":\"CDSView\"},{\"attributes\":{},\"id\":\"6757\",\"type\":\"Selection\"},{\"attributes\":{},\"id\":\"6261\",\"type\":\"SaveTool\"},{\"attributes\":{\"bottom_units\":\"screen\",\"coordinates\":null,\"fill_alpha\":0.5,\"fill_color\":\"lightgrey\",\"group\":null,\"left_units\":\"screen\",\"level\":\"overlay\",\"line_alpha\":1.0,\"line_color\":\"black\",\"line_dash\":[4,4],\"line_width\":2,\"right_units\":\"screen\",\"syncable\":false,\"top_units\":\"screen\"},\"id\":\"6465\",\"type\":\"BoxAnnotation\"},{\"attributes\":{\"data\":{\"dimensions.0.values\":[{\"__ndarray__\":\"ZmZmZmZm/j9mZmZmZmb+PwAAAAAAAABAmpmZmZmZAUAzMzMzMzMDQDMzMzMzMwNAzczMzMzMBECamZmZmZkFQDMzMzMzMwdAZmZmZmZmBkBmZmZmZmYGQM3MzMzMzPQ/ZmZmZmZm/j9mZmZmZmb+P83MzMzMzPw/ZmZmZmZm/j/NzMzMzMz8P2ZmZmZmZv4/zczMzMzM/D9mZmZmZmb+P2ZmZmZmZv4/AAAAAAAAAEAAAAAAAAAAQGZmZmZmZv4/zczMzMzM/D9mZmZmZmb+PwAAAAAAAABAzczMzMzM/D9mZmZmZmb+P83MzMzMzPw/zczMzMzM/D/NzMzMzMz8P83MzMzMzPw/zczMzMzM/D9mZmZmZmb+P2ZmZmZmZv4/\",\"dtype\":\"float64\",\"order\":\"little\",\"shape\":[36]}],\"dimensions.1.values\":[{\"__ndarray__\":\"RzI2BBOlJgPk0hwDTGPOAg6ttQK2mqQCDNaFAhM3dALpo/sBz1y1Ad41YwGrbEsBaYLmAD0IjAAiDl4AurNBAJzCOgCPzDQAcAIuAIiBJACv6w4AwOUAAO8AAAAMAAAAAAAAAAAAAAAAAAAAAAAAAAAAAAAAAAAAAAAAAAAAAAAAAAAAAAAAAAAAAAAAAAAA\",\"dtype\":\"int32\",\"order\":\"little\",\"shape\":[36]}],\"line.color\":[{\"__ndarray__\":\"ZmZmZmZm/j9mZmZmZmb+PwAAAAAAAABAmpmZmZmZAUAzMzMzMzMDQDMzMzMzMwNAzczMzMzMBECamZmZmZkFQDMzMzMzMwdAZmZmZmZmBkBmZmZmZmYGQM3MzMzMzPQ/ZmZmZmZm/j9mZmZmZmb+P83MzMzMzPw/ZmZmZmZm/j/NzMzMzMz8P2ZmZmZmZv4/zczMzMzM/D9mZmZmZmb+P2ZmZmZmZv4/AAAAAAAAAEAAAAAAAAAAQGZmZmZmZv4/zczMzMzM/D9mZmZmZmb+PwAAAAAAAABAzczMzMzM/D9mZmZmZmb+P83MzMzMzPw/zczMzMzM/D/NzMzMzMz8P83MzMzMzPw/zczMzMzM/D9mZmZmZmb+P2ZmZmZmZv4/\",\"dtype\":\"float64\",\"order\":\"little\",\"shape\":[36]}]},\"selected\":{\"id\":\"6917\"},\"selection_policy\":{\"id\":\"6916\"}},\"id\":\"6431\",\"type\":\"ColumnDataSource\"},{\"attributes\":{},\"id\":\"6453\",\"type\":\"BasicTicker\"},{\"attributes\":{},\"id\":\"6919\",\"type\":\"Selection\"},{\"attributes\":{},\"id\":\"6258\",\"type\":\"BasicTicker\"},{\"attributes\":{\"line_alpha\":0.1,\"line_color\":\"#fc4f30\",\"line_width\":2,\"x\":{\"field\":\"index\"},\"y\":{\"field\":\"value\"}},\"id\":\"6738\",\"type\":\"Line\"},{\"attributes\":{\"data\":{\"Variable\":[\"Food_CA\",\"Food_CA\",\"Food_CA\",\"Food_CA\",\"Food_CA\",\"Food_CA\",\"Food_CA\",\"Food_CA\",\"Food_CA\",\"Food_CA\",\"Food_CA\",\"Food_CA\",\"Food_CA\",\"Food_CA\",\"Food_CA\",\"Food_CA\",\"Food_CA\",\"Food_CA\",\"Food_CA\",\"Food_CA\",\"Food_CA\",\"Food_CA\",\"Food_CA\"],\"index\":[0,1,2,3,4,5,6,7,8,9,10,11,12,13,14,15,16,17,18,19,20,21,22],\"value\":{\"__ndarray__\":\"AAAAAAAwY0DNzMzMzBxjQJqZmZmZGWNAAAAAAABAY0CamZmZmUljQJqZmZmZWWNAAAAAAABgY0CamZmZmTljQDMzMzMzE2NAmpmZmZkpY0DNzMzMzDxjQDMzMzMzM2NAAAAAAABgY0AzMzMzM3NjQAAAAAAAcGNAzczMzMxsY0AzMzMzM5NjQJqZmZmZmWNAMzMzMzOzY0AAAAAAAMBjQAAAAAAA0GNAZmZmZmbmY0BmZmZmZhZkQA==\",\"dtype\":\"float64\",\"order\":\"little\",\"shape\":[23]}},\"selected\":{\"id\":\"6480\"},\"selection_policy\":{\"id\":\"6494\"}},\"id\":\"6479\",\"type\":\"ColumnDataSource\"},{\"attributes\":{},\"id\":\"6460\",\"type\":\"SaveTool\"},{\"attributes\":{\"click_policy\":\"mute\",\"coordinates\":null,\"group\":null,\"items\":[{\"id\":\"6299\"},{\"id\":\"6321\"}],\"location\":[0,0],\"title\":\"Variable\"},\"id\":\"6298\",\"type\":\"Legend\"},{\"attributes\":{},\"id\":\"6461\",\"type\":\"PanTool\"},{\"attributes\":{},\"id\":\"6318\",\"type\":\"UnionRenderers\"},{\"attributes\":{\"coordinates\":null,\"data_source\":{\"id\":\"6734\"},\"glyph\":{\"id\":\"6737\"},\"group\":null,\"hover_glyph\":null,\"muted_glyph\":{\"id\":\"6739\"},\"nonselection_glyph\":{\"id\":\"6738\"},\"selection_glyph\":{\"id\":\"6755\"},\"view\":{\"id\":\"6741\"}},\"id\":\"6740\",\"type\":\"GlyphRenderer\"},{\"attributes\":{},\"id\":\"6462\",\"type\":\"WheelZoomTool\"},{\"attributes\":{},\"id\":\"6477\",\"type\":\"BasicTickFormatter\"},{\"attributes\":{\"data\":[{\"dimensions\":[{\"label\":\"Inflation_CA\"},{\"label\":\"Covid_Cases_CA\"}],\"domain\":{\"x\":[0.0,1.0],\"y\":[0.0,1.0]},\"line\":{\"coloraxis\":\"coloraxis\"},\"name\":\"\",\"type\":\"parcats\"}],\"data_sources\":[{\"id\":\"6431\"}],\"layout\":{\"coloraxis\":{\"colorbar\":{\"title\":{\"text\":\"Inflation_CA\"}},\"colorscale\":[[0.0,\"#0d0887\"],[0.1111111111111111,\"#46039f\"],[0.2222222222222222,\"#7201a8\"],[0.3333333333333333,\"#9c179e\"],[0.4444444444444444,\"#bd3786\"],[0.5555555555555556,\"#d8576b\"],[0.6666666666666666,\"#ed7953\"],[0.7777777777777778,\"#fb9f3a\"],[0.8888888888888888,\"#fdca26\"],[1.0,\"#f0f921\"]]},\"legend\":{\"tracegroupgap\":0},\"margin\":{\"t\":60},\"template\":{\"data\":{\"bar\":[{\"error_x\":{\"color\":\"#2a3f5f\"},\"error_y\":{\"color\":\"#2a3f5f\"},\"marker\":{\"line\":{\"color\":\"#E5ECF6\",\"width\":0.5},\"pattern\":{\"fillmode\":\"overlay\",\"size\":10,\"solidity\":0.2}},\"type\":\"bar\"}],\"barpolar\":[{\"marker\":{\"line\":{\"color\":\"#E5ECF6\",\"width\":0.5},\"pattern\":{\"fillmode\":\"overlay\",\"size\":10,\"solidity\":0.2}},\"type\":\"barpolar\"}],\"carpet\":[{\"aaxis\":{\"endlinecolor\":\"#2a3f5f\",\"gridcolor\":\"white\",\"linecolor\":\"white\",\"minorgridcolor\":\"white\",\"startlinecolor\":\"#2a3f5f\"},\"baxis\":{\"endlinecolor\":\"#2a3f5f\",\"gridcolor\":\"white\",\"linecolor\":\"white\",\"minorgridcolor\":\"white\",\"startlinecolor\":\"#2a3f5f\"},\"type\":\"carpet\"}],\"choropleth\":[{\"colorbar\":{\"outlinewidth\":0,\"ticks\":\"\"},\"type\":\"choropleth\"}],\"contour\":[{\"colorbar\":{\"outlinewidth\":0,\"ticks\":\"\"},\"colorscale\":[[0.0,\"#0d0887\"],[0.1111111111111111,\"#46039f\"],[0.2222222222222222,\"#7201a8\"],[0.3333333333333333,\"#9c179e\"],[0.4444444444444444,\"#bd3786\"],[0.5555555555555556,\"#d8576b\"],[0.6666666666666666,\"#ed7953\"],[0.7777777777777778,\"#fb9f3a\"],[0.8888888888888888,\"#fdca26\"],[1.0,\"#f0f921\"]],\"type\":\"contour\"}],\"contourcarpet\":[{\"colorbar\":{\"outlinewidth\":0,\"ticks\":\"\"},\"type\":\"contourcarpet\"}],\"heatmap\":[{\"colorbar\":{\"outlinewidth\":0,\"ticks\":\"\"},\"colorscale\":[[0.0,\"#0d0887\"],[0.1111111111111111,\"#46039f\"],[0.2222222222222222,\"#7201a8\"],[0.3333333333333333,\"#9c179e\"],[0.4444444444444444,\"#bd3786\"],[0.5555555555555556,\"#d8576b\"],[0.6666666666666666,\"#ed7953\"],[0.7777777777777778,\"#fb9f3a\"],[0.8888888888888888,\"#fdca26\"],[1.0,\"#f0f921\"]],\"type\":\"heatmap\"}],\"heatmapgl\":[{\"colorbar\":{\"outlinewidth\":0,\"ticks\":\"\"},\"colorscale\":[[0.0,\"#0d0887\"],[0.1111111111111111,\"#46039f\"],[0.2222222222222222,\"#7201a8\"],[0.3333333333333333,\"#9c179e\"],[0.4444444444444444,\"#bd3786\"],[0.5555555555555556,\"#d8576b\"],[0.6666666666666666,\"#ed7953\"],[0.7777777777777778,\"#fb9f3a\"],[0.8888888888888888,\"#fdca26\"],[1.0,\"#f0f921\"]],\"type\":\"heatmapgl\"}],\"histogram\":[{\"marker\":{\"pattern\":{\"fillmode\":\"overlay\",\"size\":10,\"solidity\":0.2}},\"type\":\"histogram\"}],\"histogram2d\":[{\"colorbar\":{\"outlinewidth\":0,\"ticks\":\"\"},\"colorscale\":[[0.0,\"#0d0887\"],[0.1111111111111111,\"#46039f\"],[0.2222222222222222,\"#7201a8\"],[0.3333333333333333,\"#9c179e\"],[0.4444444444444444,\"#bd3786\"],[0.5555555555555556,\"#d8576b\"],[0.6666666666666666,\"#ed7953\"],[0.7777777777777778,\"#fb9f3a\"],[0.8888888888888888,\"#fdca26\"],[1.0,\"#f0f921\"]],\"type\":\"histogram2d\"}],\"histogram2dcontour\":[{\"colorbar\":{\"outlinewidth\":0,\"ticks\":\"\"},\"colorscale\":[[0.0,\"#0d0887\"],[0.1111111111111111,\"#46039f\"],[0.2222222222222222,\"#7201a8\"],[0.3333333333333333,\"#9c179e\"],[0.4444444444444444,\"#bd3786\"],[0.5555555555555556,\"#d8576b\"],[0.6666666666666666,\"#ed7953\"],[0.7777777777777778,\"#fb9f3a\"],[0.8888888888888888,\"#fdca26\"],[1.0,\"#f0f921\"]],\"type\":\"histogram2dcontour\"}],\"mesh3d\":[{\"colorbar\":{\"outlinewidth\":0,\"ticks\":\"\"},\"type\":\"mesh3d\"}],\"parcoords\":[{\"line\":{\"colorbar\":{\"outlinewidth\":0,\"ticks\":\"\"}},\"type\":\"parcoords\"}],\"pie\":[{\"automargin\":true,\"type\":\"pie\"}],\"scatter\":[{\"marker\":{\"colorbar\":{\"outlinewidth\":0,\"ticks\":\"\"}},\"type\":\"scatter\"}],\"scatter3d\":[{\"line\":{\"colorbar\":{\"outlinewidth\":0,\"ticks\":\"\"}},\"marker\":{\"colorbar\":{\"outlinewidth\":0,\"ticks\":\"\"}},\"type\":\"scatter3d\"}],\"scattercarpet\":[{\"marker\":{\"colorbar\":{\"outlinewidth\":0,\"ticks\":\"\"}},\"type\":\"scattercarpet\"}],\"scattergeo\":[{\"marker\":{\"colorbar\":{\"outlinewidth\":0,\"ticks\":\"\"}},\"type\":\"scattergeo\"}],\"scattergl\":[{\"marker\":{\"colorbar\":{\"outlinewidth\":0,\"ticks\":\"\"}},\"type\":\"scattergl\"}],\"scattermapbox\":[{\"marker\":{\"colorbar\":{\"outlinewidth\":0,\"ticks\":\"\"}},\"type\":\"scattermapbox\"}],\"scatterpolar\":[{\"marker\":{\"colorbar\":{\"outlinewidth\":0,\"ticks\":\"\"}},\"type\":\"scatterpolar\"}],\"scatterpolargl\":[{\"marker\":{\"colorbar\":{\"outlinewidth\":0,\"ticks\":\"\"}},\"type\":\"scatterpolargl\"}],\"scatterternary\":[{\"marker\":{\"colorbar\":{\"outlinewidth\":0,\"ticks\":\"\"}},\"type\":\"scatterternary\"}],\"surface\":[{\"colorbar\":{\"outlinewidth\":0,\"ticks\":\"\"},\"colorscale\":[[0.0,\"#0d0887\"],[0.1111111111111111,\"#46039f\"],[0.2222222222222222,\"#7201a8\"],[0.3333333333333333,\"#9c179e\"],[0.4444444444444444,\"#bd3786\"],[0.5555555555555556,\"#d8576b\"],[0.6666666666666666,\"#ed7953\"],[0.7777777777777778,\"#fb9f3a\"],[0.8888888888888888,\"#fdca26\"],[1.0,\"#f0f921\"]],\"type\":\"surface\"}],\"table\":[{\"cells\":{\"fill\":{\"color\":\"#EBF0F8\"},\"line\":{\"color\":\"white\"}},\"header\":{\"fill\":{\"color\":\"#C8D4E3\"},\"line\":{\"color\":\"white\"}},\"type\":\"table\"}]},\"layout\":{\"annotationdefaults\":{\"arrowcolor\":\"#2a3f5f\",\"arrowhead\":0,\"arrowwidth\":1},\"autotypenumbers\":\"strict\",\"coloraxis\":{\"colorbar\":{\"outlinewidth\":0,\"ticks\":\"\"}},\"colorscale\":{\"diverging\":[[0,\"#8e0152\"],[0.1,\"#c51b7d\"],[0.2,\"#de77ae\"],[0.3,\"#f1b6da\"],[0.4,\"#fde0ef\"],[0.5,\"#f7f7f7\"],[0.6,\"#e6f5d0\"],[0.7,\"#b8e186\"],[0.8,\"#7fbc41\"],[0.9,\"#4d9221\"],[1,\"#276419\"]],\"sequential\":[[0.0,\"#0d0887\"],[0.1111111111111111,\"#46039f\"],[0.2222222222222222,\"#7201a8\"],[0.3333333333333333,\"#9c179e\"],[0.4444444444444444,\"#bd3786\"],[0.5555555555555556,\"#d8576b\"],[0.6666666666666666,\"#ed7953\"],[0.7777777777777778,\"#fb9f3a\"],[0.8888888888888888,\"#fdca26\"],[1.0,\"#f0f921\"]],\"sequentialminus\":[[0.0,\"#0d0887\"],[0.1111111111111111,\"#46039f\"],[0.2222222222222222,\"#7201a8\"],[0.3333333333333333,\"#9c179e\"],[0.4444444444444444,\"#bd3786\"],[0.5555555555555556,\"#d8576b\"],[0.6666666666666666,\"#ed7953\"],[0.7777777777777778,\"#fb9f3a\"],[0.8888888888888888,\"#fdca26\"],[1.0,\"#f0f921\"]]},\"colorway\":[\"#636efa\",\"#EF553B\",\"#00cc96\",\"#ab63fa\",\"#FFA15A\",\"#19d3f3\",\"#FF6692\",\"#B6E880\",\"#FF97FF\",\"#FECB52\"],\"font\":{\"color\":\"#2a3f5f\"},\"geo\":{\"bgcolor\":\"white\",\"lakecolor\":\"white\",\"landcolor\":\"#E5ECF6\",\"showlakes\":true,\"showland\":true,\"subunitcolor\":\"white\"},\"hoverlabel\":{\"align\":\"left\"},\"hovermode\":\"closest\",\"mapbox\":{\"style\":\"light\"},\"paper_bgcolor\":\"white\",\"plot_bgcolor\":\"#E5ECF6\",\"polar\":{\"angularaxis\":{\"gridcolor\":\"white\",\"linecolor\":\"white\",\"ticks\":\"\"},\"bgcolor\":\"#E5ECF6\",\"radialaxis\":{\"gridcolor\":\"white\",\"linecolor\":\"white\",\"ticks\":\"\"}},\"scene\":{\"xaxis\":{\"backgroundcolor\":\"#E5ECF6\",\"gridcolor\":\"white\",\"gridwidth\":2,\"linecolor\":\"white\",\"showbackground\":true,\"ticks\":\"\",\"zerolinecolor\":\"white\"},\"yaxis\":{\"backgroundcolor\":\"#E5ECF6\",\"gridcolor\":\"white\",\"gridwidth\":2,\"linecolor\":\"white\",\"showbackground\":true,\"ticks\":\"\",\"zerolinecolor\":\"white\"},\"zaxis\":{\"backgroundcolor\":\"#E5ECF6\",\"gridcolor\":\"white\",\"gridwidth\":2,\"linecolor\":\"white\",\"showbackground\":true,\"ticks\":\"\",\"zerolinecolor\":\"white\"}},\"shapedefaults\":{\"line\":{\"color\":\"#2a3f5f\"}},\"ternary\":{\"aaxis\":{\"gridcolor\":\"white\",\"linecolor\":\"white\",\"ticks\":\"\"},\"baxis\":{\"gridcolor\":\"white\",\"linecolor\":\"white\",\"ticks\":\"\"},\"bgcolor\":\"#E5ECF6\",\"caxis\":{\"gridcolor\":\"white\",\"linecolor\":\"white\",\"ticks\":\"\"}},\"title\":{\"x\":0.05},\"xaxis\":{\"automargin\":true,\"gridcolor\":\"white\",\"linecolor\":\"white\",\"ticks\":\"\",\"title\":{\"standoff\":15},\"zerolinecolor\":\"white\",\"zerolinewidth\":2},\"yaxis\":{\"automargin\":true,\"gridcolor\":\"white\",\"linecolor\":\"white\",\"ticks\":\"\",\"title\":{\"standoff\":15},\"zerolinecolor\":\"white\",\"zerolinewidth\":2}}}},\"margin\":[5,5,5,5],\"name\":\"Plotly09928\",\"viewport_update_throttle\":200},\"id\":\"6432\",\"type\":\"panel.models.plotly.PlotlyPlot\"},{\"attributes\":{\"line_color\":\"#30a2da\",\"line_width\":2,\"x\":{\"field\":\"index\"},\"y\":{\"field\":\"value\"}},\"id\":\"6733\",\"type\":\"Line\"}],\"root_ids\":[\"6238\",\"7293\"]},\"title\":\"Bokeh Application\",\"version\":\"2.4.2\"}};\n",
       "    var render_items = [{\"docid\":\"7582d6a1-49e4-41dd-937f-073b33415626\",\"root_ids\":[\"6238\"],\"roots\":{\"6238\":\"5f9856a0-e8b4-4bff-80e0-7671d57d4f07\"}}];\n",
       "    root.Bokeh.embed.embed_items_notebook(docs_json, render_items);\n",
       "  }\n",
       "  if (root.Bokeh !== undefined && root.Bokeh.Panel !== undefined && ( root['Plotly'] !== undefined)) {\n",
       "    embed_document(root);\n",
       "  } else {\n",
       "    var attempts = 0;\n",
       "    var timer = setInterval(function(root) {\n",
       "      if (root.Bokeh !== undefined && root.Bokeh.Panel !== undefined && (root['Plotly'] !== undefined)) {\n",
       "        clearInterval(timer);\n",
       "        embed_document(root);\n",
       "      } else if (document.readyState == \"complete\") {\n",
       "        attempts++;\n",
       "        if (attempts > 200) {\n",
       "          clearInterval(timer);\n",
       "          console.log(\"Bokeh: ERROR: Unable to run BokehJS code because BokehJS library is missing\");\n",
       "        }\n",
       "      }\n",
       "    }, 25, root)\n",
       "  }\n",
       "})(window);</script>"
      ],
      "text/plain": [
       "Tabs\n",
       "    [0] Column\n",
       "        [0] Markdown(str)\n",
       "        [1] HoloViews(NdOverlay)\n",
       "        [2] Plotly(Figure)\n",
       "        [3] Plotly(Figure)\n",
       "    [1] Column\n",
       "        [0] Markdown(str)\n",
       "        [1] HoloViews(NdOverlay)\n",
       "        [2] HoloViews(NdOverlay)"
      ]
     },
     "execution_count": 120,
     "metadata": {
      "application/vnd.holoviews_exec.v0+json": {
       "id": "6238"
      }
     },
     "output_type": "execute_result"
    }
   ],
   "source": [
    "# Execute Panel dashboard using servable function\n",
    "covid_analysis_dashboard.servable()"
   ]
  },
  {
   "cell_type": "code",
   "execution_count": null,
   "id": "c6ecb65b",
   "metadata": {},
   "outputs": [],
   "source": []
  },
  {
   "cell_type": "code",
   "execution_count": null,
   "id": "1e0c273a",
   "metadata": {},
   "outputs": [],
   "source": []
  }
 ],
 "metadata": {
  "kernelspec": {
   "display_name": "Python 3 (ipykernel)",
   "language": "python",
   "name": "python3"
  },
  "language_info": {
   "codemirror_mode": {
    "name": "ipython",
    "version": 3
   },
   "file_extension": ".py",
   "mimetype": "text/x-python",
   "name": "python",
   "nbconvert_exporter": "python",
   "pygments_lexer": "ipython3",
   "version": "3.7.11"
  }
 },
 "nbformat": 4,
 "nbformat_minor": 5
}
