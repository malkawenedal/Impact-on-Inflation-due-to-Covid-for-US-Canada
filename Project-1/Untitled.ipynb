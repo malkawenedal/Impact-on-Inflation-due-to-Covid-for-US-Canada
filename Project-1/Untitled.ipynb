{
 "cells": [
  {
   "cell_type": "code",
   "execution_count": 1,
   "id": "52a7e949",
   "metadata": {},
   "outputs": [],
   "source": [
    "# Import pandas and pathlib\n",
    "import pandas as pd\n",
    "from pathlib import Path"
   ]
  },
  {
   "cell_type": "code",
   "execution_count": 7,
   "id": "0a6af462",
   "metadata": {},
   "outputs": [],
   "source": [
    "cov_glb_cas= pd.read_csv(\"time_series_covid19_confirmed_global.csv\",index_col=\"Country/Region\").sort_values(\"Country/Region\")\n",
    "cov_glb_deth=pd.read_csv(\"time_series_covid19_deaths_global.csv\",index_col=\"Country/Region\").sort_values(\"Country/Region\")\n",
    "cov_glb_recv=pd.read_csv(\"time_series_covid19_recovered_global.csv\",index_col=\"Country/Region\").sort_values(\"Country/Region\")"
   ]
  },
  {
   "cell_type": "code",
   "execution_count": null,
   "id": "f1941eb2",
   "metadata": {},
   "outputs": [],
   "source": []
  },
  {
   "cell_type": "code",
   "execution_count": 9,
   "id": "f5b5741a",
   "metadata": {},
   "outputs": [],
   "source": [
    "cov_glb_deth=cov_glb_deth.drop(columns=[\"1/1/22\", \"1/2/22\",\"1/3/22\",\"1/4/22\",\"1/5/22\"])\n",
    "cov_glb_recv=cov_glb_recv.drop(columns=[\"1/1/22\", \"1/2/22\",\"1/3/22\",\"1/4/22\",\"1/5/22\"])\n",
    "cov_glb_cas=cov_glb_cas.drop(columns=[\"1/1/22\", \"1/2/22\",\"1/3/22\",\"1/4/22\",\"1/5/22\"])\n"
   ]
  },
  {
   "cell_type": "code",
   "execution_count": 24,
   "id": "8e2d8e33",
   "metadata": {},
   "outputs": [],
   "source": [
    "filtred_data_1=cov_glb_cas.loc[[\"Canada\",\"China\", \"Australia\",\"United Kingdom\",\"US\"]]\n",
    "filtred_data_2=cov_glb_recv.loc[[\"Canada\",\"China\", \"Australia\",\"United Kingdom\",\"US\"]]\n",
    "filtred_data_3=cov_glb_deth.loc[[\"Canada\",\"China\", \"Australia\",\"United Kingdom\",\"US\"]]\n"
   ]
  },
  {
   "cell_type": "code",
   "execution_count": 25,
   "id": "ba918da6",
   "metadata": {},
   "outputs": [],
   "source": [
    "filtred_data_1.sort_values(\"Country/Region\",inplace=True)\n",
    "filtred_data_2.sort_values(\"Country/Region\",inplace=True)\n",
    "filtred_data_3.sort_values(\"Country/Region\",inplace=True)"
   ]
  },
  {
   "cell_type": "code",
   "execution_count": null,
   "id": "4471ceff",
   "metadata": {},
   "outputs": [],
   "source": [
    "filtred_data_1.isnull().sum()"
   ]
  },
  {
   "cell_type": "code",
   "execution_count": 37,
   "id": "abd09e4e",
   "metadata": {},
   "outputs": [
    {
     "data": {
      "text/plain": [
       "Province/State    3\n",
       "Lat               1\n",
       "Long              1\n",
       "1/22/20           0\n",
       "1/23/20           0\n",
       "                 ..\n",
       "12/27/21          0\n",
       "12/28/21          0\n",
       "12/29/21          0\n",
       "12/30/21          0\n",
       "12/31/21          0\n",
       "Length: 713, dtype: int64"
      ]
     },
     "execution_count": 37,
     "metadata": {},
     "output_type": "execute_result"
    }
   ],
   "source": [
    "filtred_data_2.isnull().sum()"
   ]
  },
  {
   "cell_type": "code",
   "execution_count": null,
   "id": "5c5cc065",
   "metadata": {},
   "outputs": [],
   "source": [
    "filtred_data_3.isnull().sum()"
   ]
  },
  {
   "cell_type": "code",
   "execution_count": 31,
   "id": "6b481168",
   "metadata": {},
   "outputs": [],
   "source": [
    "filtred_data_1.to_csv(\"confirmed_global_for_5_countries.csv\")\n",
    "filtred_data_2.to_csv(\"covid19_recovered_global_for_5_countries.csv\")\n",
    "filtred_data_3.to_csv(\"covid19_death_global_for_5_countries.csv\")"
   ]
  },
  {
   "cell_type": "code",
   "execution_count": null,
   "id": "715818a1",
   "metadata": {},
   "outputs": [],
   "source": []
  }
 ],
 "metadata": {
  "kernelspec": {
   "display_name": "Python 3 (ipykernel)",
   "language": "python",
   "name": "python3"
  },
  "language_info": {
   "codemirror_mode": {
    "name": "ipython",
    "version": 3
   },
   "file_extension": ".py",
   "mimetype": "text/x-python",
   "name": "python",
   "nbconvert_exporter": "python",
   "pygments_lexer": "ipython3",
   "version": "3.8.8"
  }
 },
 "nbformat": 4,
 "nbformat_minor": 5
}
