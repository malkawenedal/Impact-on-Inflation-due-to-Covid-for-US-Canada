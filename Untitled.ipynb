{
 "cells": [
  {
   "cell_type": "code",
   "execution_count": null,
   "id": "deb9fee2-89ad-49a5-aaff-64d5f58150ab",
   "metadata": {},
   "outputs": [],
   "source": [
    "\n",
    "years_months={\"Date\":combined_df\n",
    "years_months={\"Years\":combined_df.index.year,\"Months\":combined_df.index.month}\n",
    "years_months\n",
    "df['mnth_yr'] =years_months[''].apply(lambda x: x.strftime('%B-%Y')) \n"
   ]
  }
 ],
 "metadata": {
  "kernelspec": {
   "display_name": "",
   "name": ""
  },
  "language_info": {
   "name": ""
  }
 },
 "nbformat": 4,
 "nbformat_minor": 5
}
