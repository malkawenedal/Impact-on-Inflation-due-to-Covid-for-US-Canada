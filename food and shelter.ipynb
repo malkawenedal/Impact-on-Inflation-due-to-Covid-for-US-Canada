{
 "cells": [
  {
   "cell_type": "code",
   "execution_count": null,
   "id": "04e56b6f",
   "metadata": {},
   "outputs": [],
   "source": [
    "#Initial Import\n",
    "\n",
    "import pandas as pd\n",
    "import numpy as np\n",
    "from pathlib import Path\n",
    "import hvplot.pandas\n",
    "import seaborn as sns\n",
    "\n",
    "%matplotlib inline"
   ]
  },
  {
   "cell_type": "markdown",
   "id": "a79680c6",
   "metadata": {},
   "source": [
    "Define & Read the Inflation CSV File"
   ]
  },
  {
   "cell_type": "code",
   "execution_count": null,
   "id": "896674b8",
   "metadata": {},
   "outputs": [],
   "source": [
    "#Define the csvpath \n",
    "csv_inflation = Path(\"food_shelter_CA_US.csv\")\n",
    "\n",
    "#Read in csvfile\n",
    "inflation_db = pd.read_csv(csv_inflation, index_col='Reference period', infer_datetime_format=True, parse_dates=True)\n",
    "inflation_db.head()"
   ]
  },
  {
   "cell_type": "raw",
   "id": "ac4a57a1",
   "metadata": {},
   "source": [
    "Data Cleaning & Rearranging"
   ]
  },
  {
   "cell_type": "code",
   "execution_count": null,
   "id": "ddbd1e06",
   "metadata": {},
   "outputs": [],
   "source": [
    "#Rename the columns\n",
    "col_names = [\"Months\", \"US_Covid\", \"CA_Covid\"]\n",
    "\n",
    "#Recreate the DataFrame\n",
    "covid_db = pd.read_csv (csv_covid)\n",
    "\n",
    "#add column names\n",
    "covid_db.columns = col_names\n",
    "covid_db"
   ]
  },
  {
   "cell_type": "code",
   "execution_count": 1,
   "id": "434f6b90",
   "metadata": {},
   "outputs": [
    {
     "ename": "NameError",
     "evalue": "name 'pd' is not defined",
     "output_type": "error",
     "traceback": [
      "\u001b[1;31m---------------------------------------------------------------------------\u001b[0m",
      "\u001b[1;31mNameError\u001b[0m                                 Traceback (most recent call last)",
      "\u001b[1;32m~\\AppData\\Local\\Temp/ipykernel_10376/2719405353.py\u001b[0m in \u001b[0;36m<module>\u001b[1;34m\u001b[0m\n\u001b[0;32m      1\u001b[0m \u001b[1;31m# Join the datas for inflation analysis\u001b[0m\u001b[1;33m\u001b[0m\u001b[1;33m\u001b[0m\u001b[1;33m\u001b[0m\u001b[0m\n\u001b[1;32m----> 2\u001b[1;33m \u001b[0meffect_db\u001b[0m \u001b[1;33m=\u001b[0m \u001b[0mpd\u001b[0m\u001b[1;33m.\u001b[0m\u001b[0mmerge\u001b[0m\u001b[1;33m(\u001b[0m \u001b[0minflation_db\u001b[0m\u001b[1;33m,\u001b[0m\u001b[0mcovid_db\u001b[0m\u001b[1;33m,\u001b[0m \u001b[0mon\u001b[0m\u001b[1;33m=\u001b[0m\u001b[1;34m\"Months\"\u001b[0m\u001b[1;33m)\u001b[0m\u001b[1;33m\u001b[0m\u001b[1;33m\u001b[0m\u001b[0m\n\u001b[0m\u001b[0;32m      3\u001b[0m \u001b[0meffect_db\u001b[0m\u001b[1;33m.\u001b[0m\u001b[0mhead\u001b[0m\u001b[1;33m(\u001b[0m\u001b[1;33m)\u001b[0m\u001b[1;33m\u001b[0m\u001b[1;33m\u001b[0m\u001b[0m\n",
      "\u001b[1;31mNameError\u001b[0m: name 'pd' is not defined"
     ]
    }
   ],
   "source": [
    "# Join the datas for inflation analysis\n",
    "effect_db = pd.merge( inflation_db,covid_db, on=\"Months\")\n",
    "effect_db.head()"
   ]
  },
  {
   "cell_type": "code",
   "execution_count": null,
   "id": "f12841a4",
   "metadata": {},
   "outputs": [],
   "source": [
    "#Count nulls\n",
    "effect_db.isnull().head()"
   ]
  },
  {
   "cell_type": "code",
   "execution_count": null,
   "id": "f301aa08",
   "metadata": {},
   "outputs": [],
   "source": [
    "#pulling Food_CA, Shelter_CA and CA_Covid from the database\n",
    "canada_df = effect_db[[\"Food_CA\", \"Shelter_CA\", \"CA_Covid\"]]\n",
    "canada_df.head()"
   ]
  },
  {
   "cell_type": "code",
   "execution_count": null,
   "id": "61b1ab0b",
   "metadata": {},
   "outputs": [],
   "source": [
    "#finding a correlation between covid cases and inflation rate of food and shelter in CA\n",
    "correlation = canada_df.corr()\n",
    "correlation"
   ]
  },
  {
   "cell_type": "code",
   "execution_count": null,
   "id": "2a610349",
   "metadata": {},
   "outputs": [],
   "source": [
    "#plotting heatmap based on correlation\n",
    "sns.heatmap(correlation)"
   ]
  },
  {
   "cell_type": "code",
   "execution_count": null,
   "id": "90d279f7",
   "metadata": {},
   "outputs": [],
   "source": [
    "##pulling Food_US, Shelter_US and US_Covid from the database\n",
    "us_df = effect_db[[\"Food_US\", \"Shelter_US\", \"US_Covid\"]]\n",
    "us_df.head()"
   ]
  },
  {
   "cell_type": "code",
   "execution_count": null,
   "id": "c4b84e47",
   "metadata": {},
   "outputs": [],
   "source": [
    "#finding a correlation between covid cases and inflation rate of food and shelter in US\n",
    "correlation = us_df.corr()\n",
    "correlation"
   ]
  },
  {
   "cell_type": "code",
   "execution_count": null,
   "id": "afbf6811",
   "metadata": {},
   "outputs": [],
   "source": [
    "#plotting heatmap based on correlation\n",
    "sns.heatmap(correlation)"
   ]
  },
  {
   "cell_type": "code",
   "execution_count": null,
   "id": "39841e57",
   "metadata": {},
   "outputs": [],
   "source": []
  }
 ],
 "metadata": {
  "kernelspec": {
   "display_name": "Python 3 (ipykernel)",
   "language": "python",
   "name": "python3"
  },
  "language_info": {
   "codemirror_mode": {
    "name": "ipython",
    "version": 3
   },
   "file_extension": ".py",
   "mimetype": "text/x-python",
   "name": "python",
   "nbconvert_exporter": "python",
   "pygments_lexer": "ipython3",
   "version": "3.7.11"
  }
 },
 "nbformat": 4,
 "nbformat_minor": 5
}
