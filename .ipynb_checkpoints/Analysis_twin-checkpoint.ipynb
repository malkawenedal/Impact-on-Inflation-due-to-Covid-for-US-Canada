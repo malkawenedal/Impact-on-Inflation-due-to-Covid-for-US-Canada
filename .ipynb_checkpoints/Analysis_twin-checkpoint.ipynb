{
 "cells": [
  {
   "cell_type": "markdown",
   "id": "8863a5e7",
   "metadata": {},
   "source": [
    "## Calculate and plot the rolling standard deviation for inflation rate  and covid cases of US   \n"
   ]
  },
  {
   "cell_type": "code",
   "execution_count": null,
   "id": "286e688f",
   "metadata": {},
   "outputs": [],
   "source": [
    "#Calculate and plot the rolling standard deviation for inflation rate of US  and covid cases us \n",
    "inf_cas_us=combined_df[[\"Inflation_US\",\"Covid_Cases_US\"]]\n",
    "inf_cas_us.head()"
   ]
  },
  {
   "cell_type": "code",
   "execution_count": null,
   "id": "57704249",
   "metadata": {},
   "outputs": [],
   "source": [
    "inf_cas_us.to_csv(\"inflation_rate& covid cases of US.csv\")"
   ]
  },
  {
   "cell_type": "code",
   "execution_count": null,
   "id": "d4ff602c",
   "metadata": {},
   "outputs": [],
   "source": [
    "inf_cas_us.dtypes"
   ]
  },
  {
   "cell_type": "code",
   "execution_count": null,
   "id": "c49c4f4f",
   "metadata": {},
   "outputs": [],
   "source": [
    "inf_cas_us.rolling(window=7).std().plot(figsize=(10,5), title= \"7 day rolling standard deviation for inflation rate and covid cases of US\")"
   ]
  },
  {
   "cell_type": "code",
   "execution_count": null,
   "id": "d31ffa96",
   "metadata": {},
   "outputs": [],
   "source": [
    "# create figure and axis objects with subplots()\n",
    "std_plot=inf_cas_us.rolling(window=7).std()\n",
    "\n",
    "fig_std,ax_std=plt.subplots()\n",
    "ax_std.plot(years_months_df[\"Month & Year\"], std_plot[\"Inflation_US\"], marker=\"o\")\n",
    "ax_std.set_xlabel(\"Month & Year\")\n",
    "ax_std.set_ylabel(\"Inflation STD\")\n",
    "ax_std.plot(years_months_df[\"Month & Year\"], std_plot[\"Covid_Cases_US\"], marker=\"o\")\n",
    "plt.show()"
   ]
  },
  {
   "cell_type": "markdown",
   "id": "4f2a2abe",
   "metadata": {},
   "source": [
    "## Twin plot for STD (Covid cases & Inflation)"
   ]
  },
  {
   "cell_type": "code",
   "execution_count": null,
   "id": "17265fe7",
   "metadata": {},
   "outputs": [],
   "source": [
    "# create figure and axis objects with subplots()\n",
    "fig_std,ax_std = plt.subplots()\n",
    "# make a plot\n",
    "ax_std.plot(years_months_df[\"Month & Year\"], std_plot[\"Inflation_US\"], marker=\"d\")\n",
    "# set x-axis label\n",
    "ax_std.set_xlabel(\"Month & Year\",fontsize=14)\n",
    "# set y-axis label\n",
    "ax_std.set_ylabel(\"Inflation US\",color=\"red\",fontsize=14)\n",
    "# twin object for two different y-axis on the sample plot\n",
    "ax2_std=ax_std.twinx()\n",
    "# make a plot with different y-axis using second axis object\n",
    "ax2_std.plot(years_months_df[\"Month & Year\"], std_plot[\"Covid_Cases_US\"],color=\"blue\",marker=\"d\")\n",
    "ax2_std.set_ylabel(\"Covid Cases US STD\",color=\"blue\",fontsize=14)\n",
    "plt.show()\n",
    "# save the plot as a file\n",
    "fig_st.savefig('2_seperate_axes_1_plot_twinx_std.jpg',\n",
    "            format='jpeg',\n",
    "            dpi=100,\n",
    "            bbox_inches='tight')"
   ]
  },
  {
   "cell_type": "code",
   "execution_count": null,
   "id": "1f2f3a9c",
   "metadata": {},
   "outputs": [],
   "source": [
    "# Reading and type casting columns in our csv file.\n",
    "combined_df= pd.read_csv(\"US&CA Dataset - US&CA Dataset.csv\",\n",
    "                        dtype ={\n",
    "                            \"Date\" : str,\n",
    "                            \"Inflation_US\" :float,\n",
    "                            \"Covid_Cases_US\":int,\n",
    "                             \"Covid_Cases_CA\":int,\n",
    "                              \"Inflation_CA\": float\n",
    "                             })"
   ]
  },
  {
   "cell_type": "code",
   "execution_count": null,
   "id": "52b0cad0",
   "metadata": {},
   "outputs": [],
   "source": [
    "# importing pygal library\n",
    "import pygal\n",
    "# we will append data in list \n",
    "#a = []\n",
    "b = []\n",
    "c = []\n",
    "#d = []\n",
    "\n",
    "# creating object\n",
    "bar_chart = pygal.Bar()\n",
    "bar_chart = pygal.HorizontalBar()\n",
    "# adding range of months from 1 to 12\n",
    "#bar_chart.x_labels = map(str, range(2019,2020,2021))\n",
    "for index,row in combined_df.iterrows():\n",
    "    #a.append(row[\"Inflation_US\"])\n",
    "    b.append(row[\"Covid_Cases_US\"])\n",
    "    c.append(row[\"Covid_Cases_CA\"])\n",
    "    #d.append(row[\"Inflation_CA\"])\n",
    "   \n",
    "# adding the     \n",
    "#bar_chart.add(\"Inflation_US\", a)\n",
    "bar_chart.add(\"Covid_Cases_US\", b)\n",
    "bar_chart.add(\"Covid_Cases_CA\",c)\n",
    "#bar_chart.add(\"Inflation_CA\",d)\n",
    "\n",
    "# rendering  the file\n",
    "bar_chart.render_to_file(\"bar_chart.svg\")\n"
   ]
  },
  {
   "cell_type": "code",
   "execution_count": null,
   "id": "cf01c324",
   "metadata": {},
   "outputs": [],
   "source": []
  }
 ],
 "metadata": {
  "kernelspec": {
   "display_name": "Python 3 (ipykernel)",
   "language": "python",
   "name": "python3"
  },
  "language_info": {
   "codemirror_mode": {
    "name": "ipython",
    "version": 3
   },
   "file_extension": ".py",
   "mimetype": "text/x-python",
   "name": "python",
   "nbconvert_exporter": "python",
   "pygments_lexer": "ipython3",
   "version": "3.7.11"
  }
 },
 "nbformat": 4,
 "nbformat_minor": 5
}
